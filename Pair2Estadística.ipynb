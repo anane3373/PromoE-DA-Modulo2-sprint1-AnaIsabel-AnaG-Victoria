{
 "cells": [
  {
   "cell_type": "code",
   "execution_count": 2,
   "metadata": {},
   "outputs": [],
   "source": [
    "import pandas as pd\n",
    "import numpy as np\n",
    "from scipy import stats\n",
    "import matplotlib.pyplot as plt"
   ]
  },
  {
   "cell_type": "code",
   "execution_count": 3,
   "metadata": {},
   "outputs": [
    {
     "data": {
      "text/html": [
       "<div>\n",
       "<style scoped>\n",
       "    .dataframe tbody tr th:only-of-type {\n",
       "        vertical-align: middle;\n",
       "    }\n",
       "\n",
       "    .dataframe tbody tr th {\n",
       "        vertical-align: top;\n",
       "    }\n",
       "\n",
       "    .dataframe thead th {\n",
       "        text-align: right;\n",
       "    }\n",
       "</style>\n",
       "<table border=\"1\" class=\"dataframe\">\n",
       "  <thead>\n",
       "    <tr style=\"text-align: right;\">\n",
       "      <th></th>\n",
       "      <th>Location</th>\n",
       "      <th>Number of Households (in 1000)</th>\n",
       "      <th>Percentage of households with pets</th>\n",
       "      <th>Number of Pet Households (in 1000)</th>\n",
       "      <th>Percentage of Dog Owners</th>\n",
       "      <th>Dog Owning Households (1000s)</th>\n",
       "      <th>Mean Number of Dogs per household</th>\n",
       "      <th>Dog Population (in 1000)</th>\n",
       "      <th>Percentage of Cat Owners</th>\n",
       "      <th>Cat Owning Households</th>\n",
       "      <th>Mean Number of Cats</th>\n",
       "      <th>Cat Population</th>\n",
       "    </tr>\n",
       "  </thead>\n",
       "  <tbody>\n",
       "    <tr>\n",
       "      <th>25</th>\n",
       "      <td>Nebraska</td>\n",
       "      <td>710.00</td>\n",
       "      <td>51.3</td>\n",
       "      <td>364.00</td>\n",
       "      <td>33.8</td>\n",
       "      <td>240.0</td>\n",
       "      <td>1.6</td>\n",
       "      <td>374.0</td>\n",
       "      <td>31.3</td>\n",
       "      <td>222.0</td>\n",
       "      <td>2.3</td>\n",
       "      <td>514.00</td>\n",
       "    </tr>\n",
       "    <tr>\n",
       "      <th>18</th>\n",
       "      <td>Maryland</td>\n",
       "      <td>2.17</td>\n",
       "      <td>52.3</td>\n",
       "      <td>1.13</td>\n",
       "      <td>30.8</td>\n",
       "      <td>667.0</td>\n",
       "      <td>1.4</td>\n",
       "      <td>915.0</td>\n",
       "      <td>29.8</td>\n",
       "      <td>645.0</td>\n",
       "      <td>2.6</td>\n",
       "      <td>1.68</td>\n",
       "    </tr>\n",
       "  </tbody>\n",
       "</table>\n",
       "</div>"
      ],
      "text/plain": [
       "    Location  Number of Households (in 1000)  \\\n",
       "25  Nebraska                          710.00   \n",
       "18  Maryland                            2.17   \n",
       "\n",
       "    Percentage of households with pets  Number of Pet Households (in 1000)  \\\n",
       "25                                51.3                              364.00   \n",
       "18                                52.3                                1.13   \n",
       "\n",
       "    Percentage of Dog Owners  Dog Owning Households (1000s)  \\\n",
       "25                      33.8                          240.0   \n",
       "18                      30.8                          667.0   \n",
       "\n",
       "    Mean Number of Dogs per household  Dog Population (in 1000)  \\\n",
       "25                                1.6                     374.0   \n",
       "18                                1.4                     915.0   \n",
       "\n",
       "    Percentage of Cat Owners  Cat Owning Households  Mean Number of Cats  \\\n",
       "25                      31.3                  222.0                  2.3   \n",
       "18                      29.8                  645.0                  2.6   \n",
       "\n",
       "    Cat Population  \n",
       "25          514.00  \n",
       "18            1.68  "
      ]
     },
     "execution_count": 3,
     "metadata": {},
     "output_type": "execute_result"
    }
   ],
   "source": [
    "dfpets = pd.read_csv(\"DATOS/df_pets.csv\", index_col= \"Unnamed: 0\")\n",
    "dfpets.sample(2)"
   ]
  },
  {
   "cell_type": "code",
   "execution_count": 4,
   "metadata": {},
   "outputs": [
    {
     "name": "stdout",
     "output_type": "stream",
     "text": [
      "la media de hogares con perros es de 308.04\n",
      "la mediana de hogares con perros es de 190.0\n",
      "el número máximo de hogares con perros es de 989.0\n",
      "el número mínimo de hogares con perros es de 1.01\n"
     ]
    }
   ],
   "source": [
    "# media, mediana, moda, máximo y mínimo\n",
    "\n",
    "mediadog = round(dfpets[\"Dog Owning Households (1000s)\"].mean(), 2)\n",
    "print(f\"la media de hogares con perros es de {mediadog}\")\n",
    "medianadog = round(dfpets[\"Dog Owning Households (1000s)\"].median(), 2)\n",
    "print(f\"la mediana de hogares con perros es de {medianadog}\")\n",
    "maxdog = round(dfpets[\"Dog Owning Households (1000s)\"].max(), 2)\n",
    "print(f\"el número máximo de hogares con perros es de {maxdog}\")\n",
    "mindog = round(dfpets[\"Dog Owning Households (1000s)\"].min(), 2)\n",
    "print(f\"el número mínimo de hogares con perros es de {mindog}\")"
   ]
  },
  {
   "cell_type": "code",
   "execution_count": 5,
   "metadata": {},
   "outputs": [
    {
     "name": "stdout",
     "output_type": "stream",
     "text": [
      "el percentil 25 es 2.72\n",
      "el percentil 75 es 584.0\n"
     ]
    }
   ],
   "source": [
    "# Percentiles 25, 75\n",
    "\n",
    "percentil25 = np.percentile(dfpets[\"Dog Owning Households (1000s)\"], 25)\n",
    "print (f\"el percentil 25 es {percentil25}\")\n",
    "\n",
    "percentil75 = np.percentile(dfpets[\"Dog Owning Households (1000s)\"], 75)\n",
    "print (f\"el percentil 75 es {percentil75}\")"
   ]
  },
  {
   "cell_type": "code",
   "execution_count": 6,
   "metadata": {},
   "outputs": [
    {
     "data": {
      "text/plain": [
       "581.28"
      ]
     },
     "execution_count": 6,
     "metadata": {},
     "output_type": "execute_result"
    }
   ],
   "source": [
    "# Rango Intercualtílico\n",
    "\n",
    "rangointerdog = percentil75 - percentil25\n",
    "rangointerdog"
   ]
  },
  {
   "cell_type": "code",
   "execution_count": 7,
   "metadata": {},
   "outputs": [
    {
     "data": {
      "image/png": "[encoded data removed]",
      "text/plain": [
       "<Figure size 432x288 with 1 Axes>"
      ]
     },
     "metadata": {
      "needs_background": "light"
     },
     "output_type": "display_data"
    }
   ],
   "source": [
    "# Boxplot de Dog Owning Households (1000s):\n",
    "\n",
    "plt.boxplot(x= dfpets[\"Dog Owning Households (1000s)\"]);"
   ]
  },
  {
   "cell_type": "code",
   "execution_count": 8,
   "metadata": {},
   "outputs": [],
   "source": [
    "# Tabla de frecuencias cualitativa:\n",
    "\n",
    "def añadir_categoria(col):\n",
    "    if col <= 250.00:\n",
    "        return \"baja\"\n",
    "    elif col > 250.01 and col <= 500.00:\n",
    "        return \"media\"\n",
    "    else:\n",
    "        return \"alta\""
   ]
  },
  {
   "cell_type": "code",
   "execution_count": 9,
   "metadata": {},
   "outputs": [],
   "source": [
    "dfpets[\"dog_owning_category\"] = dfpets[\"Dog Owning Households (1000s)\"].apply(añadir_categoria)"
   ]
  },
  {
   "cell_type": "code",
   "execution_count": 10,
   "metadata": {},
   "outputs": [],
   "source": [
    "dfpets.to_csv(\"DATOS/df_pets.csv\")"
   ]
  },
  {
   "cell_type": "code",
   "execution_count": 11,
   "metadata": {},
   "outputs": [
    {
     "data": {
      "text/html": [
       "<div>\n",
       "<style scoped>\n",
       "    .dataframe tbody tr th:only-of-type {\n",
       "        vertical-align: middle;\n",
       "    }\n",
       "\n",
       "    .dataframe tbody tr th {\n",
       "        vertical-align: top;\n",
       "    }\n",
       "\n",
       "    .dataframe thead th {\n",
       "        text-align: right;\n",
       "    }\n",
       "</style>\n",
       "<table border=\"1\" class=\"dataframe\">\n",
       "  <thead>\n",
       "    <tr style=\"text-align: right;\">\n",
       "      <th></th>\n",
       "      <th>Location</th>\n",
       "      <th>Number of Households (in 1000)</th>\n",
       "      <th>Percentage of households with pets</th>\n",
       "      <th>Number of Pet Households (in 1000)</th>\n",
       "      <th>Percentage of Dog Owners</th>\n",
       "      <th>Dog Owning Households (1000s)</th>\n",
       "      <th>Mean Number of Dogs per household</th>\n",
       "      <th>Dog Population (in 1000)</th>\n",
       "      <th>Percentage of Cat Owners</th>\n",
       "      <th>Cat Owning Households</th>\n",
       "      <th>Mean Number of Cats</th>\n",
       "      <th>Cat Population</th>\n",
       "      <th>dog_owning_category</th>\n",
       "    </tr>\n",
       "  </thead>\n",
       "  <tbody>\n",
       "    <tr>\n",
       "      <th>37</th>\n",
       "      <td>Rhode Island</td>\n",
       "      <td>434.00</td>\n",
       "      <td>53.0</td>\n",
       "      <td>230.00</td>\n",
       "      <td>29.3</td>\n",
       "      <td>127.00</td>\n",
       "      <td>1.3</td>\n",
       "      <td>161.00</td>\n",
       "      <td>27.6</td>\n",
       "      <td>120.00</td>\n",
       "      <td>1.8</td>\n",
       "      <td>212.00</td>\n",
       "      <td>baja</td>\n",
       "    </tr>\n",
       "    <tr>\n",
       "      <th>8</th>\n",
       "      <td>Florida</td>\n",
       "      <td>7.61</td>\n",
       "      <td>54.4</td>\n",
       "      <td>4.14</td>\n",
       "      <td>35.7</td>\n",
       "      <td>2.72</td>\n",
       "      <td>1.5</td>\n",
       "      <td>4.21</td>\n",
       "      <td>27.3</td>\n",
       "      <td>2.08</td>\n",
       "      <td>2.1</td>\n",
       "      <td>4.38</td>\n",
       "      <td>baja</td>\n",
       "    </tr>\n",
       "  </tbody>\n",
       "</table>\n",
       "</div>"
      ],
      "text/plain": [
       "        Location  Number of Households (in 1000)  \\\n",
       "37  Rhode Island                          434.00   \n",
       "8        Florida                            7.61   \n",
       "\n",
       "    Percentage of households with pets  Number of Pet Households (in 1000)  \\\n",
       "37                                53.0                              230.00   \n",
       "8                                 54.4                                4.14   \n",
       "\n",
       "    Percentage of Dog Owners  Dog Owning Households (1000s)  \\\n",
       "37                      29.3                         127.00   \n",
       "8                       35.7                           2.72   \n",
       "\n",
       "    Mean Number of Dogs per household  Dog Population (in 1000)  \\\n",
       "37                                1.3                    161.00   \n",
       "8                                 1.5                      4.21   \n",
       "\n",
       "    Percentage of Cat Owners  Cat Owning Households  Mean Number of Cats  \\\n",
       "37                      27.6                 120.00                  1.8   \n",
       "8                       27.3                   2.08                  2.1   \n",
       "\n",
       "    Cat Population dog_owning_category  \n",
       "37          212.00                baja  \n",
       "8             4.38                baja  "
      ]
     },
     "execution_count": 11,
     "metadata": {},
     "output_type": "execute_result"
    }
   ],
   "source": [
    "dfpets.sample(2)"
   ]
  },
  {
   "cell_type": "code",
   "execution_count": 12,
   "metadata": {},
   "outputs": [
    {
     "data": {
      "text/html": [
       "<div>\n",
       "<style scoped>\n",
       "    .dataframe tbody tr th:only-of-type {\n",
       "        vertical-align: middle;\n",
       "    }\n",
       "\n",
       "    .dataframe tbody tr th {\n",
       "        vertical-align: top;\n",
       "    }\n",
       "\n",
       "    .dataframe thead th {\n",
       "        text-align: right;\n",
       "    }\n",
       "</style>\n",
       "<table border=\"1\" class=\"dataframe\">\n",
       "  <thead>\n",
       "    <tr style=\"text-align: right;\">\n",
       "      <th></th>\n",
       "      <th>dog_owning_category</th>\n",
       "      <th>Location</th>\n",
       "    </tr>\n",
       "  </thead>\n",
       "  <tbody>\n",
       "    <tr>\n",
       "      <th>0</th>\n",
       "      <td>alta</td>\n",
       "      <td>15</td>\n",
       "    </tr>\n",
       "    <tr>\n",
       "      <th>1</th>\n",
       "      <td>baja</td>\n",
       "      <td>27</td>\n",
       "    </tr>\n",
       "    <tr>\n",
       "      <th>2</th>\n",
       "      <td>media</td>\n",
       "      <td>7</td>\n",
       "    </tr>\n",
       "  </tbody>\n",
       "</table>\n",
       "</div>"
      ],
      "text/plain": [
       "  dog_owning_category  Location\n",
       "0                alta        15\n",
       "1                baja        27\n",
       "2               media         7"
      ]
     },
     "execution_count": 12,
     "metadata": {},
     "output_type": "execute_result"
    }
   ],
   "source": [
    "# vamos a filtrar sólo por por location para que no aparezcan todas las columnas con el mismo número de count\n",
    "\n",
    "dfpets_dog = dfpets.groupby(\"dog_owning_category\")[\"Location\"].count().reset_index()\n",
    "dfpets_dog"
   ]
  },
  {
   "cell_type": "code",
   "execution_count": 13,
   "metadata": {},
   "outputs": [
    {
     "data": {
      "image/png": "[encoded data removed]",
      "text/plain": [
       "<Figure size 720x360 with 1 Axes>"
      ]
     },
     "metadata": {},
     "output_type": "display_data"
    }
   ],
   "source": [
    "# Frecuencia relativa:\n",
    "\n",
    "plt.figure(figsize = (10,5))\n",
    "plt.pie(dfpets_dog[\"Location\"], labels= dfpets_dog[\"dog_owning_category\"], autopct='%.2f%%', radius = 1)\n",
    "plt.title(\"Porcentaje de dueños de perros por categría\");"
   ]
  },
  {
   "cell_type": "code",
   "execution_count": 14,
   "metadata": {},
   "outputs": [
    {
     "data": {
      "text/html": [
       "<div>\n",
       "<style scoped>\n",
       "    .dataframe tbody tr th:only-of-type {\n",
       "        vertical-align: middle;\n",
       "    }\n",
       "\n",
       "    .dataframe tbody tr th {\n",
       "        vertical-align: top;\n",
       "    }\n",
       "\n",
       "    .dataframe thead th {\n",
       "        text-align: right;\n",
       "    }\n",
       "</style>\n",
       "<table border=\"1\" class=\"dataframe\">\n",
       "  <thead>\n",
       "    <tr style=\"text-align: right;\">\n",
       "      <th></th>\n",
       "      <th>Number of Pet Households (in 1000)</th>\n",
       "      <th>Location</th>\n",
       "    </tr>\n",
       "  </thead>\n",
       "  <tbody>\n",
       "    <tr>\n",
       "      <th>0</th>\n",
       "      <td>1.09</td>\n",
       "      <td>2</td>\n",
       "    </tr>\n",
       "    <tr>\n",
       "      <th>10</th>\n",
       "      <td>1.61</td>\n",
       "      <td>2</td>\n",
       "    </tr>\n",
       "    <tr>\n",
       "      <th>12</th>\n",
       "      <td>2.09</td>\n",
       "      <td>2</td>\n",
       "    </tr>\n",
       "    <tr>\n",
       "      <th>43</th>\n",
       "      <td>937.00</td>\n",
       "      <td>1</td>\n",
       "    </tr>\n",
       "    <tr>\n",
       "      <th>34</th>\n",
       "      <td>476.00</td>\n",
       "      <td>1</td>\n",
       "    </tr>\n",
       "  </tbody>\n",
       "</table>\n",
       "</div>"
      ],
      "text/plain": [
       "    Number of Pet Households (in 1000)  Location\n",
       "0                                 1.09         2\n",
       "10                                1.61         2\n",
       "12                                2.09         2\n",
       "43                              937.00         1\n",
       "34                              476.00         1"
      ]
     },
     "execution_count": 14,
     "metadata": {},
     "output_type": "execute_result"
    }
   ],
   "source": [
    "# Tabla de frecuencias cuantitativa:\n",
    "\n",
    "dfpets_house = dfpets.groupby(\"Number of Pet Households (in 1000)\")[\"Location\"].count().reset_index().sort_values(by = \"Location\", ascending = False)\n",
    "dfpets_house.head()"
   ]
  }
 ],
 "metadata": {
  "kernelspec": {
   "display_name": "base",
   "language": "python",
   "name": "python3"
  },
  "language_info": {
   "codemirror_mode": {
    "name": "ipython",
    "version": 3
   },
   "file_extension": ".py",
   "mimetype": "text/x-python",
   "name": "python",
   "nbconvert_exporter": "python",
   "pygments_lexer": "ipython3",
   "version": "3.9.7"
  },
  "orig_nbformat": 4
 },
 "nbformat": 4,
 "nbformat_minor": 2
}
