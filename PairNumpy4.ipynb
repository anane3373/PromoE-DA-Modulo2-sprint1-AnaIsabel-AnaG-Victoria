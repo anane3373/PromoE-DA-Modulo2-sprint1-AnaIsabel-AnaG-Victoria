{
 "cells": [
  {
   "cell_type": "code",
   "execution_count": 1,
   "metadata": {},
   "outputs": [],
   "source": [
    "import numpy as np"
   ]
  },
  {
   "cell_type": "code",
   "execution_count": 2,
   "metadata": {},
   "outputs": [
    {
     "data": {
      "text/plain": [
       "array([[0.37454012, 0.95071431, 0.73199394],\n",
       "       [0.59865848, 0.15601864, 0.15599452]])"
      ]
     },
     "execution_count": 2,
     "metadata": {},
     "output_type": "execute_result"
    }
   ],
   "source": [
    "#¿Cómo podemos crear dos arrays de dos dimensiones usando el método random_sample que tengan los mismos valores?\n",
    "\n",
    "np.random.seed(42)\n",
    "arraybi1 = np.random.random_sample((2,3))\n",
    "arraybi1\n"
   ]
  },
  {
   "cell_type": "code",
   "execution_count": 3,
   "metadata": {},
   "outputs": [
    {
     "data": {
      "text/plain": [
       "array([[0.37454012, 0.95071431, 0.73199394],\n",
       "       [0.59865848, 0.15601864, 0.15599452]])"
      ]
     },
     "execution_count": 3,
     "metadata": {},
     "output_type": "execute_result"
    }
   ],
   "source": [
    "np.random.seed(42)\n",
    "arraybi2 = np.random.random_sample((2,3))\n",
    "arraybi2"
   ]
  },
  {
   "cell_type": "code",
   "execution_count": 4,
   "metadata": {},
   "outputs": [
    {
     "data": {
      "text/plain": [
       "array([[[ 1.,  9.,  6.,  7.,  0.],\n",
       "        [10.,  8.,  2.,  2.,  2.],\n",
       "        [ 3.,  5.,  4.,  3.,  6.]],\n",
       "\n",
       "       [[ 1.,  3.,  4.,  5.,  8.],\n",
       "        [ 2.,  5.,  6.,  0.,  6.],\n",
       "        [ 2.,  1.,  9., 10.,  8.]]])"
      ]
     },
     "execution_count": 4,
     "metadata": {},
     "output_type": "execute_result"
    }
   ],
   "source": [
    "#Un array de tres dimensiones con distribución uniforme de 2 x 3 x 5, con números entre 0 y 10, \n",
    "# que no tengan decimales y extrae sus valores únicos almacenándolos en una variable.\n",
    "\n",
    "arraytri1 = np.round(np.random.uniform(0,10,size =(2,3,5)),0)\n",
    "arraytri1\n"
   ]
  },
  {
   "cell_type": "code",
   "execution_count": 5,
   "metadata": {},
   "outputs": [
    {
     "data": {
      "text/plain": [
       "array([ 0.,  1.,  2.,  3.,  4.,  5.,  6.,  7.,  8.,  9., 10.])"
      ]
     },
     "execution_count": 5,
     "metadata": {},
     "output_type": "execute_result"
    }
   ],
   "source": [
    "arraytri1_unico = np.unique(arraytri1)\n",
    "arraytri1_unico"
   ]
  },
  {
   "cell_type": "code",
   "execution_count": 6,
   "metadata": {},
   "outputs": [
    {
     "data": {
      "text/plain": [
       "array([[[2, 1, 4, 3, 1],\n",
       "        [3, 1, 5, 2, 4],\n",
       "        [2, 3, 3, 2, 6]],\n",
       "\n",
       "       [[4, 5, 5, 3, 5],\n",
       "        [1, 2, 1, 2, 3],\n",
       "        [2, 4, 2, 2, 3]]])"
      ]
     },
     "execution_count": 6,
     "metadata": {},
     "output_type": "execute_result"
    }
   ],
   "source": [
    "#Un array de tres dimensiones con distribución binomial de 2 x 3 x 5, \n",
    "# con probabilidad de 0.3 y número de pruebas igual a 10. Igual que antes, \n",
    "# extrae sus valores únicos y guarda los datos en una variable.\n",
    "\n",
    "arraytri2 = np.random.binomial(10,0.3, size= (2,3,5))\n",
    "arraytri2\n",
    "\n"
   ]
  },
  {
   "cell_type": "code",
   "execution_count": 7,
   "metadata": {},
   "outputs": [
    {
     "data": {
      "text/plain": [
       "array([1, 2, 3, 4, 5, 6])"
      ]
     },
     "execution_count": 7,
     "metadata": {},
     "output_type": "execute_result"
    }
   ],
   "source": [
    "arraytri2_unico = np.unique(arraytri2)\n",
    "arraytri2_unico"
   ]
  },
  {
   "cell_type": "code",
   "execution_count": 8,
   "metadata": {},
   "outputs": [
    {
     "data": {
      "text/plain": [
       "array([1., 2., 3., 4., 5., 6.])"
      ]
     },
     "execution_count": 8,
     "metadata": {},
     "output_type": "execute_result"
    }
   ],
   "source": [
    "#Usando los arrays de elementos únicos obtenidos en el ejercicio anterior realizad las siguientes operaciones:\n",
    "#Elementos comunes entre los dos arrays\n",
    "\n",
    "np.intersect1d(arraytri1_unico, arraytri2_unico)"
   ]
  },
  {
   "cell_type": "code",
   "execution_count": 9,
   "metadata": {},
   "outputs": [
    {
     "data": {
      "text/plain": [
       "array([ 0.,  1.,  2.,  3.,  4.,  5.,  6.,  7.,  8.,  9., 10.])"
      ]
     },
     "execution_count": 9,
     "metadata": {},
     "output_type": "execute_result"
    }
   ],
   "source": [
    "#Unión de los dos arrays\n",
    "\n",
    "np.union1d(arraytri1_unico, arraytri2_unico)"
   ]
  },
  {
   "cell_type": "code",
   "execution_count": 10,
   "metadata": {},
   "outputs": [
    {
     "data": {
      "text/plain": [
       "array([ 0.,  7.,  8.,  9., 10.])"
      ]
     },
     "execution_count": 10,
     "metadata": {},
     "output_type": "execute_result"
    }
   ],
   "source": [
    "#¿Qué elementos están en el array derivado de la distribución uniforme y no en los únicos de la distribución binomial? \n",
    "# Extrae los valores númericos\n",
    "#⚠️ Explicar cada uno de los outputs que os salgan. Que significa cada una de estas operaciones que hemos ido extrayendo?\n",
    "\n",
    "\n",
    "np.setdiff1d(arraytri1,arraytri2)\n",
    "\n"
   ]
  },
  {
   "cell_type": "code",
   "execution_count": 11,
   "metadata": {},
   "outputs": [
    {
     "data": {
      "text/plain": [
       "array([], dtype=int64)"
      ]
     },
     "execution_count": 11,
     "metadata": {},
     "output_type": "execute_result"
    }
   ],
   "source": [
    "np.setdiff1d(arraytri2,arraytri1)\n",
    "\n",
    "#Setfiff devuelve un array con los valores únicos del primer array, que no están en el segundo. Por lo tanto\n",
    "#el orden en el que introduzcamos los arrays importa."
   ]
  },
  {
   "cell_type": "code",
   "execution_count": 12,
   "metadata": {},
   "outputs": [],
   "source": [
    "#Cread dos arrays usando el método random.randint de Numpy con 80 elementos cada uno con números del 1-100, \n",
    "# con los siguientes nombres array1 y array2.\n",
    "\n",
    "array1 = np.random.randint(1, 101, 80)\n",
    "array2 = np.random.randint(1, 101, 80)"
   ]
  },
  {
   "cell_type": "code",
   "execution_count": 13,
   "metadata": {},
   "outputs": [
    {
     "data": {
      "text/plain": [
       "array([41, 29, 15, 45, 65, 89, 71,  9, 88,  1,  8, 88, 63, 11, 81,  8, 35,\n",
       "       35, 33,  5, 41, 28,  7, 73, 72, 12, 34, 33, 48, 23, 62, 88, 37, 99,\n",
       "       44, 86, 91, 35, 65, 99, 47, 78,  3,  1,  5, 90, 14, 27,  9, 79, 15,\n",
       "       90, 42, 77, 51, 63, 96, 52, 96,  4, 94, 23, 15, 43, 29, 36, 13, 32,\n",
       "       71, 59, 86, 28, 66, 42, 45, 62, 57,  6, 28, 28])"
      ]
     },
     "execution_count": 13,
     "metadata": {},
     "output_type": "execute_result"
    }
   ],
   "source": [
    "array1\n"
   ]
  },
  {
   "cell_type": "code",
   "execution_count": 14,
   "metadata": {},
   "outputs": [
    {
     "data": {
      "text/plain": [
       "array([44, 84, 30, 62, 75, 92, 89, 62, 97,  1, 27, 62, 77,  3, 70, 72, 27,\n",
       "        9, 62, 37, 97, 51, 44, 24, 79, 59, 32, 96, 88, 52, 62, 58, 52, 12,\n",
       "       39,  2,  3, 56, 81, 59,  2,  2, 92, 54, 87, 96, 97,  1, 19,  2, 53,\n",
       "       44, 90, 32, 70, 32, 68, 55, 75, 56, 17, 38, 24, 69, 98, 70, 86, 11,\n",
       "       16, 97, 73, 59, 70, 80, 93,  3, 20, 59, 36, 19])"
      ]
     },
     "execution_count": 14,
     "metadata": {},
     "output_type": "execute_result"
    }
   ],
   "source": [
    "array2"
   ]
  },
  {
   "cell_type": "code",
   "execution_count": 15,
   "metadata": {},
   "outputs": [],
   "source": [
    "#Extraed los valores únicos de cada uno de los arrays y los guardáis en variables en las que se les llame array1 y array2.\n",
    "array1_unico = np.unique(array1)\n",
    "array2_unico = np.unique(array2)\n"
   ]
  },
  {
   "cell_type": "code",
   "execution_count": 16,
   "metadata": {},
   "outputs": [
    {
     "data": {
      "text/plain": [
       "array([ 1,  3,  4,  5,  6,  7,  8,  9, 11, 12, 13, 14, 15, 23, 27, 28, 29,\n",
       "       32, 33, 34, 35, 36, 37, 41, 42, 43, 44, 45, 47, 48, 51, 52, 57, 59,\n",
       "       62, 63, 65, 66, 71, 72, 73, 77, 78, 79, 81, 86, 88, 89, 90, 91, 94,\n",
       "       96, 99])"
      ]
     },
     "execution_count": 16,
     "metadata": {},
     "output_type": "execute_result"
    }
   ],
   "source": [
    "array1_unico"
   ]
  },
  {
   "cell_type": "code",
   "execution_count": 17,
   "metadata": {},
   "outputs": [
    {
     "data": {
      "text/plain": [
       "array([ 1,  2,  3,  9, 11, 12, 16, 17, 19, 20, 24, 27, 30, 32, 36, 37, 38,\n",
       "       39, 44, 51, 52, 53, 54, 55, 56, 58, 59, 62, 68, 69, 70, 72, 73, 75,\n",
       "       77, 79, 80, 81, 84, 86, 87, 88, 89, 90, 92, 93, 96, 97, 98])"
      ]
     },
     "execution_count": 17,
     "metadata": {},
     "output_type": "execute_result"
    }
   ],
   "source": [
    "array2_unico"
   ]
  },
  {
   "cell_type": "code",
   "execution_count": 18,
   "metadata": {},
   "outputs": [
    {
     "data": {
      "text/plain": [
       "array([ 4,  5,  6,  7,  8, 13, 14, 15, 23, 28, 29, 33, 34, 35, 41, 42, 43,\n",
       "       45, 47, 48, 57, 63, 65, 66, 71, 78, 91, 94, 99])"
      ]
     },
     "execution_count": 18,
     "metadata": {},
     "output_type": "execute_result"
    }
   ],
   "source": [
    "#Identificad los elementos presentes en el array1 pero no en el array2 y asiganarlo a una variable que se llame array3.\n",
    "array3 = np.setdiff1d(array1_unico, array2_unico)\n",
    "array3"
   ]
  },
  {
   "cell_type": "code",
   "execution_count": 19,
   "metadata": {},
   "outputs": [
    {
     "data": {
      "text/plain": [
       "array([ 2, 16, 17, 19, 20, 24, 30, 38, 39, 53, 54, 55, 56, 58, 68, 69, 70,\n",
       "       75, 80, 84, 87, 92, 93, 97, 98])"
      ]
     },
     "execution_count": 19,
     "metadata": {},
     "output_type": "execute_result"
    }
   ],
   "source": [
    "#Identificad los elementos presentes en el array2 pero no en el array1 y asiganarlo a una variable que se llame array4.\n",
    "array4 = np.setdiff1d(array2_unico,array1_unico)\n",
    "array4"
   ]
  },
  {
   "cell_type": "code",
   "execution_count": 20,
   "metadata": {},
   "outputs": [
    {
     "data": {
      "text/plain": [
       "array([ 1,  3,  9, 11, 12, 27, 32, 36, 37, 44, 51, 52, 59, 62, 72, 73, 77,\n",
       "       79, 81, 86, 88, 89, 90, 96])"
      ]
     },
     "execution_count": 20,
     "metadata": {},
     "output_type": "execute_result"
    }
   ],
   "source": [
    "#Identificad los elementos presentes en ambos arrays y asiganarlos a una variable que se llame array5.\n",
    "array5 = np.intersect1d(array1_unico, array2_unico)\n",
    "array5"
   ]
  },
  {
   "cell_type": "code",
   "execution_count": 21,
   "metadata": {},
   "outputs": [],
   "source": [
    "#¿Cuál es la relación que existe entre todos estos arrays? \n",
    "# 💡 Pista 💡 Tendréis que usar las longitudes de cada uno de los arrays creados.\n"
   ]
  },
  {
   "cell_type": "code",
   "execution_count": 25,
   "metadata": {},
   "outputs": [
    {
     "data": {
      "text/plain": [
       "True"
      ]
     },
     "execution_count": 25,
     "metadata": {},
     "output_type": "execute_result"
    }
   ],
   "source": [
    "len_array1 = len(array1_unico)\n",
    "len_array2 = len(array2_unico)\n",
    "len_array3 = len(array3)              # dif array1_unico\n",
    "len_array4 = len(array4)             # dif array2_unico\n",
    "len_array5 = len(array5)            # intersección\n",
    "\n",
    "len_array1 + len_array2 == len_array3 + len_array4 + 2*len_array5\n",
    "len_array1 + len_array4 - len_array5 == len_array2 + len_array3 - len_array5"
   ]
  }
 ],
 "metadata": {
  "kernelspec": {
   "display_name": "base",
   "language": "python",
   "name": "python3"
  },
  "language_info": {
   "codemirror_mode": {
    "name": "ipython",
    "version": 3
   },
   "file_extension": ".py",
   "mimetype": "text/x-python",
   "name": "python",
   "nbconvert_exporter": "python",
   "pygments_lexer": "ipython3",
   "version": "3.9.7"
  },
  "orig_nbformat": 4
 },
 "nbformat": 4,
 "nbformat_minor": 2
}
