{
 "cells": [
  {
   "cell_type": "code",
   "execution_count": 1,
   "metadata": {},
   "outputs": [],
   "source": [
    "import numpy as np"
   ]
  },
  {
   "cell_type": "code",
   "execution_count": 13,
   "metadata": {},
   "outputs": [
    {
     "data": {
      "text/plain": [
       "array([[0.37454012, 0.95071431, 0.73199394],\n",
       "       [0.59865848, 0.15601864, 0.15599452]])"
      ]
     },
     "execution_count": 13,
     "metadata": {},
     "output_type": "execute_result"
    }
   ],
   "source": [
    "#¿Cómo podemos crear dos arrays de dos dimensiones usando el método random_sample que tengan los mismos valores?\n",
    "\n",
    "np.random.seed(42)\n",
    "arraybi1 = np.random.random_sample((2,3))\n",
    "arraybi1\n"
   ]
  },
  {
   "cell_type": "code",
   "execution_count": 14,
   "metadata": {},
   "outputs": [
    {
     "data": {
      "text/plain": [
       "array([[0.37454012, 0.95071431, 0.73199394],\n",
       "       [0.59865848, 0.15601864, 0.15599452]])"
      ]
     },
     "execution_count": 14,
     "metadata": {},
     "output_type": "execute_result"
    }
   ],
   "source": [
    "np.random.seed(42)\n",
    "arraybi2 = np.random.random_sample((2,3))\n",
    "arraybi2"
   ]
  },
  {
   "cell_type": "code",
   "execution_count": 37,
   "metadata": {},
   "outputs": [
    {
     "data": {
      "text/plain": [
       "array([[[10.,  2.,  0.,  5.,  2.],\n",
       "        [ 4.,  7.,  7.,  3.,  5.],\n",
       "        [ 5.,  6.,  3.,  6., 10.]],\n",
       "\n",
       "       [[ 5.,  9.,  4.,  4.,  6.],\n",
       "        [ 7.,  9.,  2.,  5.,  6.],\n",
       "        [ 8.,  0., 10.,  5.,  3.]]])"
      ]
     },
     "execution_count": 37,
     "metadata": {},
     "output_type": "execute_result"
    }
   ],
   "source": [
    "#Un array de tres dimensiones con distribución uniforme de 2 x 3 x 5, con números entre 0 y 10, \n",
    "# que no tengan decimales y extrae sus valores únicos almacenándolos en una variable.\n",
    "\n",
    "arraytri1 = np.round(np.random.uniform(0,10,size =(2,3,5)),0)\n",
    "arraytri1\n"
   ]
  },
  {
   "cell_type": "code",
   "execution_count": 38,
   "metadata": {},
   "outputs": [
    {
     "data": {
      "text/plain": [
       "array([ 0.,  2.,  3.,  4.,  5.,  6.,  7.,  8.,  9., 10.])"
      ]
     },
     "execution_count": 38,
     "metadata": {},
     "output_type": "execute_result"
    }
   ],
   "source": [
    "arraytri1_unico = np.unique(arraytri1)\n",
    "arraytri1_unico"
   ]
  },
  {
   "cell_type": "code",
   "execution_count": 43,
   "metadata": {},
   "outputs": [
    {
     "data": {
      "text/plain": [
       "array([[[5, 4, 6, 2, 3],\n",
       "        [3, 6, 1, 2, 2],\n",
       "        [2, 3, 2, 3, 4]],\n",
       "\n",
       "       [[5, 1, 2, 4, 2],\n",
       "        [2, 2, 2, 4, 1],\n",
       "        [4, 3, 2, 3, 2]]])"
      ]
     },
     "execution_count": 43,
     "metadata": {},
     "output_type": "execute_result"
    }
   ],
   "source": [
    "#Un array de tres dimensiones con distribución binomial de 2 x 3 x 5, \n",
    "# con probabilidad de 0.3 y número de pruebas igual a 10. Igual que antes, \n",
    "# extrae sus valores únicos y guarda los datos en una variable.\n",
    "\n",
    "arraytri2 = np.random.binomial(10,0.3, size= (2,3,5))\n",
    "arraytri2\n",
    "\n"
   ]
  },
  {
   "cell_type": "code",
   "execution_count": 21,
   "metadata": {},
   "outputs": [
    {
     "data": {
      "text/plain": [
       "array([0, 1, 2, 3, 4, 5, 6])"
      ]
     },
     "execution_count": 21,
     "metadata": {},
     "output_type": "execute_result"
    }
   ],
   "source": [
    "arraytri2_unico = np.unique(arraytri2)\n",
    "arraytri2_unico"
   ]
  },
  {
   "cell_type": "code",
   "execution_count": 39,
   "metadata": {},
   "outputs": [
    {
     "data": {
      "text/plain": [
       "array([0., 2., 3., 4., 5., 6.])"
      ]
     },
     "execution_count": 39,
     "metadata": {},
     "output_type": "execute_result"
    }
   ],
   "source": [
    "#Usando los arrays de elementos únicos obtenidos en el ejercicio anterior realizad las siguientes operaciones:\n",
    "#Elementos comunes entre los dos arrays\n",
    "\n",
    "np.intersect1d(arraytri1_unico, arraytri2_unico)"
   ]
  },
  {
   "cell_type": "code",
   "execution_count": 40,
   "metadata": {},
   "outputs": [
    {
     "data": {
      "text/plain": [
       "array([ 0.,  1.,  2.,  3.,  4.,  5.,  6.,  7.,  8.,  9., 10.])"
      ]
     },
     "execution_count": 40,
     "metadata": {},
     "output_type": "execute_result"
    }
   ],
   "source": [
    "#Unión de los dos arrays\n",
    "\n",
    "np.union1d(arraytri1_unico, arraytri2_unico)"
   ]
  },
  {
   "cell_type": "code",
   "execution_count": 44,
   "metadata": {},
   "outputs": [
    {
     "data": {
      "text/plain": [
       "array([ 0.,  7.,  8.,  9., 10.])"
      ]
     },
     "execution_count": 44,
     "metadata": {},
     "output_type": "execute_result"
    }
   ],
   "source": [
    "#¿Qué elementos están en el array derivado de la distribución uniforme y no en los únicos de la distribución binomial? \n",
    "# Extrae los valores númericos\n",
    "#⚠️ Explicar cada uno de los outputs que os salgan. Que significa cada una de estas operaciones que hemos ido extrayendo?\n",
    "\n",
    "\n",
    "np.setdiff1d(arraytri1,arraytri2)\n",
    "\n"
   ]
  },
  {
   "cell_type": "code",
   "execution_count": 45,
   "metadata": {},
   "outputs": [
    {
     "data": {
      "text/plain": [
       "array([1])"
      ]
     },
     "execution_count": 45,
     "metadata": {},
     "output_type": "execute_result"
    }
   ],
   "source": [
    "np.setdiff1d(arraytri2,arraytri1)\n",
    "\n",
    "#Setfiff devuelve un array con los valores únicos del primer array, que no están en el segundo. Por lo tanto\n",
    "#el orden en el que introduzcamos los arrays importa."
   ]
  },
  {
   "cell_type": "code",
   "execution_count": 46,
   "metadata": {},
   "outputs": [],
   "source": [
    "#Cread dos arrays usando el método random.randint de Numpy con 80 elementos cada uno con números del 1-100, \n",
    "# con los siguientes nombres array1 y array2.\n",
    "\n",
    "array1 = np.random.randint(1, 101, 80)\n",
    "array2 = np.random.randint(1, 101, 80)"
   ]
  },
  {
   "cell_type": "code",
   "execution_count": 48,
   "metadata": {},
   "outputs": [
    {
     "data": {
      "text/plain": [
       "array([24, 13, 60,  7, 57, 36, 45, 20, 65,  8, 16, 14, 76, 87, 15, 92, 98,\n",
       "       66, 32, 87, 63, 86, 51, 25, 58, 63, 62, 22, 58, 58, 86, 49, 52, 42,\n",
       "       70, 15, 54, 60, 97,  8, 53, 60,  5, 68,  6, 96, 94, 47, 99, 55, 40,\n",
       "       52, 16, 13, 30, 19, 17, 63, 19, 92, 58, 55, 90, 90, 62, 23,  9, 12,\n",
       "        1, 58,  1, 34, 96, 48, 89,  1, 16, 61, 64, 63])"
      ]
     },
     "execution_count": 48,
     "metadata": {},
     "output_type": "execute_result"
    }
   ],
   "source": [
    "array1\n"
   ]
  },
  {
   "cell_type": "code",
   "execution_count": 49,
   "metadata": {},
   "outputs": [
    {
     "data": {
      "text/plain": [
       "array([ 69,  22,  93,  67,  76,  26,  16,  51,  86,  57,  29,  78,  92,\n",
       "        69,  47,  94,  62,  69,  76,  16,  90,  90,  48,  85,  39, 100,\n",
       "        33,  94,  23,  10,  69, 100,  34,  52,  95,  10,  19,  58,  96,\n",
       "         1,  69,   4,  16,  24,  80,   2,  92,  32,  91,  84,  24,  12,\n",
       "        50,  35,  33,  33,  61,  51,  43,  12,  67,  65,  33,  40,  74,\n",
       "        43,  44,  29,  13,  12,  95,  46,   2,  35,  87,  81,  90,   8,\n",
       "        93,  26])"
      ]
     },
     "execution_count": 49,
     "metadata": {},
     "output_type": "execute_result"
    }
   ],
   "source": [
    "array2"
   ]
  },
  {
   "cell_type": "code",
   "execution_count": 50,
   "metadata": {},
   "outputs": [],
   "source": [
    "#Extraed los valores únicos de cada uno de los arrays y los guardáis en variables en las que se les llame array1 y array2.\n",
    "array1_unico = np.unique(array1)\n",
    "array2_unico = np.unique(array2)\n"
   ]
  },
  {
   "cell_type": "code",
   "execution_count": 51,
   "metadata": {},
   "outputs": [
    {
     "data": {
      "text/plain": [
       "array([ 1,  5,  6,  7,  8,  9, 12, 13, 14, 15, 16, 17, 19, 20, 22, 23, 24,\n",
       "       25, 30, 32, 34, 36, 40, 42, 45, 47, 48, 49, 51, 52, 53, 54, 55, 57,\n",
       "       58, 60, 61, 62, 63, 64, 65, 66, 68, 70, 76, 86, 87, 89, 90, 92, 94,\n",
       "       96, 97, 98, 99])"
      ]
     },
     "execution_count": 51,
     "metadata": {},
     "output_type": "execute_result"
    }
   ],
   "source": [
    "array1_unico"
   ]
  },
  {
   "cell_type": "code",
   "execution_count": 52,
   "metadata": {},
   "outputs": [
    {
     "data": {
      "text/plain": [
       "array([  1,   2,   4,   8,  10,  12,  13,  16,  19,  22,  23,  24,  26,\n",
       "        29,  32,  33,  34,  35,  39,  40,  43,  44,  46,  47,  48,  50,\n",
       "        51,  52,  57,  58,  61,  62,  65,  67,  69,  74,  76,  78,  80,\n",
       "        81,  84,  85,  86,  87,  90,  91,  92,  93,  94,  95,  96, 100])"
      ]
     },
     "execution_count": 52,
     "metadata": {},
     "output_type": "execute_result"
    }
   ],
   "source": [
    "array2_unico"
   ]
  },
  {
   "cell_type": "code",
   "execution_count": 54,
   "metadata": {},
   "outputs": [
    {
     "data": {
      "text/plain": [
       "array([ 5,  6,  7,  9, 14, 15, 17, 20, 25, 30, 36, 42, 45, 49, 53, 54, 55,\n",
       "       60, 63, 64, 66, 68, 70, 89, 97, 98, 99])"
      ]
     },
     "execution_count": 54,
     "metadata": {},
     "output_type": "execute_result"
    }
   ],
   "source": [
    "#Identificad los elementos presentes en el array1 pero no en el array2 y asiganarlo a una variable que se llame array3.\n",
    "array3 = np.setdiff1d(array1, array2)\n",
    "array3"
   ]
  },
  {
   "cell_type": "code",
   "execution_count": 55,
   "metadata": {},
   "outputs": [
    {
     "data": {
      "text/plain": [
       "array([  2,   4,  10,  26,  29,  33,  35,  39,  43,  44,  46,  50,  67,\n",
       "        69,  74,  78,  80,  81,  84,  85,  91,  93,  95, 100])"
      ]
     },
     "execution_count": 55,
     "metadata": {},
     "output_type": "execute_result"
    }
   ],
   "source": [
    "#Identificad los elementos presentes en el array2 pero no en el array1 y asiganarlo a una variable que se llame array4.\n",
    "array4 = np.setdiff1d(array2,array1)\n",
    "array4"
   ]
  },
  {
   "cell_type": "code",
   "execution_count": 57,
   "metadata": {},
   "outputs": [
    {
     "data": {
      "text/plain": [
       "array([ 1,  8, 12, 13, 16, 19, 22, 23, 24, 32, 34, 40, 47, 48, 51, 52, 57,\n",
       "       58, 61, 62, 65, 76, 86, 87, 90, 92, 94, 96])"
      ]
     },
     "execution_count": 57,
     "metadata": {},
     "output_type": "execute_result"
    }
   ],
   "source": [
    "#Identificad los elementos presentes en ambos arrays y asiganarlos a una variable que se llame array5.\n",
    "array5 = np.intersect1d(array1, array2)\n",
    "array5"
   ]
  },
  {
   "cell_type": "code",
   "execution_count": null,
   "metadata": {},
   "outputs": [],
   "source": [
    "#¿Cuál es la relación que existe entre todos estos arrays? \n",
    "# 💡 Pista 💡 Tendréis que usar las longitudes de cada uno de los arrays creados.\n",
    "\n",
    "\n",
    "#Ana profe = Simplificar, \n",
    "# con las longitudes de los numeros que sacamos, sacar como hay que operar esos numeros para sacar un TRUE"
   ]
  },
  {
   "cell_type": "code",
   "execution_count": 58,
   "metadata": {},
   "outputs": [],
   "source": [
    "len_array1 = len(array1)\n",
    "len_array2 = len(array2)\n",
    "len_array3 = len(array3)\n",
    "len_array5 = len(array5)\n",
    "\n"
   ]
  }
 ],
 "metadata": {
  "kernelspec": {
   "display_name": "base",
   "language": "python",
   "name": "python3"
  },
  "language_info": {
   "codemirror_mode": {
    "name": "ipython",
    "version": 3
   },
   "file_extension": ".py",
   "mimetype": "text/x-python",
   "name": "python",
   "nbconvert_exporter": "python",
   "pygments_lexer": "ipython3",
   "version": "3.9.7"
  },
  "orig_nbformat": 4
 },
 "nbformat": 4,
 "nbformat_minor": 2
}
