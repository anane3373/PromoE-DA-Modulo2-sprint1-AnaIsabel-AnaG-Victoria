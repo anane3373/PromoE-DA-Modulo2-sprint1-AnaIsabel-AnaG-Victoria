{
 "cells": [
  {
   "cell_type": "code",
   "execution_count": 1,
   "metadata": {},
   "outputs": [],
   "source": [
    "import pandas as pd \n",
    "import numpy as np\n",
    "import scipy as stats"
   ]
  },
  {
   "cell_type": "markdown",
   "metadata": {},
   "source": [
    "<h3>Cargamos el dataset</h3>"
   ]
  },
  {
   "cell_type": "code",
   "execution_count": 2,
   "metadata": {},
   "outputs": [],
   "source": [
    "df = pd.read_csv(\"DATOS/catsvdogs.csv\")"
   ]
  },
  {
   "cell_type": "code",
   "execution_count": 3,
   "metadata": {},
   "outputs": [
    {
     "data": {
      "text/html": [
       "<div>\n",
       "<style scoped>\n",
       "    .dataframe tbody tr th:only-of-type {\n",
       "        vertical-align: middle;\n",
       "    }\n",
       "\n",
       "    .dataframe tbody tr th {\n",
       "        vertical-align: top;\n",
       "    }\n",
       "\n",
       "    .dataframe thead th {\n",
       "        text-align: right;\n",
       "    }\n",
       "</style>\n",
       "<table border=\"1\" class=\"dataframe\">\n",
       "  <thead>\n",
       "    <tr style=\"text-align: right;\">\n",
       "      <th></th>\n",
       "      <th>Location</th>\n",
       "      <th>Number of Households (in 1000)</th>\n",
       "      <th>Percentage of households with pets</th>\n",
       "      <th>Number of Pet Households (in 1000)</th>\n",
       "      <th>Percentage of Dog Owners</th>\n",
       "      <th>Dog Owning Households (1000s)</th>\n",
       "      <th>Mean Number of Dogs per household</th>\n",
       "      <th>Dog Population (in 1000)</th>\n",
       "      <th>Percentage of Cat Owners</th>\n",
       "      <th>Cat Owning Households</th>\n",
       "      <th>Mean Number of Cats</th>\n",
       "      <th>Cat Population</th>\n",
       "      <th>Unnamed: 12</th>\n",
       "    </tr>\n",
       "  </thead>\n",
       "  <tbody>\n",
       "    <tr>\n",
       "      <th>43</th>\n",
       "      <td>Vermont</td>\n",
       "      <td>265</td>\n",
       "      <td>70.8</td>\n",
       "      <td>188</td>\n",
       "      <td>37.7</td>\n",
       "      <td>100</td>\n",
       "      <td>1.4</td>\n",
       "      <td>142</td>\n",
       "      <td>49.5</td>\n",
       "      <td>131</td>\n",
       "      <td>1.8</td>\n",
       "      <td>234</td>\n",
       "      <td>NaN</td>\n",
       "    </tr>\n",
       "    <tr>\n",
       "      <th>15</th>\n",
       "      <td>Kentucky</td>\n",
       "      <td>1,777</td>\n",
       "      <td>61.6</td>\n",
       "      <td>1,094</td>\n",
       "      <td>45.9</td>\n",
       "      <td>816</td>\n",
       "      <td>1.9</td>\n",
       "      <td>1,531</td>\n",
       "      <td>36.8</td>\n",
       "      <td>654</td>\n",
       "      <td>2.1</td>\n",
       "      <td>1,349</td>\n",
       "      <td>NaN</td>\n",
       "    </tr>\n",
       "  </tbody>\n",
       "</table>\n",
       "</div>"
      ],
      "text/plain": [
       "    Location Number of Households (in 1000)  \\\n",
       "43   Vermont                            265   \n",
       "15  Kentucky                          1,777   \n",
       "\n",
       "    Percentage of households with pets Number of Pet Households (in 1000)  \\\n",
       "43                                70.8                                188   \n",
       "15                                61.6                              1,094   \n",
       "\n",
       "    Percentage of Dog Owners Dog Owning Households (1000s)  \\\n",
       "43                      37.7                           100   \n",
       "15                      45.9                           816   \n",
       "\n",
       "    Mean Number of Dogs per household Dog Population (in 1000)  \\\n",
       "43                                1.4                      142   \n",
       "15                                1.9                    1,531   \n",
       "\n",
       "    Percentage of Cat Owners Cat Owning Households  Mean Number of Cats  \\\n",
       "43                      49.5                   131                  1.8   \n",
       "15                      36.8                   654                  2.1   \n",
       "\n",
       "   Cat Population  Unnamed: 12  \n",
       "43            234          NaN  \n",
       "15          1,349          NaN  "
      ]
     },
     "execution_count": 3,
     "metadata": {},
     "output_type": "execute_result"
    }
   ],
   "source": [
    "df.sample(2)"
   ]
  },
  {
   "cell_type": "code",
   "execution_count": 4,
   "metadata": {},
   "outputs": [],
   "source": [
    "df.drop([\"Unnamed: 12\"], axis = 1, inplace = True)\n",
    "#Eliminamos la columna de nulos"
   ]
  },
  {
   "cell_type": "code",
   "execution_count": 5,
   "metadata": {},
   "outputs": [
    {
     "data": {
      "text/plain": [
       "Location                              1\n",
       "Number of Households (in 1000)        1\n",
       "Percentage of households with pets    1\n",
       "Number of Pet Households (in 1000)    1\n",
       "Percentage of Dog Owners              1\n",
       "Dog Owning Households (1000s)         1\n",
       "Mean Number of Dogs per household     1\n",
       "Dog Population (in 1000)              1\n",
       "Percentage of Cat Owners              1\n",
       "Cat Owning Households                 1\n",
       "Mean Number of Cats                   1\n",
       "Cat Population                        1\n",
       "dtype: int64"
      ]
     },
     "execution_count": 5,
     "metadata": {},
     "output_type": "execute_result"
    }
   ],
   "source": [
    "#Analizamos los nulos restantes\n",
    "df.isna().sum()"
   ]
  },
  {
   "cell_type": "code",
   "execution_count": 6,
   "metadata": {},
   "outputs": [],
   "source": [
    "#Eliminamos los nulos restantes y asignamos en un nuevo dataframe\n",
    "dfpets = df.dropna()"
   ]
  },
  {
   "cell_type": "code",
   "execution_count": 7,
   "metadata": {},
   "outputs": [
    {
     "data": {
      "text/plain": [
       "Location                              0\n",
       "Number of Households (in 1000)        0\n",
       "Percentage of households with pets    0\n",
       "Number of Pet Households (in 1000)    0\n",
       "Percentage of Dog Owners              0\n",
       "Dog Owning Households (1000s)         0\n",
       "Mean Number of Dogs per household     0\n",
       "Dog Population (in 1000)              0\n",
       "Percentage of Cat Owners              0\n",
       "Cat Owning Households                 0\n",
       "Mean Number of Cats                   0\n",
       "Cat Population                        0\n",
       "dtype: int64"
      ]
     },
     "execution_count": 7,
     "metadata": {},
     "output_type": "execute_result"
    }
   ],
   "source": [
    "#Comprobamos resultados\n",
    "dfpets.isna().sum()"
   ]
  },
  {
   "cell_type": "code",
   "execution_count": 8,
   "metadata": {},
   "outputs": [],
   "source": [
    "\"\"\"Esta función se utiliza para cambiar el tipo de dato de las columnas de string a float reemplazando \n",
    "comas por puntos y dejando únicamente dos decimales\"\"\"\n",
    "def cambiar_coma(objeto):  \n",
    "    return round(float(objeto.replace(\",\",\".\")),2)"
   ]
  },
  {
   "cell_type": "code",
   "execution_count": 9,
   "metadata": {},
   "outputs": [
    {
     "data": {
      "text/html": [
       "<div>\n",
       "<style scoped>\n",
       "    .dataframe tbody tr th:only-of-type {\n",
       "        vertical-align: middle;\n",
       "    }\n",
       "\n",
       "    .dataframe tbody tr th {\n",
       "        vertical-align: top;\n",
       "    }\n",
       "\n",
       "    .dataframe thead th {\n",
       "        text-align: right;\n",
       "    }\n",
       "</style>\n",
       "<table border=\"1\" class=\"dataframe\">\n",
       "  <thead>\n",
       "    <tr style=\"text-align: right;\">\n",
       "      <th></th>\n",
       "      <th>Location</th>\n",
       "      <th>Number of Households (in 1000)</th>\n",
       "      <th>Percentage of households with pets</th>\n",
       "      <th>Number of Pet Households (in 1000)</th>\n",
       "      <th>Percentage of Dog Owners</th>\n",
       "      <th>Dog Owning Households (1000s)</th>\n",
       "      <th>Mean Number of Dogs per household</th>\n",
       "      <th>Dog Population (in 1000)</th>\n",
       "      <th>Percentage of Cat Owners</th>\n",
       "      <th>Cat Owning Households</th>\n",
       "      <th>Mean Number of Cats</th>\n",
       "      <th>Cat Population</th>\n",
       "    </tr>\n",
       "  </thead>\n",
       "  <tbody>\n",
       "    <tr>\n",
       "      <th>14</th>\n",
       "      <td>Kansas</td>\n",
       "      <td>1,133</td>\n",
       "      <td>61.0</td>\n",
       "      <td>691</td>\n",
       "      <td>42.3</td>\n",
       "      <td>480</td>\n",
       "      <td>1.6</td>\n",
       "      <td>774</td>\n",
       "      <td>33.3</td>\n",
       "      <td>378</td>\n",
       "      <td>1.9</td>\n",
       "      <td>731</td>\n",
       "    </tr>\n",
       "    <tr>\n",
       "      <th>23</th>\n",
       "      <td>Missouri</td>\n",
       "      <td>2,498</td>\n",
       "      <td>61.4</td>\n",
       "      <td>1,534</td>\n",
       "      <td>45.9</td>\n",
       "      <td>1,148</td>\n",
       "      <td>1.7</td>\n",
       "      <td>1,978</td>\n",
       "      <td>32.2</td>\n",
       "      <td>805</td>\n",
       "      <td>2.1</td>\n",
       "      <td>1,653</td>\n",
       "    </tr>\n",
       "  </tbody>\n",
       "</table>\n",
       "</div>"
      ],
      "text/plain": [
       "    Location Number of Households (in 1000)  \\\n",
       "14    Kansas                          1,133   \n",
       "23  Missouri                          2,498   \n",
       "\n",
       "    Percentage of households with pets Number of Pet Households (in 1000)  \\\n",
       "14                                61.0                                691   \n",
       "23                                61.4                              1,534   \n",
       "\n",
       "    Percentage of Dog Owners Dog Owning Households (1000s)  \\\n",
       "14                      42.3                           480   \n",
       "23                      45.9                         1,148   \n",
       "\n",
       "    Mean Number of Dogs per household Dog Population (in 1000)  \\\n",
       "14                                1.6                      774   \n",
       "23                                1.7                    1,978   \n",
       "\n",
       "    Percentage of Cat Owners Cat Owning Households  Mean Number of Cats  \\\n",
       "14                      33.3                   378                  1.9   \n",
       "23                      32.2                   805                  2.1   \n",
       "\n",
       "   Cat Population  \n",
       "14            731  \n",
       "23          1,653  "
      ]
     },
     "execution_count": 9,
     "metadata": {},
     "output_type": "execute_result"
    }
   ],
   "source": [
    "dfpets.sample(2)"
   ]
  },
  {
   "cell_type": "code",
   "execution_count": 10,
   "metadata": {},
   "outputs": [
    {
     "data": {
      "text/plain": [
       "Index(['Location', 'Number of Households (in 1000)',\n",
       "       'Percentage of households with pets',\n",
       "       'Number of Pet Households (in 1000)', 'Percentage of Dog Owners',\n",
       "       'Dog Owning Households (1000s)', 'Mean Number of Dogs per household',\n",
       "       'Dog Population (in 1000)', 'Percentage of Cat Owners',\n",
       "       'Cat Owning Households', 'Mean Number of Cats', 'Cat Population'],\n",
       "      dtype='object')"
      ]
     },
     "execution_count": 10,
     "metadata": {},
     "output_type": "execute_result"
    }
   ],
   "source": [
    "#Para hacer un for que nos automatice la limpieza de datos creamos una lista con las columnas del dataset\n",
    "lista = dfpets.columns\n",
    "lista"
   ]
  },
  {
   "cell_type": "code",
   "execution_count": 15,
   "metadata": {},
   "outputs": [
    {
     "name": "stdout",
     "output_type": "stream",
     "text": [
      "<class 'pandas.core.frame.DataFrame'>\n",
      "Int64Index: 49 entries, 0 to 48\n",
      "Data columns (total 12 columns):\n",
      " #   Column                              Non-Null Count  Dtype  \n",
      "---  ------                              --------------  -----  \n",
      " 0   Location                            49 non-null     object \n",
      " 1   Number of Households (in 1000)      49 non-null     float64\n",
      " 2   Percentage of households with pets  49 non-null     float64\n",
      " 3   Number of Pet Households (in 1000)  49 non-null     float64\n",
      " 4   Percentage of Dog Owners            49 non-null     float64\n",
      " 5   Dog Owning Households (1000s)       49 non-null     float64\n",
      " 6   Mean Number of Dogs per household   49 non-null     float64\n",
      " 7   Dog Population (in 1000)            49 non-null     float64\n",
      " 8   Percentage of Cat Owners            49 non-null     float64\n",
      " 9   Cat Owning Households               49 non-null     float64\n",
      " 10  Mean Number of Cats                 49 non-null     float64\n",
      " 11  Cat Population                      49 non-null     float64\n",
      "dtypes: float64(11), object(1)\n",
      "memory usage: 5.0+ KB\n"
     ]
    }
   ],
   "source": [
    "dfpets.info()"
   ]
  },
  {
   "cell_type": "code",
   "execution_count": 12,
   "metadata": {},
   "outputs": [
    {
     "data": {
      "text/plain": [
       "Index(['Number of Households (in 1000)', 'Number of Pet Households (in 1000)',\n",
       "       'Dog Owning Households (1000s)', 'Dog Population (in 1000)',\n",
       "       'Cat Owning Households', 'Cat Population'],\n",
       "      dtype='object')"
      ]
     },
     "execution_count": 12,
     "metadata": {},
     "output_type": "execute_result"
    }
   ],
   "source": [
    "#Elegimos aquellas que tienen datos tipo object usando índices para pasarlos a float\n",
    "lista1 = lista[1:12:2]\n",
    "lista1"
   ]
  },
  {
   "cell_type": "code",
   "execution_count": 13,
   "metadata": {},
   "outputs": [
    {
     "name": "stderr",
     "output_type": "stream",
     "text": [
      "/tmp/ipykernel_18201/796476856.py:3: SettingWithCopyWarning: \n",
      "A value is trying to be set on a copy of a slice from a DataFrame.\n",
      "Try using .loc[row_indexer,col_indexer] = value instead\n",
      "\n",
      "See the caveats in the documentation: https://pandas.pydata.org/pandas-docs/stable/user_guide/indexing.html#returning-a-view-versus-a-copy\n",
      "  dfpets[col] = dfpets[col].apply(cambiar_coma)\n"
     ]
    }
   ],
   "source": [
    "#Realizamos la limpieza de datos con un bucle for\n",
    "for col in lista1: \n",
    "    dfpets[col] = dfpets[col].apply(cambiar_coma)"
   ]
  },
  {
   "cell_type": "code",
   "execution_count": null,
   "metadata": {},
   "outputs": [],
   "source": [
    "#Comprobamos que las variables numéricas están todas en float, ya podemos trabajar con el dataset\n",
    "dfpets.info()"
   ]
  },
  {
   "cell_type": "code",
   "execution_count": 16,
   "metadata": {},
   "outputs": [],
   "source": [
    "dfpets.to_csv(\"DATOS/df_pets.csv\")"
   ]
  }
 ],
 "metadata": {
  "kernelspec": {
   "display_name": "base",
   "language": "python",
   "name": "python3"
  },
  "language_info": {
   "codemirror_mode": {
    "name": "ipython",
    "version": 3
   },
   "file_extension": ".py",
   "mimetype": "text/x-python",
   "name": "python",
   "nbconvert_exporter": "python",
   "pygments_lexer": "ipython3",
   "version": "3.9.7"
  },
  "orig_nbformat": 4
 },
 "nbformat": 4,
 "nbformat_minor": 2
}
