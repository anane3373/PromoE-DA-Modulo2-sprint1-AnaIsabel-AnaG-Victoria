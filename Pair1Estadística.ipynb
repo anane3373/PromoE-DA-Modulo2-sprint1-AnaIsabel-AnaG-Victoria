{
 "cells": [
  {
   "cell_type": "code",
   "execution_count": 1,
   "metadata": {},
   "outputs": [],
   "source": [
    "import pandas as pd \n",
    "import numpy as np\n",
    "import scipy as stats"
   ]
  },
  {
   "cell_type": "markdown",
   "metadata": {},
   "source": [
    "<h3>Cargamos el dataset</h3>"
   ]
  },
  {
   "cell_type": "code",
   "execution_count": 2,
   "metadata": {},
   "outputs": [],
   "source": [
    "df = pd.read_csv(\"DATOS/catsvdogs.csv\")"
   ]
  },
  {
   "cell_type": "code",
   "execution_count": 3,
   "metadata": {},
   "outputs": [
    {
     "data": {
      "text/html": [
       "<div>\n",
       "<style scoped>\n",
       "    .dataframe tbody tr th:only-of-type {\n",
       "        vertical-align: middle;\n",
       "    }\n",
       "\n",
       "    .dataframe tbody tr th {\n",
       "        vertical-align: top;\n",
       "    }\n",
       "\n",
       "    .dataframe thead th {\n",
       "        text-align: right;\n",
       "    }\n",
       "</style>\n",
       "<table border=\"1\" class=\"dataframe\">\n",
       "  <thead>\n",
       "    <tr style=\"text-align: right;\">\n",
       "      <th></th>\n",
       "      <th>Location</th>\n",
       "      <th>Number of Households (in 1000)</th>\n",
       "      <th>Percentage of households with pets</th>\n",
       "      <th>Number of Pet Households (in 1000)</th>\n",
       "      <th>Percentage of Dog Owners</th>\n",
       "      <th>Dog Owning Households (1000s)</th>\n",
       "      <th>Mean Number of Dogs per household</th>\n",
       "      <th>Dog Population (in 1000)</th>\n",
       "      <th>Percentage of Cat Owners</th>\n",
       "      <th>Cat Owning Households</th>\n",
       "      <th>Mean Number of Cats</th>\n",
       "      <th>Cat Population</th>\n",
       "      <th>Unnamed: 12</th>\n",
       "    </tr>\n",
       "  </thead>\n",
       "  <tbody>\n",
       "    <tr>\n",
       "      <th>5</th>\n",
       "      <td>Connecticut</td>\n",
       "      <td>1,337</td>\n",
       "      <td>54.4</td>\n",
       "      <td>728</td>\n",
       "      <td>28.3</td>\n",
       "      <td>379</td>\n",
       "      <td>1.3</td>\n",
       "      <td>507</td>\n",
       "      <td>31.9</td>\n",
       "      <td>427</td>\n",
       "      <td>1.9</td>\n",
       "      <td>796</td>\n",
       "      <td>NaN</td>\n",
       "    </tr>\n",
       "    <tr>\n",
       "      <th>39</th>\n",
       "      <td>South Dakota</td>\n",
       "      <td>333</td>\n",
       "      <td>65.6</td>\n",
       "      <td>219</td>\n",
       "      <td>42.8</td>\n",
       "      <td>143</td>\n",
       "      <td>1.5</td>\n",
       "      <td>220</td>\n",
       "      <td>39.1</td>\n",
       "      <td>130</td>\n",
       "      <td>2.2</td>\n",
       "      <td>290</td>\n",
       "      <td>NaN</td>\n",
       "    </tr>\n",
       "  </tbody>\n",
       "</table>\n",
       "</div>"
      ],
      "text/plain": [
       "        Location Number of Households (in 1000)  \\\n",
       "5    Connecticut                          1,337   \n",
       "39  South Dakota                            333   \n",
       "\n",
       "    Percentage of households with pets Number of Pet Households (in 1000)  \\\n",
       "5                                 54.4                                728   \n",
       "39                                65.6                                219   \n",
       "\n",
       "    Percentage of Dog Owners Dog Owning Households (1000s)  \\\n",
       "5                       28.3                           379   \n",
       "39                      42.8                           143   \n",
       "\n",
       "    Mean Number of Dogs per household Dog Population (in 1000)  \\\n",
       "5                                 1.3                      507   \n",
       "39                                1.5                      220   \n",
       "\n",
       "    Percentage of Cat Owners Cat Owning Households  Mean Number of Cats  \\\n",
       "5                       31.9                   427                  1.9   \n",
       "39                      39.1                   130                  2.2   \n",
       "\n",
       "   Cat Population  Unnamed: 12  \n",
       "5             796          NaN  \n",
       "39            290          NaN  "
      ]
     },
     "execution_count": 3,
     "metadata": {},
     "output_type": "execute_result"
    }
   ],
   "source": [
    "df.sample(2)"
   ]
  },
  {
   "cell_type": "code",
   "execution_count": 15,
   "metadata": {},
   "outputs": [],
   "source": [
    "df.drop([\"Unnamed: 12\"], axis = 1, inplace = True)\n",
    "#Eliminamos la columna de nulos"
   ]
  },
  {
   "cell_type": "code",
   "execution_count": 16,
   "metadata": {},
   "outputs": [
    {
     "data": {
      "text/html": [
       "<div>\n",
       "<style scoped>\n",
       "    .dataframe tbody tr th:only-of-type {\n",
       "        vertical-align: middle;\n",
       "    }\n",
       "\n",
       "    .dataframe tbody tr th {\n",
       "        vertical-align: top;\n",
       "    }\n",
       "\n",
       "    .dataframe thead th {\n",
       "        text-align: right;\n",
       "    }\n",
       "</style>\n",
       "<table border=\"1\" class=\"dataframe\">\n",
       "  <thead>\n",
       "    <tr style=\"text-align: right;\">\n",
       "      <th></th>\n",
       "      <th>Location</th>\n",
       "      <th>Number of Households (in 1000)</th>\n",
       "      <th>Percentage of households with pets</th>\n",
       "      <th>Number of Pet Households (in 1000)</th>\n",
       "      <th>Percentage of Dog Owners</th>\n",
       "      <th>Dog Owning Households (1000s)</th>\n",
       "      <th>Mean Number of Dogs per household</th>\n",
       "      <th>Dog Population (in 1000)</th>\n",
       "      <th>Percentage of Cat Owners</th>\n",
       "      <th>Cat Owning Households</th>\n",
       "      <th>Mean Number of Cats</th>\n",
       "      <th>Cat Population</th>\n",
       "    </tr>\n",
       "  </thead>\n",
       "  <tbody>\n",
       "    <tr>\n",
       "      <th>32</th>\n",
       "      <td>North Dakota</td>\n",
       "      <td>272</td>\n",
       "      <td>53.9</td>\n",
       "      <td>147</td>\n",
       "      <td>36.1</td>\n",
       "      <td>98</td>\n",
       "      <td>1.4</td>\n",
       "      <td>139</td>\n",
       "      <td>31.4</td>\n",
       "      <td>85</td>\n",
       "      <td>2.0</td>\n",
       "      <td>174</td>\n",
       "    </tr>\n",
       "    <tr>\n",
       "      <th>41</th>\n",
       "      <td>Texas</td>\n",
       "      <td>9,002</td>\n",
       "      <td>58.5</td>\n",
       "      <td>5,265</td>\n",
       "      <td>44.0</td>\n",
       "      <td>3,960</td>\n",
       "      <td>1.8</td>\n",
       "      <td>7,163</td>\n",
       "      <td>28.3</td>\n",
       "      <td>2,544</td>\n",
       "      <td>2.2</td>\n",
       "      <td>5,565</td>\n",
       "    </tr>\n",
       "  </tbody>\n",
       "</table>\n",
       "</div>"
      ],
      "text/plain": [
       "        Location Number of Households (in 1000)  \\\n",
       "32  North Dakota                            272   \n",
       "41         Texas                          9,002   \n",
       "\n",
       "    Percentage of households with pets Number of Pet Households (in 1000)  \\\n",
       "32                                53.9                                147   \n",
       "41                                58.5                              5,265   \n",
       "\n",
       "    Percentage of Dog Owners Dog Owning Households (1000s)  \\\n",
       "32                      36.1                            98   \n",
       "41                      44.0                         3,960   \n",
       "\n",
       "    Mean Number of Dogs per household Dog Population (in 1000)  \\\n",
       "32                                1.4                      139   \n",
       "41                                1.8                    7,163   \n",
       "\n",
       "    Percentage of Cat Owners Cat Owning Households  Mean Number of Cats  \\\n",
       "32                      31.4                    85                  2.0   \n",
       "41                      28.3                 2,544                  2.2   \n",
       "\n",
       "   Cat Population  \n",
       "32            174  \n",
       "41          5,565  "
      ]
     },
     "execution_count": 16,
     "metadata": {},
     "output_type": "execute_result"
    }
   ],
   "source": [
    "df.sample(2)"
   ]
  },
  {
   "cell_type": "code",
   "execution_count": 17,
   "metadata": {},
   "outputs": [
    {
     "data": {
      "text/plain": [
       "Location                              1\n",
       "Number of Households (in 1000)        1\n",
       "Percentage of households with pets    1\n",
       "Number of Pet Households (in 1000)    1\n",
       "Percentage of Dog Owners              1\n",
       "Dog Owning Households (1000s)         1\n",
       "Mean Number of Dogs per household     1\n",
       "Dog Population (in 1000)              1\n",
       "Percentage of Cat Owners              1\n",
       "Cat Owning Households                 1\n",
       "Mean Number of Cats                   1\n",
       "Cat Population                        1\n",
       "dtype: int64"
      ]
     },
     "execution_count": 17,
     "metadata": {},
     "output_type": "execute_result"
    }
   ],
   "source": [
    "#Analizamos los nulos restantes\n",
    "df.isna().sum()"
   ]
  },
  {
   "cell_type": "code",
   "execution_count": 50,
   "metadata": {},
   "outputs": [],
   "source": [
    "#Eliminamos los nulos restantes y asignamos en un nuevo dataframe\n",
    "dfpets = df.dropna()"
   ]
  },
  {
   "cell_type": "code",
   "execution_count": 22,
   "metadata": {},
   "outputs": [
    {
     "data": {
      "text/plain": [
       "Location                              0\n",
       "Number of Households (in 1000)        0\n",
       "Percentage of households with pets    0\n",
       "Number of Pet Households (in 1000)    0\n",
       "Percentage of Dog Owners              0\n",
       "Dog Owning Households (1000s)         0\n",
       "Mean Number of Dogs per household     0\n",
       "Dog Population (in 1000)              0\n",
       "Percentage of Cat Owners              0\n",
       "Cat Owning Households                 0\n",
       "Mean Number of Cats                   0\n",
       "Cat Population                        0\n",
       "dtype: int64"
      ]
     },
     "execution_count": 22,
     "metadata": {},
     "output_type": "execute_result"
    }
   ],
   "source": [
    "#Comprobamos resultados\n",
    "dfpets.isna().sum()"
   ]
  },
  {
   "cell_type": "code",
   "execution_count": 24,
   "metadata": {},
   "outputs": [
    {
     "data": {
      "text/plain": [
       "dtype('O')"
      ]
     },
     "execution_count": 24,
     "metadata": {},
     "output_type": "execute_result"
    }
   ],
   "source": [
    "dfpets[\"Number of Pet Households (in 1000)\"]"
   ]
  },
  {
   "cell_type": "code",
   "execution_count": 34,
   "metadata": {},
   "outputs": [],
   "source": [
    "\"\"\"Esta función se utiliza para cambiar el tipo de dato de las columnas de string a float reemplazando \n",
    "comas por puntos y dejando únicamente dos decimales\"\"\"\n",
    "def cambiar_coma(objeto):  \n",
    "    return round(float(objeto.replace(\",\",\".\")),2)"
   ]
  },
  {
   "cell_type": "code",
   "execution_count": 35,
   "metadata": {},
   "outputs": [
    {
     "name": "stderr",
     "output_type": "stream",
     "text": [
      "/tmp/ipykernel_24220/3632081141.py:1: SettingWithCopyWarning: \n",
      "A value is trying to be set on a copy of a slice from a DataFrame.\n",
      "Try using .loc[row_indexer,col_indexer] = value instead\n",
      "\n",
      "See the caveats in the documentation: https://pandas.pydata.org/pandas-docs/stable/user_guide/indexing.html#returning-a-view-versus-a-copy\n",
      "  dfpets[\"Hogares con mascota\"]= dfpets[\"Number of Pet Households (in 1000)\"].apply(cambiar_coma)\n"
     ]
    }
   ],
   "source": [
    "#Aplicamos la función con un apply de pandas a una única columna\n",
    "dfpets[\"Hogares con mascota\"]= dfpets[\"Number of Pet Households (in 1000)\"].apply(cambiar_coma)"
   ]
  },
  {
   "cell_type": "code",
   "execution_count": 69,
   "metadata": {},
   "outputs": [
    {
     "data": {
      "text/html": [
       "<div>\n",
       "<style scoped>\n",
       "    .dataframe tbody tr th:only-of-type {\n",
       "        vertical-align: middle;\n",
       "    }\n",
       "\n",
       "    .dataframe tbody tr th {\n",
       "        vertical-align: top;\n",
       "    }\n",
       "\n",
       "    .dataframe thead th {\n",
       "        text-align: right;\n",
       "    }\n",
       "</style>\n",
       "<table border=\"1\" class=\"dataframe\">\n",
       "  <thead>\n",
       "    <tr style=\"text-align: right;\">\n",
       "      <th></th>\n",
       "      <th>Location</th>\n",
       "      <th>Number of Households (in 1000)</th>\n",
       "      <th>Percentage of households with pets</th>\n",
       "      <th>Number of Pet Households (in 1000)</th>\n",
       "      <th>Percentage of Dog Owners</th>\n",
       "      <th>Dog Owning Households (1000s)</th>\n",
       "      <th>Mean Number of Dogs per household</th>\n",
       "      <th>Dog Population (in 1000)</th>\n",
       "      <th>Percentage of Cat Owners</th>\n",
       "      <th>Cat Owning Households</th>\n",
       "      <th>Mean Number of Cats</th>\n",
       "      <th>Cat Population</th>\n",
       "    </tr>\n",
       "  </thead>\n",
       "  <tbody>\n",
       "    <tr>\n",
       "      <th>0</th>\n",
       "      <td>Alabama</td>\n",
       "      <td>1.83</td>\n",
       "      <td>59.5</td>\n",
       "      <td>1.09</td>\n",
       "      <td>44.1</td>\n",
       "      <td>807.00</td>\n",
       "      <td>1.7</td>\n",
       "      <td>1.41</td>\n",
       "      <td>27.4</td>\n",
       "      <td>501.00</td>\n",
       "      <td>2.5</td>\n",
       "      <td>1.25</td>\n",
       "    </tr>\n",
       "    <tr>\n",
       "      <th>1</th>\n",
       "      <td>Arizona</td>\n",
       "      <td>2.52</td>\n",
       "      <td>59.5</td>\n",
       "      <td>1.50</td>\n",
       "      <td>40.1</td>\n",
       "      <td>1.01</td>\n",
       "      <td>1.8</td>\n",
       "      <td>1.80</td>\n",
       "      <td>29.6</td>\n",
       "      <td>743.00</td>\n",
       "      <td>1.9</td>\n",
       "      <td>1.44</td>\n",
       "    </tr>\n",
       "    <tr>\n",
       "      <th>2</th>\n",
       "      <td>Arkansas</td>\n",
       "      <td>1148.00</td>\n",
       "      <td>62.4</td>\n",
       "      <td>716.00</td>\n",
       "      <td>47.9</td>\n",
       "      <td>550.00</td>\n",
       "      <td>2.0</td>\n",
       "      <td>1.10</td>\n",
       "      <td>30.6</td>\n",
       "      <td>351.00</td>\n",
       "      <td>2.3</td>\n",
       "      <td>810.00</td>\n",
       "    </tr>\n",
       "    <tr>\n",
       "      <th>3</th>\n",
       "      <td>California</td>\n",
       "      <td>12.97</td>\n",
       "      <td>52.9</td>\n",
       "      <td>6.87</td>\n",
       "      <td>32.8</td>\n",
       "      <td>4.26</td>\n",
       "      <td>1.6</td>\n",
       "      <td>6.69</td>\n",
       "      <td>28.3</td>\n",
       "      <td>3.69</td>\n",
       "      <td>1.9</td>\n",
       "      <td>7.12</td>\n",
       "    </tr>\n",
       "    <tr>\n",
       "      <th>4</th>\n",
       "      <td>Colorado</td>\n",
       "      <td>1.99</td>\n",
       "      <td>61.3</td>\n",
       "      <td>1.22</td>\n",
       "      <td>42.5</td>\n",
       "      <td>845.00</td>\n",
       "      <td>1.6</td>\n",
       "      <td>1.35</td>\n",
       "      <td>32.3</td>\n",
       "      <td>642.00</td>\n",
       "      <td>1.9</td>\n",
       "      <td>1191.00</td>\n",
       "    </tr>\n",
       "    <tr>\n",
       "      <th>5</th>\n",
       "      <td>Connecticut</td>\n",
       "      <td>1.34</td>\n",
       "      <td>54.4</td>\n",
       "      <td>728.00</td>\n",
       "      <td>28.3</td>\n",
       "      <td>379.00</td>\n",
       "      <td>1.3</td>\n",
       "      <td>507.00</td>\n",
       "      <td>31.9</td>\n",
       "      <td>427.00</td>\n",
       "      <td>1.9</td>\n",
       "      <td>796.00</td>\n",
       "    </tr>\n",
       "    <tr>\n",
       "      <th>6</th>\n",
       "      <td>Delaware</td>\n",
       "      <td>334.00</td>\n",
       "      <td>56.6</td>\n",
       "      <td>189.00</td>\n",
       "      <td>33.7</td>\n",
       "      <td>113.00</td>\n",
       "      <td>1.4</td>\n",
       "      <td>163.00</td>\n",
       "      <td>33.7</td>\n",
       "      <td>113.00</td>\n",
       "      <td>1.7</td>\n",
       "      <td>187.00</td>\n",
       "    </tr>\n",
       "    <tr>\n",
       "      <th>7</th>\n",
       "      <td>District of Columbia</td>\n",
       "      <td>287.00</td>\n",
       "      <td>21.9</td>\n",
       "      <td>63.00</td>\n",
       "      <td>13.1</td>\n",
       "      <td>38.00</td>\n",
       "      <td>1.1</td>\n",
       "      <td>42.00</td>\n",
       "      <td>11.6</td>\n",
       "      <td>33.00</td>\n",
       "      <td>1.9</td>\n",
       "      <td>63.00</td>\n",
       "    </tr>\n",
       "    <tr>\n",
       "      <th>8</th>\n",
       "      <td>Florida</td>\n",
       "      <td>7.61</td>\n",
       "      <td>54.4</td>\n",
       "      <td>4.14</td>\n",
       "      <td>35.7</td>\n",
       "      <td>2.72</td>\n",
       "      <td>1.5</td>\n",
       "      <td>4.21</td>\n",
       "      <td>27.3</td>\n",
       "      <td>2.08</td>\n",
       "      <td>2.1</td>\n",
       "      <td>4.38</td>\n",
       "    </tr>\n",
       "    <tr>\n",
       "      <th>9</th>\n",
       "      <td>Georgia</td>\n",
       "      <td>3.80</td>\n",
       "      <td>55.1</td>\n",
       "      <td>2.09</td>\n",
       "      <td>40.1</td>\n",
       "      <td>1.52</td>\n",
       "      <td>1.6</td>\n",
       "      <td>2.48</td>\n",
       "      <td>27.3</td>\n",
       "      <td>1.04</td>\n",
       "      <td>2.1</td>\n",
       "      <td>2.16</td>\n",
       "    </tr>\n",
       "  </tbody>\n",
       "</table>\n",
       "</div>"
      ],
      "text/plain": [
       "               Location  Number of Households (in 1000)  \\\n",
       "0               Alabama                            1.83   \n",
       "1               Arizona                            2.52   \n",
       "2              Arkansas                         1148.00   \n",
       "3            California                           12.97   \n",
       "4              Colorado                            1.99   \n",
       "5           Connecticut                            1.34   \n",
       "6              Delaware                          334.00   \n",
       "7  District of Columbia                          287.00   \n",
       "8               Florida                            7.61   \n",
       "9               Georgia                            3.80   \n",
       "\n",
       "   Percentage of households with pets  Number of Pet Households (in 1000)  \\\n",
       "0                                59.5                                1.09   \n",
       "1                                59.5                                1.50   \n",
       "2                                62.4                              716.00   \n",
       "3                                52.9                                6.87   \n",
       "4                                61.3                                1.22   \n",
       "5                                54.4                              728.00   \n",
       "6                                56.6                              189.00   \n",
       "7                                21.9                               63.00   \n",
       "8                                54.4                                4.14   \n",
       "9                                55.1                                2.09   \n",
       "\n",
       "   Percentage of Dog Owners  Dog Owning Households (1000s)  \\\n",
       "0                      44.1                         807.00   \n",
       "1                      40.1                           1.01   \n",
       "2                      47.9                         550.00   \n",
       "3                      32.8                           4.26   \n",
       "4                      42.5                         845.00   \n",
       "5                      28.3                         379.00   \n",
       "6                      33.7                         113.00   \n",
       "7                      13.1                          38.00   \n",
       "8                      35.7                           2.72   \n",
       "9                      40.1                           1.52   \n",
       "\n",
       "   Mean Number of Dogs per household  Dog Population (in 1000)  \\\n",
       "0                                1.7                      1.41   \n",
       "1                                1.8                      1.80   \n",
       "2                                2.0                      1.10   \n",
       "3                                1.6                      6.69   \n",
       "4                                1.6                      1.35   \n",
       "5                                1.3                    507.00   \n",
       "6                                1.4                    163.00   \n",
       "7                                1.1                     42.00   \n",
       "8                                1.5                      4.21   \n",
       "9                                1.6                      2.48   \n",
       "\n",
       "   Percentage of Cat Owners  Cat Owning Households  Mean Number of Cats  \\\n",
       "0                      27.4                 501.00                  2.5   \n",
       "1                      29.6                 743.00                  1.9   \n",
       "2                      30.6                 351.00                  2.3   \n",
       "3                      28.3                   3.69                  1.9   \n",
       "4                      32.3                 642.00                  1.9   \n",
       "5                      31.9                 427.00                  1.9   \n",
       "6                      33.7                 113.00                  1.7   \n",
       "7                      11.6                  33.00                  1.9   \n",
       "8                      27.3                   2.08                  2.1   \n",
       "9                      27.3                   1.04                  2.1   \n",
       "\n",
       "   Cat Population  \n",
       "0            1.25  \n",
       "1            1.44  \n",
       "2          810.00  \n",
       "3            7.12  \n",
       "4         1191.00  \n",
       "5          796.00  \n",
       "6          187.00  \n",
       "7           63.00  \n",
       "8            4.38  \n",
       "9            2.16  "
      ]
     },
     "execution_count": 69,
     "metadata": {},
     "output_type": "execute_result"
    }
   ],
   "source": [
    "dfpets.head(10)"
   ]
  },
  {
   "cell_type": "code",
   "execution_count": 51,
   "metadata": {},
   "outputs": [
    {
     "data": {
      "text/plain": [
       "Index(['Location', 'Number of Households (in 1000)',\n",
       "       'Percentage of households with pets',\n",
       "       'Number of Pet Households (in 1000)', 'Percentage of Dog Owners',\n",
       "       'Dog Owning Households (1000s)', 'Mean Number of Dogs per household',\n",
       "       'Dog Population (in 1000)', 'Percentage of Cat Owners',\n",
       "       'Cat Owning Households', 'Mean Number of Cats', 'Cat Population'],\n",
       "      dtype='object')"
      ]
     },
     "execution_count": 51,
     "metadata": {},
     "output_type": "execute_result"
    }
   ],
   "source": [
    "#Para hacer un for que nos automatice la limpieza de datos creamos una lista con las columnas del dataset\n",
    "lista = dfpets.columns\n",
    "lista"
   ]
  },
  {
   "cell_type": "code",
   "execution_count": 41,
   "metadata": {},
   "outputs": [
    {
     "name": "stdout",
     "output_type": "stream",
     "text": [
      "<class 'pandas.core.frame.DataFrame'>\n",
      "Int64Index: 49 entries, 0 to 48\n",
      "Data columns (total 13 columns):\n",
      " #   Column                              Non-Null Count  Dtype  \n",
      "---  ------                              --------------  -----  \n",
      " 0   Location                            49 non-null     object \n",
      " 1   Number of Households (in 1000)      49 non-null     object \n",
      " 2   Percentage of households with pets  49 non-null     float64\n",
      " 3   Number of Pet Households (in 1000)  49 non-null     object \n",
      " 4   Percentage of Dog Owners            49 non-null     float64\n",
      " 5   Dog Owning Households (1000s)       49 non-null     object \n",
      " 6   Mean Number of Dogs per household   49 non-null     float64\n",
      " 7   Dog Population (in 1000)            49 non-null     object \n",
      " 8   Percentage of Cat Owners            49 non-null     float64\n",
      " 9   Cat Owning Households               49 non-null     object \n",
      " 10  Mean Number of Cats                 49 non-null     float64\n",
      " 11  Cat Population                      49 non-null     object \n",
      " 12  Hogares con mascota                 49 non-null     float64\n",
      "dtypes: float64(6), object(7)\n",
      "memory usage: 5.4+ KB\n"
     ]
    }
   ],
   "source": [
    "dfpets.info()"
   ]
  },
  {
   "cell_type": "code",
   "execution_count": 52,
   "metadata": {},
   "outputs": [
    {
     "data": {
      "text/plain": [
       "Index(['Number of Households (in 1000)', 'Number of Pet Households (in 1000)',\n",
       "       'Dog Owning Households (1000s)', 'Dog Population (in 1000)',\n",
       "       'Cat Owning Households', 'Cat Population'],\n",
       "      dtype='object')"
      ]
     },
     "execution_count": 52,
     "metadata": {},
     "output_type": "execute_result"
    }
   ],
   "source": [
    "#Elegimos aquellas que tienen datos tipo object usando índices para pasarlos a float\n",
    "lista1 = lista[1:12:2]\n",
    "lista1"
   ]
  },
  {
   "cell_type": "code",
   "execution_count": 53,
   "metadata": {},
   "outputs": [
    {
     "name": "stderr",
     "output_type": "stream",
     "text": [
      "/tmp/ipykernel_24220/796476856.py:3: SettingWithCopyWarning: \n",
      "A value is trying to be set on a copy of a slice from a DataFrame.\n",
      "Try using .loc[row_indexer,col_indexer] = value instead\n",
      "\n",
      "See the caveats in the documentation: https://pandas.pydata.org/pandas-docs/stable/user_guide/indexing.html#returning-a-view-versus-a-copy\n",
      "  dfpets[col] = dfpets[col].apply(cambiar_coma)\n"
     ]
    }
   ],
   "source": [
    "#Realizamos la limpieza de datos con un bucle for\n",
    "for col in lista1: \n",
    "    dfpets[col] = dfpets[col].apply(cambiar_coma)"
   ]
  },
  {
   "cell_type": "code",
   "execution_count": 54,
   "metadata": {},
   "outputs": [
    {
     "name": "stdout",
     "output_type": "stream",
     "text": [
      "<class 'pandas.core.frame.DataFrame'>\n",
      "Int64Index: 49 entries, 0 to 48\n",
      "Data columns (total 12 columns):\n",
      " #   Column                              Non-Null Count  Dtype  \n",
      "---  ------                              --------------  -----  \n",
      " 0   Location                            49 non-null     object \n",
      " 1   Number of Households (in 1000)      49 non-null     float64\n",
      " 2   Percentage of households with pets  49 non-null     float64\n",
      " 3   Number of Pet Households (in 1000)  49 non-null     float64\n",
      " 4   Percentage of Dog Owners            49 non-null     float64\n",
      " 5   Dog Owning Households (1000s)       49 non-null     float64\n",
      " 6   Mean Number of Dogs per household   49 non-null     float64\n",
      " 7   Dog Population (in 1000)            49 non-null     float64\n",
      " 8   Percentage of Cat Owners            49 non-null     float64\n",
      " 9   Cat Owning Households               49 non-null     float64\n",
      " 10  Mean Number of Cats                 49 non-null     float64\n",
      " 11  Cat Population                      49 non-null     float64\n",
      "dtypes: float64(11), object(1)\n",
      "memory usage: 5.0+ KB\n"
     ]
    }
   ],
   "source": [
    "#Comprobamos que las variables numéricas están todas en float, ya podemos trabajar con el dataset\n",
    "dfpets.info()"
   ]
  },
  {
   "cell_type": "code",
   "execution_count": 62,
   "metadata": {},
   "outputs": [
    {
     "data": {
      "text/plain": [
       "244.59"
      ]
     },
     "execution_count": 62,
     "metadata": {},
     "output_type": "execute_result"
    }
   ],
   "source": [
    "#Media\n",
    "media = round(dfpets[\"Number of Pet Households (in 1000)\"].mean(),2)\n",
    "media"
   ]
  },
  {
   "cell_type": "code",
   "execution_count": 61,
   "metadata": {},
   "outputs": [
    {
     "data": {
      "text/plain": [
       "244.59"
      ]
     },
     "execution_count": 61,
     "metadata": {},
     "output_type": "execute_result"
    }
   ],
   "source": [
    "#Desviación respecto a la media\n",
    "devm = np.abs(media)\n",
    "devm"
   ]
  },
  {
   "cell_type": "code",
   "execution_count": 58,
   "metadata": {},
   "outputs": [
    {
     "data": {
      "text/plain": [
       "96565.51"
      ]
     },
     "execution_count": 58,
     "metadata": {},
     "output_type": "execute_result"
    }
   ],
   "source": [
    "varianza = round(dfpets[\"Number of Pet Households (in 1000)\"].var(),2)\n",
    "varianza"
   ]
  },
  {
   "cell_type": "code",
   "execution_count": 63,
   "metadata": {},
   "outputs": [
    {
     "data": {
      "text/plain": [
       "310.75"
      ]
     },
     "execution_count": 63,
     "metadata": {},
     "output_type": "execute_result"
    }
   ],
   "source": [
    "devtipica = round(dfpets[\"Number of Pet Households (in 1000)\"].std(),2)\n",
    "devtipica"
   ]
  },
  {
   "cell_type": "code",
   "execution_count": 64,
   "metadata": {},
   "outputs": [
    {
     "data": {
      "text/plain": [
       "0    1.09\n",
       "1    1.61\n",
       "2    2.09\n",
       "dtype: float64"
      ]
     },
     "execution_count": 64,
     "metadata": {},
     "output_type": "execute_result"
    }
   ],
   "source": [
    "moda = round(dfpets[\"Number of Pet Households (in 1000)\"].mode(),2)\n",
    "moda"
   ]
  },
  {
   "cell_type": "code",
   "execution_count": 66,
   "metadata": {},
   "outputs": [
    {
     "data": {
      "text/plain": [
       "63.0"
      ]
     },
     "execution_count": 66,
     "metadata": {},
     "output_type": "execute_result"
    }
   ],
   "source": [
    "mediana = round(dfpets[\"Number of Pet Households (in 1000)\"].median(),2)\n",
    "mediana"
   ]
  },
  {
   "cell_type": "code",
   "execution_count": 67,
   "metadata": {},
   "outputs": [],
   "source": [
    "w = np.random.randint(0,100,dfpets.shape[0])"
   ]
  },
  {
   "cell_type": "code",
   "execution_count": 68,
   "metadata": {},
   "outputs": [
    {
     "data": {
      "text/plain": [
       "208.8389406779661"
      ]
     },
     "execution_count": 68,
     "metadata": {},
     "output_type": "execute_result"
    }
   ],
   "source": [
    "#Media ponderada\n",
    "avg = np.average(dfpets[\"Number of Pet Households (in 1000)\"],weights= w)\n",
    "avg"
   ]
  }
 ],
 "metadata": {
  "kernelspec": {
   "display_name": "base",
   "language": "python",
   "name": "python3"
  },
  "language_info": {
   "codemirror_mode": {
    "name": "ipython",
    "version": 3
   },
   "file_extension": ".py",
   "mimetype": "text/x-python",
   "name": "python",
   "nbconvert_exporter": "python",
   "pygments_lexer": "ipython3",
   "version": "3.9.7"
  },
  "orig_nbformat": 4
 },
 "nbformat": 4,
 "nbformat_minor": 2
}
