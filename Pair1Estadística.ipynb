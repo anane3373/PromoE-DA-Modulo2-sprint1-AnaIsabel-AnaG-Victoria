{
 "cells": [
  {
   "cell_type": "code",
   "execution_count": 1,
   "metadata": {},
   "outputs": [],
   "source": [
    "import pandas as pd \n",
    "import numpy as np\n",
    "import scipy as stats"
   ]
  },
  {
   "cell_type": "markdown",
   "metadata": {},
   "source": [
    "<h3>Cargamos el dataset</h3>"
   ]
  },
  {
   "cell_type": "code",
   "execution_count": 2,
   "metadata": {},
   "outputs": [],
   "source": [
    "df = pd.read_csv(\"DATOS/catsvdogs.csv\")"
   ]
  },
  {
   "cell_type": "code",
   "execution_count": 3,
   "metadata": {},
   "outputs": [
    {
     "data": {
      "text/html": [
       "<div>\n",
       "<style scoped>\n",
       "    .dataframe tbody tr th:only-of-type {\n",
       "        vertical-align: middle;\n",
       "    }\n",
       "\n",
       "    .dataframe tbody tr th {\n",
       "        vertical-align: top;\n",
       "    }\n",
       "\n",
       "    .dataframe thead th {\n",
       "        text-align: right;\n",
       "    }\n",
       "</style>\n",
       "<table border=\"1\" class=\"dataframe\">\n",
       "  <thead>\n",
       "    <tr style=\"text-align: right;\">\n",
       "      <th></th>\n",
       "      <th>Location</th>\n",
       "      <th>Number of Households (in 1000)</th>\n",
       "      <th>Percentage of households with pets</th>\n",
       "      <th>Number of Pet Households (in 1000)</th>\n",
       "      <th>Percentage of Dog Owners</th>\n",
       "      <th>Dog Owning Households (1000s)</th>\n",
       "      <th>Mean Number of Dogs per household</th>\n",
       "      <th>Dog Population (in 1000)</th>\n",
       "      <th>Percentage of Cat Owners</th>\n",
       "      <th>Cat Owning Households</th>\n",
       "      <th>Mean Number of Cats</th>\n",
       "      <th>Cat Population</th>\n",
       "      <th>Unnamed: 12</th>\n",
       "    </tr>\n",
       "  </thead>\n",
       "  <tbody>\n",
       "    <tr>\n",
       "      <th>36</th>\n",
       "      <td>Pennsylvania</td>\n",
       "      <td>5,172</td>\n",
       "      <td>56.9</td>\n",
       "      <td>2,942</td>\n",
       "      <td>32.9</td>\n",
       "      <td>1,702</td>\n",
       "      <td>1.5</td>\n",
       "      <td>2,485</td>\n",
       "      <td>33.8</td>\n",
       "      <td>1,748</td>\n",
       "      <td>2.0</td>\n",
       "      <td>3,544</td>\n",
       "      <td>NaN</td>\n",
       "    </tr>\n",
       "    <tr>\n",
       "      <th>46</th>\n",
       "      <td>West Virginia</td>\n",
       "      <td>765</td>\n",
       "      <td>62.1</td>\n",
       "      <td>475</td>\n",
       "      <td>45.8</td>\n",
       "      <td>350</td>\n",
       "      <td>1.8</td>\n",
       "      <td>648</td>\n",
       "      <td>38.1</td>\n",
       "      <td>291</td>\n",
       "      <td>2.2</td>\n",
       "      <td>628</td>\n",
       "      <td>NaN</td>\n",
       "    </tr>\n",
       "  </tbody>\n",
       "</table>\n",
       "</div>"
      ],
      "text/plain": [
       "         Location Number of Households (in 1000)  \\\n",
       "36   Pennsylvania                          5,172   \n",
       "46  West Virginia                            765   \n",
       "\n",
       "    Percentage of households with pets Number of Pet Households (in 1000)  \\\n",
       "36                                56.9                              2,942   \n",
       "46                                62.1                                475   \n",
       "\n",
       "    Percentage of Dog Owners Dog Owning Households (1000s)  \\\n",
       "36                      32.9                         1,702   \n",
       "46                      45.8                           350   \n",
       "\n",
       "    Mean Number of Dogs per household Dog Population (in 1000)  \\\n",
       "36                                1.5                    2,485   \n",
       "46                                1.8                      648   \n",
       "\n",
       "    Percentage of Cat Owners Cat Owning Households  Mean Number of Cats  \\\n",
       "36                      33.8                 1,748                  2.0   \n",
       "46                      38.1                   291                  2.2   \n",
       "\n",
       "   Cat Population  Unnamed: 12  \n",
       "36          3,544          NaN  \n",
       "46            628          NaN  "
      ]
     },
     "execution_count": 3,
     "metadata": {},
     "output_type": "execute_result"
    }
   ],
   "source": [
    "df.sample(2)"
   ]
  },
  {
   "cell_type": "code",
   "execution_count": 4,
   "metadata": {},
   "outputs": [],
   "source": [
    "df.drop([\"Unnamed: 12\"], axis = 1, inplace = True)\n",
    "#Eliminamos la columna de nulos"
   ]
  },
  {
   "cell_type": "code",
   "execution_count": 5,
   "metadata": {},
   "outputs": [
    {
     "data": {
      "text/html": [
       "<div>\n",
       "<style scoped>\n",
       "    .dataframe tbody tr th:only-of-type {\n",
       "        vertical-align: middle;\n",
       "    }\n",
       "\n",
       "    .dataframe tbody tr th {\n",
       "        vertical-align: top;\n",
       "    }\n",
       "\n",
       "    .dataframe thead th {\n",
       "        text-align: right;\n",
       "    }\n",
       "</style>\n",
       "<table border=\"1\" class=\"dataframe\">\n",
       "  <thead>\n",
       "    <tr style=\"text-align: right;\">\n",
       "      <th></th>\n",
       "      <th>Location</th>\n",
       "      <th>Number of Households (in 1000)</th>\n",
       "      <th>Percentage of households with pets</th>\n",
       "      <th>Number of Pet Households (in 1000)</th>\n",
       "      <th>Percentage of Dog Owners</th>\n",
       "      <th>Dog Owning Households (1000s)</th>\n",
       "      <th>Mean Number of Dogs per household</th>\n",
       "      <th>Dog Population (in 1000)</th>\n",
       "      <th>Percentage of Cat Owners</th>\n",
       "      <th>Cat Owning Households</th>\n",
       "      <th>Mean Number of Cats</th>\n",
       "      <th>Cat Population</th>\n",
       "    </tr>\n",
       "  </thead>\n",
       "  <tbody>\n",
       "    <tr>\n",
       "      <th>43</th>\n",
       "      <td>Vermont</td>\n",
       "      <td>265</td>\n",
       "      <td>70.8</td>\n",
       "      <td>188</td>\n",
       "      <td>37.7</td>\n",
       "      <td>100</td>\n",
       "      <td>1.4</td>\n",
       "      <td>142</td>\n",
       "      <td>49.5</td>\n",
       "      <td>131</td>\n",
       "      <td>1.8</td>\n",
       "      <td>234</td>\n",
       "    </tr>\n",
       "    <tr>\n",
       "      <th>40</th>\n",
       "      <td>Tennessee</td>\n",
       "      <td>2,583</td>\n",
       "      <td>59.6</td>\n",
       "      <td>1,540</td>\n",
       "      <td>44.1</td>\n",
       "      <td>1,140</td>\n",
       "      <td>1.9</td>\n",
       "      <td>2,157</td>\n",
       "      <td>29.8</td>\n",
       "      <td>770</td>\n",
       "      <td>2.3</td>\n",
       "      <td>1,749</td>\n",
       "    </tr>\n",
       "  </tbody>\n",
       "</table>\n",
       "</div>"
      ],
      "text/plain": [
       "     Location Number of Households (in 1000)  \\\n",
       "43    Vermont                            265   \n",
       "40  Tennessee                          2,583   \n",
       "\n",
       "    Percentage of households with pets Number of Pet Households (in 1000)  \\\n",
       "43                                70.8                                188   \n",
       "40                                59.6                              1,540   \n",
       "\n",
       "    Percentage of Dog Owners Dog Owning Households (1000s)  \\\n",
       "43                      37.7                           100   \n",
       "40                      44.1                         1,140   \n",
       "\n",
       "    Mean Number of Dogs per household Dog Population (in 1000)  \\\n",
       "43                                1.4                      142   \n",
       "40                                1.9                    2,157   \n",
       "\n",
       "    Percentage of Cat Owners Cat Owning Households  Mean Number of Cats  \\\n",
       "43                      49.5                   131                  1.8   \n",
       "40                      29.8                   770                  2.3   \n",
       "\n",
       "   Cat Population  \n",
       "43            234  \n",
       "40          1,749  "
      ]
     },
     "execution_count": 5,
     "metadata": {},
     "output_type": "execute_result"
    }
   ],
   "source": [
    "df.sample(2)"
   ]
  },
  {
   "cell_type": "code",
   "execution_count": 6,
   "metadata": {},
   "outputs": [
    {
     "data": {
      "text/plain": [
       "Location                              1\n",
       "Number of Households (in 1000)        1\n",
       "Percentage of households with pets    1\n",
       "Number of Pet Households (in 1000)    1\n",
       "Percentage of Dog Owners              1\n",
       "Dog Owning Households (1000s)         1\n",
       "Mean Number of Dogs per household     1\n",
       "Dog Population (in 1000)              1\n",
       "Percentage of Cat Owners              1\n",
       "Cat Owning Households                 1\n",
       "Mean Number of Cats                   1\n",
       "Cat Population                        1\n",
       "dtype: int64"
      ]
     },
     "execution_count": 6,
     "metadata": {},
     "output_type": "execute_result"
    }
   ],
   "source": [
    "#Analizamos los nulos restantes\n",
    "df.isna().sum()"
   ]
  },
  {
   "cell_type": "code",
   "execution_count": 7,
   "metadata": {},
   "outputs": [],
   "source": [
    "#Eliminamos los nulos restantes y asignamos en un nuevo dataframe\n",
    "dfpets = df.dropna()"
   ]
  },
  {
   "cell_type": "code",
   "execution_count": 8,
   "metadata": {},
   "outputs": [
    {
     "data": {
      "text/plain": [
       "Location                              0\n",
       "Number of Households (in 1000)        0\n",
       "Percentage of households with pets    0\n",
       "Number of Pet Households (in 1000)    0\n",
       "Percentage of Dog Owners              0\n",
       "Dog Owning Households (1000s)         0\n",
       "Mean Number of Dogs per household     0\n",
       "Dog Population (in 1000)              0\n",
       "Percentage of Cat Owners              0\n",
       "Cat Owning Households                 0\n",
       "Mean Number of Cats                   0\n",
       "Cat Population                        0\n",
       "dtype: int64"
      ]
     },
     "execution_count": 8,
     "metadata": {},
     "output_type": "execute_result"
    }
   ],
   "source": [
    "#Comprobamos resultados\n",
    "dfpets.isna().sum()"
   ]
  },
  {
   "cell_type": "code",
   "execution_count": 9,
   "metadata": {},
   "outputs": [
    {
     "data": {
      "text/plain": [
       "0     1,088\n",
       "1     1,497\n",
       "2       716\n",
       "3     6,865\n",
       "4     1,217\n",
       "5       728\n",
       "6       189\n",
       "7        63\n",
       "8     4,138\n",
       "9     2,093\n",
       "10      352\n",
       "11    2,602\n",
       "12    1,484\n",
       "13      654\n",
       "14      691\n",
       "15    1,094\n",
       "16      937\n",
       "17      345\n",
       "18    1,134\n",
       "19    1,318\n",
       "20    2,108\n",
       "21    1,146\n",
       "22      629\n",
       "23    1,534\n",
       "24      251\n",
       "25      364\n",
       "26      548\n",
       "27      289\n",
       "28    1,611\n",
       "29      523\n",
       "30    3,802\n",
       "31    2,089\n",
       "32      147\n",
       "33    2,677\n",
       "34      872\n",
       "35      957\n",
       "36    2,942\n",
       "37      230\n",
       "38      951\n",
       "39      219\n",
       "40    1,540\n",
       "41    5,265\n",
       "42      476\n",
       "43      188\n",
       "44    1,611\n",
       "45    1,649\n",
       "46      475\n",
       "47    1,352\n",
       "48      137\n",
       "Name: Number of Pet Households (in 1000), dtype: object"
      ]
     },
     "execution_count": 9,
     "metadata": {},
     "output_type": "execute_result"
    }
   ],
   "source": [
    "dfpets[\"Number of Pet Households (in 1000)\"]"
   ]
  },
  {
   "cell_type": "code",
   "execution_count": 10,
   "metadata": {},
   "outputs": [],
   "source": [
    "\"\"\"Esta función se utiliza para cambiar el tipo de dato de las columnas de string a float reemplazando \n",
    "comas por puntos y dejando únicamente dos decimales\"\"\"\n",
    "def cambiar_coma(objeto):  \n",
    "    return round(float(objeto.replace(\",\",\".\")),2)"
   ]
  },
  {
   "cell_type": "code",
   "execution_count": 11,
   "metadata": {},
   "outputs": [
    {
     "name": "stderr",
     "output_type": "stream",
     "text": [
      "/tmp/ipykernel_22801/2789896385.py:2: SettingWithCopyWarning: \n",
      "A value is trying to be set on a copy of a slice from a DataFrame.\n",
      "Try using .loc[row_indexer,col_indexer] = value instead\n",
      "\n",
      "See the caveats in the documentation: https://pandas.pydata.org/pandas-docs/stable/user_guide/indexing.html#returning-a-view-versus-a-copy\n",
      "  dfpets[\"Hogares con mascota\"]= dfpets[\"Number of Pet Households (in 1000)\"].apply(cambiar_coma)\n"
     ]
    }
   ],
   "source": [
    "#Aplicamos la función con un apply de pandas a una única columna\n",
    "dfpets[\"Hogares con mascota\"]= dfpets[\"Number of Pet Households (in 1000)\"].apply(cambiar_coma)"
   ]
  },
  {
   "cell_type": "code",
   "execution_count": 12,
   "metadata": {},
   "outputs": [
    {
     "data": {
      "text/html": [
       "<div>\n",
       "<style scoped>\n",
       "    .dataframe tbody tr th:only-of-type {\n",
       "        vertical-align: middle;\n",
       "    }\n",
       "\n",
       "    .dataframe tbody tr th {\n",
       "        vertical-align: top;\n",
       "    }\n",
       "\n",
       "    .dataframe thead th {\n",
       "        text-align: right;\n",
       "    }\n",
       "</style>\n",
       "<table border=\"1\" class=\"dataframe\">\n",
       "  <thead>\n",
       "    <tr style=\"text-align: right;\">\n",
       "      <th></th>\n",
       "      <th>Location</th>\n",
       "      <th>Number of Households (in 1000)</th>\n",
       "      <th>Percentage of households with pets</th>\n",
       "      <th>Number of Pet Households (in 1000)</th>\n",
       "      <th>Percentage of Dog Owners</th>\n",
       "      <th>Dog Owning Households (1000s)</th>\n",
       "      <th>Mean Number of Dogs per household</th>\n",
       "      <th>Dog Population (in 1000)</th>\n",
       "      <th>Percentage of Cat Owners</th>\n",
       "      <th>Cat Owning Households</th>\n",
       "      <th>Mean Number of Cats</th>\n",
       "      <th>Cat Population</th>\n",
       "      <th>Hogares con mascota</th>\n",
       "    </tr>\n",
       "  </thead>\n",
       "  <tbody>\n",
       "    <tr>\n",
       "      <th>0</th>\n",
       "      <td>Alabama</td>\n",
       "      <td>1,828</td>\n",
       "      <td>59.5</td>\n",
       "      <td>1,088</td>\n",
       "      <td>44.1</td>\n",
       "      <td>807</td>\n",
       "      <td>1.7</td>\n",
       "      <td>1,410</td>\n",
       "      <td>27.4</td>\n",
       "      <td>501</td>\n",
       "      <td>2.5</td>\n",
       "      <td>1,252</td>\n",
       "      <td>1.09</td>\n",
       "    </tr>\n",
       "    <tr>\n",
       "      <th>1</th>\n",
       "      <td>Arizona</td>\n",
       "      <td>2,515</td>\n",
       "      <td>59.5</td>\n",
       "      <td>1,497</td>\n",
       "      <td>40.1</td>\n",
       "      <td>1,008</td>\n",
       "      <td>1.8</td>\n",
       "      <td>1,798</td>\n",
       "      <td>29.6</td>\n",
       "      <td>743</td>\n",
       "      <td>1.9</td>\n",
       "      <td>1,438</td>\n",
       "      <td>1.50</td>\n",
       "    </tr>\n",
       "    <tr>\n",
       "      <th>2</th>\n",
       "      <td>Arkansas</td>\n",
       "      <td>1148</td>\n",
       "      <td>62.4</td>\n",
       "      <td>716</td>\n",
       "      <td>47.9</td>\n",
       "      <td>550</td>\n",
       "      <td>2.0</td>\n",
       "      <td>1,097</td>\n",
       "      <td>30.6</td>\n",
       "      <td>351</td>\n",
       "      <td>2.3</td>\n",
       "      <td>810</td>\n",
       "      <td>716.00</td>\n",
       "    </tr>\n",
       "    <tr>\n",
       "      <th>3</th>\n",
       "      <td>California</td>\n",
       "      <td>12,974</td>\n",
       "      <td>52.9</td>\n",
       "      <td>6,865</td>\n",
       "      <td>32.8</td>\n",
       "      <td>4,260</td>\n",
       "      <td>1.6</td>\n",
       "      <td>6,687</td>\n",
       "      <td>28.3</td>\n",
       "      <td>3,687</td>\n",
       "      <td>1.9</td>\n",
       "      <td>7,118</td>\n",
       "      <td>6.87</td>\n",
       "    </tr>\n",
       "    <tr>\n",
       "      <th>4</th>\n",
       "      <td>Colorado</td>\n",
       "      <td>1,986</td>\n",
       "      <td>61.3</td>\n",
       "      <td>1,217</td>\n",
       "      <td>42.5</td>\n",
       "      <td>845</td>\n",
       "      <td>1.6</td>\n",
       "      <td>1,349</td>\n",
       "      <td>32.3</td>\n",
       "      <td>642</td>\n",
       "      <td>1.9</td>\n",
       "      <td>1191</td>\n",
       "      <td>1.22</td>\n",
       "    </tr>\n",
       "    <tr>\n",
       "      <th>5</th>\n",
       "      <td>Connecticut</td>\n",
       "      <td>1,337</td>\n",
       "      <td>54.4</td>\n",
       "      <td>728</td>\n",
       "      <td>28.3</td>\n",
       "      <td>379</td>\n",
       "      <td>1.3</td>\n",
       "      <td>507</td>\n",
       "      <td>31.9</td>\n",
       "      <td>427</td>\n",
       "      <td>1.9</td>\n",
       "      <td>796</td>\n",
       "      <td>728.00</td>\n",
       "    </tr>\n",
       "    <tr>\n",
       "      <th>6</th>\n",
       "      <td>Delaware</td>\n",
       "      <td>334</td>\n",
       "      <td>56.6</td>\n",
       "      <td>189</td>\n",
       "      <td>33.7</td>\n",
       "      <td>113</td>\n",
       "      <td>1.4</td>\n",
       "      <td>163</td>\n",
       "      <td>33.7</td>\n",
       "      <td>113</td>\n",
       "      <td>1.7</td>\n",
       "      <td>187</td>\n",
       "      <td>189.00</td>\n",
       "    </tr>\n",
       "    <tr>\n",
       "      <th>7</th>\n",
       "      <td>District of Columbia</td>\n",
       "      <td>287</td>\n",
       "      <td>21.9</td>\n",
       "      <td>63</td>\n",
       "      <td>13.1</td>\n",
       "      <td>38</td>\n",
       "      <td>1.1</td>\n",
       "      <td>42</td>\n",
       "      <td>11.6</td>\n",
       "      <td>33</td>\n",
       "      <td>1.9</td>\n",
       "      <td>63</td>\n",
       "      <td>63.00</td>\n",
       "    </tr>\n",
       "    <tr>\n",
       "      <th>8</th>\n",
       "      <td>Florida</td>\n",
       "      <td>7,609</td>\n",
       "      <td>54.4</td>\n",
       "      <td>4,138</td>\n",
       "      <td>35.7</td>\n",
       "      <td>2,718</td>\n",
       "      <td>1.5</td>\n",
       "      <td>4,210</td>\n",
       "      <td>27.3</td>\n",
       "      <td>2,079</td>\n",
       "      <td>2.1</td>\n",
       "      <td>4,375</td>\n",
       "      <td>4.14</td>\n",
       "    </tr>\n",
       "    <tr>\n",
       "      <th>9</th>\n",
       "      <td>Georgia</td>\n",
       "      <td>3,798</td>\n",
       "      <td>55.1</td>\n",
       "      <td>2,093</td>\n",
       "      <td>40.1</td>\n",
       "      <td>1,522</td>\n",
       "      <td>1.6</td>\n",
       "      <td>2,479</td>\n",
       "      <td>27.3</td>\n",
       "      <td>1,037</td>\n",
       "      <td>2.1</td>\n",
       "      <td>2,162</td>\n",
       "      <td>2.09</td>\n",
       "    </tr>\n",
       "  </tbody>\n",
       "</table>\n",
       "</div>"
      ],
      "text/plain": [
       "               Location Number of Households (in 1000)  \\\n",
       "0               Alabama                          1,828   \n",
       "1               Arizona                          2,515   \n",
       "2              Arkansas                           1148   \n",
       "3            California                         12,974   \n",
       "4              Colorado                          1,986   \n",
       "5           Connecticut                          1,337   \n",
       "6              Delaware                            334   \n",
       "7  District of Columbia                            287   \n",
       "8               Florida                          7,609   \n",
       "9               Georgia                          3,798   \n",
       "\n",
       "   Percentage of households with pets Number of Pet Households (in 1000)  \\\n",
       "0                                59.5                              1,088   \n",
       "1                                59.5                              1,497   \n",
       "2                                62.4                                716   \n",
       "3                                52.9                              6,865   \n",
       "4                                61.3                              1,217   \n",
       "5                                54.4                                728   \n",
       "6                                56.6                                189   \n",
       "7                                21.9                                 63   \n",
       "8                                54.4                              4,138   \n",
       "9                                55.1                              2,093   \n",
       "\n",
       "   Percentage of Dog Owners Dog Owning Households (1000s)  \\\n",
       "0                      44.1                           807   \n",
       "1                      40.1                         1,008   \n",
       "2                      47.9                           550   \n",
       "3                      32.8                         4,260   \n",
       "4                      42.5                           845   \n",
       "5                      28.3                           379   \n",
       "6                      33.7                           113   \n",
       "7                      13.1                            38   \n",
       "8                      35.7                         2,718   \n",
       "9                      40.1                         1,522   \n",
       "\n",
       "   Mean Number of Dogs per household Dog Population (in 1000)  \\\n",
       "0                                1.7                    1,410   \n",
       "1                                1.8                    1,798   \n",
       "2                                2.0                    1,097   \n",
       "3                                1.6                    6,687   \n",
       "4                                1.6                    1,349   \n",
       "5                                1.3                      507   \n",
       "6                                1.4                      163   \n",
       "7                                1.1                       42   \n",
       "8                                1.5                    4,210   \n",
       "9                                1.6                    2,479   \n",
       "\n",
       "   Percentage of Cat Owners Cat Owning Households  Mean Number of Cats  \\\n",
       "0                      27.4                   501                  2.5   \n",
       "1                      29.6                   743                  1.9   \n",
       "2                      30.6                   351                  2.3   \n",
       "3                      28.3                 3,687                  1.9   \n",
       "4                      32.3                   642                  1.9   \n",
       "5                      31.9                   427                  1.9   \n",
       "6                      33.7                   113                  1.7   \n",
       "7                      11.6                    33                  1.9   \n",
       "8                      27.3                 2,079                  2.1   \n",
       "9                      27.3                 1,037                  2.1   \n",
       "\n",
       "  Cat Population  Hogares con mascota  \n",
       "0          1,252                 1.09  \n",
       "1          1,438                 1.50  \n",
       "2            810               716.00  \n",
       "3          7,118                 6.87  \n",
       "4           1191                 1.22  \n",
       "5            796               728.00  \n",
       "6            187               189.00  \n",
       "7             63                63.00  \n",
       "8          4,375                 4.14  \n",
       "9          2,162                 2.09  "
      ]
     },
     "execution_count": 12,
     "metadata": {},
     "output_type": "execute_result"
    }
   ],
   "source": [
    "dfpets.head(10)"
   ]
  },
  {
   "cell_type": "code",
   "execution_count": 13,
   "metadata": {},
   "outputs": [
    {
     "data": {
      "text/plain": [
       "Index(['Location', 'Number of Households (in 1000)',\n",
       "       'Percentage of households with pets',\n",
       "       'Number of Pet Households (in 1000)', 'Percentage of Dog Owners',\n",
       "       'Dog Owning Households (1000s)', 'Mean Number of Dogs per household',\n",
       "       'Dog Population (in 1000)', 'Percentage of Cat Owners',\n",
       "       'Cat Owning Households', 'Mean Number of Cats', 'Cat Population',\n",
       "       'Hogares con mascota'],\n",
       "      dtype='object')"
      ]
     },
     "execution_count": 13,
     "metadata": {},
     "output_type": "execute_result"
    }
   ],
   "source": [
    "#Para hacer un for que nos automatice la limpieza de datos creamos una lista con las columnas del dataset\n",
    "lista = dfpets.columns\n",
    "lista"
   ]
  },
  {
   "cell_type": "code",
   "execution_count": 14,
   "metadata": {},
   "outputs": [
    {
     "name": "stdout",
     "output_type": "stream",
     "text": [
      "<class 'pandas.core.frame.DataFrame'>\n",
      "Int64Index: 49 entries, 0 to 48\n",
      "Data columns (total 13 columns):\n",
      " #   Column                              Non-Null Count  Dtype  \n",
      "---  ------                              --------------  -----  \n",
      " 0   Location                            49 non-null     object \n",
      " 1   Number of Households (in 1000)      49 non-null     object \n",
      " 2   Percentage of households with pets  49 non-null     float64\n",
      " 3   Number of Pet Households (in 1000)  49 non-null     object \n",
      " 4   Percentage of Dog Owners            49 non-null     float64\n",
      " 5   Dog Owning Households (1000s)       49 non-null     object \n",
      " 6   Mean Number of Dogs per household   49 non-null     float64\n",
      " 7   Dog Population (in 1000)            49 non-null     object \n",
      " 8   Percentage of Cat Owners            49 non-null     float64\n",
      " 9   Cat Owning Households               49 non-null     object \n",
      " 10  Mean Number of Cats                 49 non-null     float64\n",
      " 11  Cat Population                      49 non-null     object \n",
      " 12  Hogares con mascota                 49 non-null     float64\n",
      "dtypes: float64(6), object(7)\n",
      "memory usage: 5.4+ KB\n"
     ]
    }
   ],
   "source": [
    "dfpets.info()"
   ]
  },
  {
   "cell_type": "code",
   "execution_count": 15,
   "metadata": {},
   "outputs": [
    {
     "data": {
      "text/plain": [
       "Index(['Number of Households (in 1000)', 'Number of Pet Households (in 1000)',\n",
       "       'Dog Owning Households (1000s)', 'Dog Population (in 1000)',\n",
       "       'Cat Owning Households', 'Cat Population'],\n",
       "      dtype='object')"
      ]
     },
     "execution_count": 15,
     "metadata": {},
     "output_type": "execute_result"
    }
   ],
   "source": [
    "#Elegimos aquellas que tienen datos tipo object usando índices para pasarlos a float\n",
    "lista1 = lista[1:12:2]\n",
    "lista1"
   ]
  },
  {
   "cell_type": "code",
   "execution_count": 16,
   "metadata": {},
   "outputs": [
    {
     "name": "stderr",
     "output_type": "stream",
     "text": [
      "/tmp/ipykernel_22801/796476856.py:3: SettingWithCopyWarning: \n",
      "A value is trying to be set on a copy of a slice from a DataFrame.\n",
      "Try using .loc[row_indexer,col_indexer] = value instead\n",
      "\n",
      "See the caveats in the documentation: https://pandas.pydata.org/pandas-docs/stable/user_guide/indexing.html#returning-a-view-versus-a-copy\n",
      "  dfpets[col] = dfpets[col].apply(cambiar_coma)\n"
     ]
    }
   ],
   "source": [
    "#Realizamos la limpieza de datos con un bucle for\n",
    "for col in lista1: \n",
    "    dfpets[col] = dfpets[col].apply(cambiar_coma)"
   ]
  },
  {
   "cell_type": "code",
   "execution_count": 17,
   "metadata": {},
   "outputs": [
    {
     "name": "stdout",
     "output_type": "stream",
     "text": [
      "<class 'pandas.core.frame.DataFrame'>\n",
      "Int64Index: 49 entries, 0 to 48\n",
      "Data columns (total 13 columns):\n",
      " #   Column                              Non-Null Count  Dtype  \n",
      "---  ------                              --------------  -----  \n",
      " 0   Location                            49 non-null     object \n",
      " 1   Number of Households (in 1000)      49 non-null     float64\n",
      " 2   Percentage of households with pets  49 non-null     float64\n",
      " 3   Number of Pet Households (in 1000)  49 non-null     float64\n",
      " 4   Percentage of Dog Owners            49 non-null     float64\n",
      " 5   Dog Owning Households (1000s)       49 non-null     float64\n",
      " 6   Mean Number of Dogs per household   49 non-null     float64\n",
      " 7   Dog Population (in 1000)            49 non-null     float64\n",
      " 8   Percentage of Cat Owners            49 non-null     float64\n",
      " 9   Cat Owning Households               49 non-null     float64\n",
      " 10  Mean Number of Cats                 49 non-null     float64\n",
      " 11  Cat Population                      49 non-null     float64\n",
      " 12  Hogares con mascota                 49 non-null     float64\n",
      "dtypes: float64(12), object(1)\n",
      "memory usage: 5.4+ KB\n"
     ]
    }
   ],
   "source": [
    "#Comprobamos que las variables numéricas están todas en float, ya podemos trabajar con el dataset\n",
    "dfpets.info()"
   ]
  },
  {
   "cell_type": "code",
   "execution_count": 18,
   "metadata": {},
   "outputs": [
    {
     "data": {
      "text/plain": [
       "244.59"
      ]
     },
     "execution_count": 18,
     "metadata": {},
     "output_type": "execute_result"
    }
   ],
   "source": [
    "#Media\n",
    "media = round(dfpets[\"Number of Pet Households (in 1000)\"].mean(),2)\n",
    "media"
   ]
  },
  {
   "cell_type": "code",
   "execution_count": 19,
   "metadata": {},
   "outputs": [
    {
     "data": {
      "text/plain": [
       "244.59"
      ]
     },
     "execution_count": 19,
     "metadata": {},
     "output_type": "execute_result"
    }
   ],
   "source": [
    "#Desviación respecto a la media\n",
    "devm = np.abs(media)\n",
    "devm"
   ]
  },
  {
   "cell_type": "code",
   "execution_count": 20,
   "metadata": {},
   "outputs": [
    {
     "data": {
      "text/plain": [
       "96565.51"
      ]
     },
     "execution_count": 20,
     "metadata": {},
     "output_type": "execute_result"
    }
   ],
   "source": [
    "varianza = round(dfpets[\"Number of Pet Households (in 1000)\"].var(),2)\n",
    "varianza"
   ]
  },
  {
   "cell_type": "code",
   "execution_count": 21,
   "metadata": {},
   "outputs": [
    {
     "data": {
      "text/plain": [
       "310.75"
      ]
     },
     "execution_count": 21,
     "metadata": {},
     "output_type": "execute_result"
    }
   ],
   "source": [
    "devtipica = round(dfpets[\"Number of Pet Households (in 1000)\"].std(),2)\n",
    "devtipica"
   ]
  },
  {
   "cell_type": "code",
   "execution_count": 22,
   "metadata": {},
   "outputs": [
    {
     "data": {
      "text/plain": [
       "0    1.09\n",
       "1    1.61\n",
       "2    2.09\n",
       "dtype: float64"
      ]
     },
     "execution_count": 22,
     "metadata": {},
     "output_type": "execute_result"
    }
   ],
   "source": [
    "moda = round(dfpets[\"Number of Pet Households (in 1000)\"].mode(),2)\n",
    "moda"
   ]
  },
  {
   "cell_type": "code",
   "execution_count": 23,
   "metadata": {},
   "outputs": [
    {
     "data": {
      "text/plain": [
       "63.0"
      ]
     },
     "execution_count": 23,
     "metadata": {},
     "output_type": "execute_result"
    }
   ],
   "source": [
    "mediana = round(dfpets[\"Number of Pet Households (in 1000)\"].median(),2)\n",
    "mediana"
   ]
  },
  {
   "cell_type": "code",
   "execution_count": 24,
   "metadata": {},
   "outputs": [],
   "source": [
    "w = np.random.randint(0,100,dfpets.shape[0])"
   ]
  },
  {
   "cell_type": "code",
   "execution_count": 25,
   "metadata": {},
   "outputs": [
    {
     "data": {
      "text/plain": [
       "251.15364007421147"
      ]
     },
     "execution_count": 25,
     "metadata": {},
     "output_type": "execute_result"
    }
   ],
   "source": [
    "#Media ponderada\n",
    "avg = np.average(dfpets[\"Number of Pet Households (in 1000)\"],weights= w)\n",
    "avg"
   ]
  }
 ],
 "metadata": {
  "kernelspec": {
   "display_name": "base",
   "language": "python",
   "name": "python3"
  },
  "language_info": {
   "codemirror_mode": {
    "name": "ipython",
    "version": 3
   },
   "file_extension": ".py",
   "mimetype": "text/x-python",
   "name": "python",
   "nbconvert_exporter": "python",
   "pygments_lexer": "ipython3",
   "version": "3.9.7"
  },
  "orig_nbformat": 4
 },
 "nbformat": 4,
 "nbformat_minor": 2
}
