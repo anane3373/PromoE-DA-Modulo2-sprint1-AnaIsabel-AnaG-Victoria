{
 "cells": [
  {
   "cell_type": "code",
   "execution_count": 1,
   "metadata": {},
   "outputs": [],
   "source": [
    "import numpy as np"
   ]
  },
  {
   "cell_type": "code",
   "execution_count": 2,
   "metadata": {},
   "outputs": [
    {
     "data": {
      "text/plain": [
       "array([[[0.8 , 0.24, 0.94],\n",
       "        [0.09, 0.87, 0.46],\n",
       "        [0.36, 0.32, 0.28],\n",
       "        [0.36, 0.16, 0.84],\n",
       "        [0.93, 0.83, 0.4 ]],\n",
       "\n",
       "       [[0.38, 0.66, 0.77],\n",
       "        [0.67, 0.22, 0.05],\n",
       "        [0.7 , 0.76, 0.32],\n",
       "        [0.24, 0.58, 0.11],\n",
       "        [0.74, 0.12, 0.11]]])"
      ]
     },
     "execution_count": 2,
     "metadata": {},
     "output_type": "execute_result"
    }
   ],
   "source": [
    "#Cread un array de dos dimensiones de 5 filas y 3 columnas. \n",
    "\n",
    "array_1 = np.random.random_sample((2,5,3)).round(2)\n",
    "array_1"
   ]
  },
  {
   "cell_type": "code",
   "execution_count": 3,
   "metadata": {},
   "outputs": [
    {
     "data": {
      "text/plain": [
       "0.24"
      ]
     },
     "execution_count": 3,
     "metadata": {},
     "output_type": "execute_result"
    }
   ],
   "source": [
    "# El valor de la primera fila y la segunda columna.\n",
    "array_1[0,0,1]"
   ]
  },
  {
   "cell_type": "code",
   "execution_count": 4,
   "metadata": {},
   "outputs": [
    {
     "data": {
      "text/plain": [
       "array([0.09, 0.87])"
      ]
     },
     "execution_count": 4,
     "metadata": {},
     "output_type": "execute_result"
    }
   ],
   "source": [
    "# Los valores de la segunda fila y las dos primeras columnas.\n",
    "array_1[0,1,:2]"
   ]
  },
  {
   "cell_type": "code",
   "execution_count": 5,
   "metadata": {},
   "outputs": [
    {
     "data": {
      "text/plain": [
       "array([[[0.8 , 0.24, 0.94],\n",
       "        [0.09, 0.87, 0.46],\n",
       "        [0.36, 0.32, 0.28],\n",
       "        [0.36, 0.16, 0.84],\n",
       "        [0.93, 0.83, 0.4 ]]])"
      ]
     },
     "execution_count": 5,
     "metadata": {},
     "output_type": "execute_result"
    }
   ],
   "source": [
    "# Extraed las filas pares (incluyendo la 0) y todas las columnas.\n",
    "\n",
    "array_1[0::2, :]"
   ]
  },
  {
   "cell_type": "code",
   "execution_count": 6,
   "metadata": {},
   "outputs": [
    {
     "data": {
      "text/plain": [
       "array([0.8 , 0.94, 0.87, 0.84, 0.93, 0.83, 0.66, 0.77, 0.67, 0.7 , 0.76,\n",
       "       0.58, 0.74])"
      ]
     },
     "execution_count": 6,
     "metadata": {},
     "output_type": "execute_result"
    }
   ],
   "source": [
    "# Extraed los valores que sean mayores que 0.5.\n",
    "\n",
    "array_1[array_1 > 0.5]"
   ]
  },
  {
   "cell_type": "code",
   "execution_count": 7,
   "metadata": {},
   "outputs": [
    {
     "data": {
      "text/plain": [
       "array([0.8 , 0.94, 0.09, 0.87, 0.16, 0.84, 0.93, 0.83, 0.66, 0.77, 0.67,\n",
       "       0.05, 0.7 , 0.76, 0.58, 0.11, 0.74, 0.12, 0.11])"
      ]
     },
     "execution_count": 7,
     "metadata": {},
     "output_type": "execute_result"
    }
   ],
   "source": [
    "# Extraed los valores menores que 0.2 o mayores que 0.5\n",
    "\n",
    "condi1 = array_1 > 0.5\n",
    "condi2 = array_1 < 0.2\n",
    "\n",
    "array_1[condi1 | condi2]"
   ]
  },
  {
   "cell_type": "code",
   "execution_count": 8,
   "metadata": {},
   "outputs": [
    {
     "data": {
      "text/plain": [
       "array([[[190,  91,  40],\n",
       "        [107,  89, 102],\n",
       "        [ 44, 197,  93],\n",
       "        [184, 146,   1],\n",
       "        [ 31,   4,  69]],\n",
       "\n",
       "       [[115, 171, 145],\n",
       "        [ 19,  19, 169],\n",
       "        [118,  35,  39],\n",
       "        [  1, 198, 116],\n",
       "        [147, 189, 124]]])"
      ]
     },
     "execution_count": 8,
     "metadata": {},
     "output_type": "execute_result"
    }
   ],
   "source": [
    "# Cread dos array de tres dimensiones: de 2 matrices, 5 filas y 3 columnas.\n",
    "\n",
    "array_tri_1 = np.random.randint(0,200, (2,5,3))\n",
    "array_tri_1"
   ]
  },
  {
   "cell_type": "code",
   "execution_count": 9,
   "metadata": {},
   "outputs": [
    {
     "data": {
      "text/plain": [
       "array([[[170,  54, 271, 118,  97],\n",
       "        [293, 211, 220, 218, 287]],\n",
       "\n",
       "       [[ 55, 182, 289, 160,   2],\n",
       "        [288,   0, 128,  47,  73]],\n",
       "\n",
       "       [[ 28, 155, 170, 132, 169],\n",
       "        [247, 110, 141,  54, 298]]])"
      ]
     },
     "execution_count": 9,
     "metadata": {},
     "output_type": "execute_result"
    }
   ],
   "source": [
    "# Cread dos array de tres dimensiones:de 3 matrices, 2 filas y 5 columnas\n",
    "\n",
    "array_tri_2 = np.random.randint(0,300, (3,2,5))\n",
    "array_tri_2"
   ]
  },
  {
   "cell_type": "code",
   "execution_count": 10,
   "metadata": {},
   "outputs": [
    {
     "name": "stdout",
     "output_type": "stream",
     "text": [
      "El tamaño del array es 30\n",
      "El tipo de dato del array es int64\n",
      "La forma del array es (2, 5, 3)\n",
      "Las dimensiones del array son 3\n",
      "None\n",
      "________________________________\n",
      "El tamaño del array es 30\n",
      "El tipo de dato del array es int64\n",
      "La forma del array es (3, 2, 5)\n",
      "Las dimensiones del array son 3\n",
      "None\n"
     ]
    }
   ],
   "source": [
    "# Haced un análisis exploratorio de los array creados.\n",
    "\n",
    "def propiedades_array(array):\n",
    "     \n",
    "    print(f\"El tamaño del array es\",array.size)\n",
    "    print(f\"El tipo de dato del array es\", array.dtype)\n",
    "    print(f\"La forma del array es\", array.shape)\n",
    "    print(f\"Las dimensiones del array son\", array.ndim)\n",
    "\n",
    "print (propiedades_array(array_tri_1))\n",
    "print (\"________________________________\")\n",
    "print (propiedades_array(array_tri_2))"
   ]
  },
  {
   "cell_type": "code",
   "execution_count": 11,
   "metadata": {},
   "outputs": [
    {
     "ename": "ValueError",
     "evalue": "operands could not be broadcast together with shapes (2,5,3) (3,2,5) ",
     "output_type": "error",
     "traceback": [
      "\u001b[0;31m---------------------------------------------------------------------------\u001b[0m",
      "\u001b[0;31mValueError\u001b[0m                                Traceback (most recent call last)",
      "\u001b[0;32m/tmp/ipykernel_11099/883357367.py\u001b[0m in \u001b[0;36m<module>\u001b[0;34m\u001b[0m\n\u001b[1;32m      1\u001b[0m \u001b[0;31m# Sumad los dos arrays.\u001b[0m\u001b[0;34m\u001b[0m\u001b[0;34m\u001b[0m\u001b[0m\n\u001b[1;32m      2\u001b[0m \u001b[0;34m\u001b[0m\u001b[0m\n\u001b[0;32m----> 3\u001b[0;31m \u001b[0msuma_arrays\u001b[0m \u001b[0;34m=\u001b[0m \u001b[0marray_tri_1\u001b[0m \u001b[0;34m+\u001b[0m \u001b[0marray_tri_2\u001b[0m\u001b[0;34m\u001b[0m\u001b[0;34m\u001b[0m\u001b[0m\n\u001b[0m\u001b[1;32m      4\u001b[0m \u001b[0msuma_arrays\u001b[0m\u001b[0;34m\u001b[0m\u001b[0;34m\u001b[0m\u001b[0m\n\u001b[1;32m      5\u001b[0m \u001b[0;34m\u001b[0m\u001b[0m\n",
      "\u001b[0;31mValueError\u001b[0m: operands could not be broadcast together with shapes (2,5,3) (3,2,5) "
     ]
    }
   ],
   "source": [
    "# Sumad los dos arrays. \n",
    "\n",
    "suma_arrays = array_tri_1 + array_tri_2\n",
    "suma_arrays  \n",
    "\n",
    "# No se puede porque no tienen la misma forma (cada uno tiene diferente número de matrices, filas y columnas)"
   ]
  },
  {
   "cell_type": "code",
   "execution_count": 12,
   "metadata": {},
   "outputs": [],
   "source": [
    "# Utiliza estas dos funciones para cambiar la forma de los array y hacer operaciones entre ellos:\n",
    "#.reshape()\n",
    "#.transpose()\n",
    "\n",
    "suma1 = array_tri_1.reshape((2,15))\n",
    "suma2 = array_tri_2.reshape((2,15))"
   ]
  },
  {
   "cell_type": "code",
   "execution_count": 13,
   "metadata": {},
   "outputs": [
    {
     "data": {
      "text/plain": [
       "[array([[360, 145, 311, 225, 186, 395, 255, 417, 311, 471, 201, 183, 320,\n",
       "         164,  71],\n",
       "        [403, 171, 273,  66,  92, 197, 273, 205, 171, 170, 445, 226, 288,\n",
       "         243, 422]])]"
      ]
     },
     "execution_count": 13,
     "metadata": {},
     "output_type": "execute_result"
    }
   ],
   "source": [
    "suma_arrays = [suma1+suma2]\n",
    "suma_arrays"
   ]
  },
  {
   "cell_type": "code",
   "execution_count": 17,
   "metadata": {},
   "outputs": [
    {
     "data": {
      "text/plain": [
       "[array([[[360, 146,  68],\n",
       "         [161, 271, 257],\n",
       "         [315, 486, 263],\n",
       "         [302, 306, 133],\n",
       "         [128,   6, 238]],\n",
       " \n",
       "        [[408, 459, 392],\n",
       "         [230,  19, 279],\n",
       "         [338, 163, 180],\n",
       "         [219, 245, 170],\n",
       "         [434, 262, 422]]])]"
      ]
     },
     "execution_count": 17,
     "metadata": {},
     "output_type": "execute_result"
    }
   ],
   "source": [
    "suma_3 = np.transpose(array_tri_2,(1,2,0))\n",
    "\n",
    "nueva_suma = [suma_3 + array_tri_1]\n",
    "nueva_suma"
   ]
  }
 ],
 "metadata": {
  "kernelspec": {
   "display_name": "base",
   "language": "python",
   "name": "python3"
  },
  "language_info": {
   "codemirror_mode": {
    "name": "ipython",
    "version": 3
   },
   "file_extension": ".py",
   "mimetype": "text/x-python",
   "name": "python",
   "nbconvert_exporter": "python",
   "pygments_lexer": "ipython3",
   "version": "3.9.7"
  },
  "orig_nbformat": 4
 },
 "nbformat": 4,
 "nbformat_minor": 2
}
