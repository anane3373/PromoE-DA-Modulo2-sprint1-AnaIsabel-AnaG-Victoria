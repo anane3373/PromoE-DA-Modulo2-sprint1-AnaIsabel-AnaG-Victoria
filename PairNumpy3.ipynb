{
 "cells": [
  {
   "cell_type": "markdown",
   "metadata": {},
   "source": [
    "<p>1. Cread un array de tres dimensiones de 2 matrices, 3 filas y 5 columnas cuyos valores solo tengan 1 decimales. Sobre el array creado anteriormente, extraed:</p>"
   ]
  },
  {
   "cell_type": "code",
   "execution_count": 1,
   "metadata": {},
   "outputs": [],
   "source": [
    "import numpy as np"
   ]
  },
  {
   "cell_type": "code",
   "execution_count": 4,
   "metadata": {},
   "outputs": [
    {
     "data": {
      "text/plain": [
       "array([[[0.6, 0.2, 0.9, 0.2, 0.5],\n",
       "        [0.5, 0.2, 0.1, 0.6, 0.7],\n",
       "        [0.1, 0.6, 0.7, 0.9, 1. ]],\n",
       "\n",
       "       [[0.4, 0.4, 0.3, 0.5, 0.8],\n",
       "        [0.4, 0. , 0.3, 0.3, 0.1],\n",
       "        [0.3, 0.1, 0.3, 0. , 0.7]]])"
      ]
     },
     "execution_count": 4,
     "metadata": {},
     "output_type": "execute_result"
    }
   ],
   "source": [
    "array1 = np.random.rand(2,3,5).round(1)\n",
    "array1\n"
   ]
  },
  {
   "cell_type": "markdown",
   "metadata": {},
   "source": [
    "<p>2. Calculad la media del array y almacenarlos en una variable. Redondead a un decimal.</p>"
   ]
  },
  {
   "cell_type": "code",
   "execution_count": 5,
   "metadata": {},
   "outputs": [
    {
     "data": {
      "text/plain": [
       "0.4"
      ]
     },
     "execution_count": 5,
     "metadata": {},
     "output_type": "execute_result"
    }
   ],
   "source": [
    "media = np.mean(array1).round(1)\n",
    "media"
   ]
  },
  {
   "cell_type": "markdown",
   "metadata": {},
   "source": [
    "<p>3. Calculad el valor máximo del array y almacenarlos en una variable. Redondead a un decimal.</p>"
   ]
  },
  {
   "cell_type": "code",
   "execution_count": 7,
   "metadata": {},
   "outputs": [
    {
     "data": {
      "text/plain": [
       "1.0"
      ]
     },
     "execution_count": 7,
     "metadata": {},
     "output_type": "execute_result"
    }
   ],
   "source": [
    "max = np.max(array1).round(1)\n",
    "max"
   ]
  },
  {
   "cell_type": "markdown",
   "metadata": {},
   "source": [
    "<p>4. Calculad el valor mínimo del array y almacenarlos en una variable. Redondead a un decimal.</p>"
   ]
  },
  {
   "cell_type": "code",
   "execution_count": 8,
   "metadata": {},
   "outputs": [
    {
     "data": {
      "text/plain": [
       "0.0"
      ]
     },
     "execution_count": 8,
     "metadata": {},
     "output_type": "execute_result"
    }
   ],
   "source": [
    "min = np.min(array1).round(1)\n",
    "min"
   ]
  },
  {
   "cell_type": "markdown",
   "metadata": {},
   "source": [
    "<p>5. Cread un array vacío con la misma forma y dimensiones que el array creado anteriormente.</p>\n",
    "<p>Vamos a reemplazar los valores de la matriz vacía que nos acabamos de crear pero basándonos en los valores del primer array bajo las siguientes condiciones:</p>\n",
    "<ul>\n",
    "<li>Si el valor del array es igual que la media, se reemplaza por \"A\".</li>\n",
    "<li>Si el valor del array es mayor que la media, se reemplaza por \"B\".</li>\n",
    "<li>Si el valor del array es menor que la media, se reemplaza por \"C\".</li>\n",
    "<li>Si el valor es igual que el máximo, se reemplaza por \"D\".</li>\n",
    "<li>Si el valor es igual que el mínimo, se reemplaza por \"E\".</li>\n",
    "</ul>"
   ]
  },
  {
   "cell_type": "code",
   "execution_count": 9,
   "metadata": {},
   "outputs": [
    {
     "data": {
      "text/plain": [
       "array([[['', '', '', '', ''],\n",
       "        ['', '', '', '', ''],\n",
       "        ['', '', '', '', '']],\n",
       "\n",
       "       [['', '', '', '', ''],\n",
       "        ['', '', '', '', ''],\n",
       "        ['', '', '', '', '']]], dtype='<U1')"
      ]
     },
     "execution_count": 9,
     "metadata": {},
     "output_type": "execute_result"
    }
   ],
   "source": [
    "array2 = np.empty_like(array1, dtype= str)\n",
    "array2"
   ]
  },
  {
   "cell_type": "code",
   "execution_count": 32,
   "metadata": {},
   "outputs": [
    {
     "name": "stdout",
     "output_type": "stream",
     "text": [
      "0.6\n",
      "0.2\n",
      "0.9\n",
      "0.2\n",
      "0.5\n",
      "0.5\n",
      "0.2\n",
      "0.1\n",
      "0.6\n",
      "0.7\n",
      "0.1\n",
      "0.6\n",
      "0.7\n",
      "0.9\n",
      "1.0\n",
      "0.4\n",
      "0.4\n",
      "0.3\n",
      "0.5\n",
      "0.8\n",
      "0.4\n",
      "0.0\n",
      "0.3\n",
      "0.3\n",
      "0.1\n",
      "0.3\n",
      "0.1\n",
      "0.3\n",
      "0.0\n",
      "0.7\n"
     ]
    }
   ],
   "source": [
    "for i in range(array1.shape[0]):\n",
    "    #i es la dimension\n",
    "    for j in range(array1.shape[1]):\n",
    "        #j son las filas\n",
    "        for k in range(array1.shape[2]):\n",
    "                #k son las columnas\n",
    "                print(array1[i,j,k])\n",
    "                if array1[i,j,k] == media:\n",
    "                        array2[i,j,k] = \"A\"\n",
    "                elif array1[i,j,k] == max:\n",
    "                        #Ponemos la condición de máximo y mínimo antes porque sino al ser mayor o menor que la media se queda en esa condición\n",
    "                        array2[i,j,k]= \"D\"\n",
    "                elif array1[i,j,k] == min:\n",
    "                        array2[i,j,k]= \"E\"  \n",
    "                elif array1[i,j,k] > media:\n",
    "                        array2[i,j,k] = \"B\"\n",
    "                elif array1[i,j,k] < media:\n",
    "                        array2[i,j,k] = \"C\"\n",
    "                \n",
    "       \n",
    "   "
   ]
  },
  {
   "cell_type": "code",
   "execution_count": 31,
   "metadata": {},
   "outputs": [
    {
     "data": {
      "text/plain": [
       "array([[['B', 'C', 'B', 'C', 'B'],\n",
       "        ['B', 'C', 'C', 'B', 'B'],\n",
       "        ['C', 'B', 'B', 'B', 'D']],\n",
       "\n",
       "       [['A', 'A', 'C', 'B', 'B'],\n",
       "        ['A', 'E', 'C', 'C', 'C'],\n",
       "        ['C', 'C', 'C', 'E', 'B']]], dtype='<U1')"
      ]
     },
     "execution_count": 31,
     "metadata": {},
     "output_type": "execute_result"
    }
   ],
   "source": [
    "array2"
   ]
  },
  {
   "cell_type": "markdown",
   "metadata": {},
   "source": [
    "<p>6. Estupendo, tenemos un array con strings. Ahora realizaremos un ejercicio similar al anterior, pero en este caso nos crearemos un array vacío unidimensional de 30 elementos. Al final de este ejercicio acabaremos teniendo un array de tres dimensiones con la misma forma que el primero que nos creamos.</p<>\n",
    "En este caso:\n",
    "Si el valor del array creado en el ejercicio anterior es \"A\" o \"B\" lo reemplazaremos por 1\n",
    "Si el valor del array creado en el ejercicio anterior es \"C\" o \"D\" lo reemplazaremos por 2\n",
    "Si el valor del array creado en el ejercicio anterior es \"E\" lo reemplazaremos por 3.\n",
    "Una vez que hayas reemplazado todos los valores cambiad la forma del array para que sea de tres dimensiones, con 2 matrices, 3 filas y 5 columnas."
   ]
  },
  {
   "cell_type": "code",
   "execution_count": 39,
   "metadata": {},
   "outputs": [
    {
     "data": {
      "text/plain": [
       "array([ 94807753151365,               0, 140660947340656, 140660947317040,\n",
       "       140660932494736, 140660932800304, 140660932498096, 140660932845184,\n",
       "       140660932800368, 140660950002736, 140660932467312, 140660949733104,\n",
       "       140660939904944, 140660941425328, 140660932498224, 140660950002864,\n",
       "       140660948908016, 140660947246832, 140660932498416, 140660938539504,\n",
       "       140660948594352, 140660949822752, 140660949749872, 140660949732080,\n",
       "       140660949709488, 140660932498544, 140660949174128, 140660932498688,\n",
       "       140660932498736, 140660949691056])"
      ]
     },
     "execution_count": 39,
     "metadata": {},
     "output_type": "execute_result"
    }
   ],
   "source": [
    "arrayv = np.empty((30), dtype = int)\n",
    "arrayv"
   ]
  },
  {
   "cell_type": "code",
   "execution_count": 40,
   "metadata": {},
   "outputs": [
    {
     "name": "stdout",
     "output_type": "stream",
     "text": [
      "0\n",
      "1\n",
      "2\n",
      "3\n",
      "4\n",
      "0\n",
      "1\n",
      "2\n",
      "3\n",
      "4\n",
      "0\n",
      "1\n",
      "2\n",
      "3\n",
      "4\n",
      "0\n",
      "1\n",
      "2\n",
      "3\n",
      "4\n",
      "0\n",
      "1\n",
      "2\n",
      "3\n",
      "4\n",
      "0\n",
      "1\n",
      "2\n",
      "3\n",
      "4\n"
     ]
    }
   ],
   "source": [
    "for i in range(array2.shape[0]):\n",
    "    #i es la dimension\n",
    "    for j in range(array2.shape[1]):\n",
    "        #j son las filas\n",
    "        for k in range(array2.shape[2]):\n",
    "            print(array2)"
   ]
  }
 ],
 "metadata": {
  "kernelspec": {
   "display_name": "base",
   "language": "python",
   "name": "python3"
  },
  "language_info": {
   "codemirror_mode": {
    "name": "ipython",
    "version": 3
   },
   "file_extension": ".py",
   "mimetype": "text/x-python",
   "name": "python",
   "nbconvert_exporter": "python",
   "pygments_lexer": "ipython3",
   "version": "3.9.7"
  },
  "orig_nbformat": 4
 },
 "nbformat": 4,
 "nbformat_minor": 2
}
