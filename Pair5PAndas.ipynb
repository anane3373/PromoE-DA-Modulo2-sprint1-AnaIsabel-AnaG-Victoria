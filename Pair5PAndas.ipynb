{
 "cells": [
  {
   "cell_type": "markdown",
   "metadata": {},
   "source": [
    "<p>Antes de empezar, deberéis crear una columna nueva en los dataframes de 2016.xlsx, 2017.xlsx, 2018.xlsx, 2019.xlsx, 2020.xlsx que contenga los valores del año al que corresponden.</p>"
   ]
  },
  {
   "cell_type": "code",
   "execution_count": 30,
   "metadata": {},
   "outputs": [],
   "source": [
    "import pandas as pd"
   ]
  },
  {
   "cell_type": "code",
   "execution_count": 31,
   "metadata": {},
   "outputs": [],
   "source": [
    "df2016 = pd.read_csv(\"datos/2016.csv\")"
   ]
  },
  {
   "cell_type": "code",
   "execution_count": 32,
   "metadata": {},
   "outputs": [],
   "source": [
    "df2017 = pd.read_excel(\"datos/2017.xlsx\")"
   ]
  },
  {
   "cell_type": "code",
   "execution_count": 33,
   "metadata": {},
   "outputs": [],
   "source": [
    "df2018 = pd.read_excel(\"datos/2018.xlsx\")"
   ]
  },
  {
   "cell_type": "code",
   "execution_count": 34,
   "metadata": {},
   "outputs": [],
   "source": [
    "df2019 = pd.read_excel(\"datos/2019.xlsx\")"
   ]
  },
  {
   "cell_type": "code",
   "execution_count": 35,
   "metadata": {},
   "outputs": [],
   "source": [
    "df2020 = pd.read_excel(\"datos/2020.xlsx\")"
   ]
  },
  {
   "cell_type": "code",
   "execution_count": 36,
   "metadata": {},
   "outputs": [],
   "source": [
    "df2016[\"año\"] = 2016"
   ]
  },
  {
   "cell_type": "code",
   "execution_count": 37,
   "metadata": {},
   "outputs": [],
   "source": [
    "df2017[\"año\"] = 2017"
   ]
  },
  {
   "cell_type": "code",
   "execution_count": 38,
   "metadata": {},
   "outputs": [],
   "source": [
    "df2018[\"año\"] = 2018 \n",
    "df2019[\"año\"] = 2019\n",
    "df2020[\"año\"] = 2020"
   ]
  },
  {
   "cell_type": "markdown",
   "metadata": {},
   "source": [
    "<p>Para llevar a cabo nuestro objetivo tendréis que seguir los siguientes pasos:</p>\n",
    "<p>1. Cargad los siete ficheros nombrados anteriormente y los exploramos para familizarizarnos con ellos y saber que información tienen en común y debatir entre vosotras como podríamos juntar toda la información.</p>"
   ]
  },
  {
   "cell_type": "code",
   "execution_count": 39,
   "metadata": {},
   "outputs": [
    {
     "name": "stdout",
     "output_type": "stream",
     "text": [
      "Index(['id_ticket', 'fecha', 'id_empleado', 'id_agente', 'categoría', 'tipo',\n",
      "       'severidad', 'prioridad', 'días_resolución', 'satisfacción', 'año'],\n",
      "      dtype='object') Index(['ID Ticket', 'Fecha', 'ID Empleado', 'ID Agente', 'Categoría', 'Tipo',\n",
      "       'Severidad', 'Prioridad', 'Días Resolución', 'Satisfacción', 'año'],\n",
      "      dtype='object') Index(['ID Ticket', 'Fecha', 'ID Empleado', 'ID Agente', 'Categoría', 'Tipo',\n",
      "       'Severidad', 'Prioridad', 'Días Resolución', 'Satisfacción', 'año'],\n",
      "      dtype='object') Index(['ID Ticket', 'Fecha', 'ID Empleado', 'ID Agente', 'Categoría', 'Tipo',\n",
      "       'Severidad', 'Prioridad', 'Días Resolución', 'Satisfacción', 'año'],\n",
      "      dtype='object') Index(['ID Ticket', 'Fecha', 'Tipo', 'Categoría', 'ID Empleado', 'ID Agente',\n",
      "       'Severidad', 'Prioridad', 'Días Resolución', 'Satisfacción', 'año'],\n",
      "      dtype='object')\n"
     ]
    }
   ],
   "source": [
    "print(df2016.columns, df2017.columns,df2018.columns,df2019.columns,df2020.columns)"
   ]
  },
  {
   "cell_type": "markdown",
   "metadata": {},
   "source": [
    "<p>Chequead que los nombres de las columnas y ver si se llaman iguales entre dataframes. ¿Están todas en minúsculas? ¿Tienen espacios? En caso de que no sea así homogeneizar los nombres de las columnas para que todos los dataframes tengan el mismo formato.</p>"
   ]
  },
  {
   "cell_type": "code",
   "execution_count": 40,
   "metadata": {},
   "outputs": [],
   "source": [
    "def rename_columnas(dataframe):\n",
    "    columnas = {col: col.lower().replace (\" \",\"_\") for col in dataframe.columns}\n",
    "    dataframe.rename(columns = columnas, inplace = True)\n",
    "    return dataframe"
   ]
  },
  {
   "cell_type": "code",
   "execution_count": 41,
   "metadata": {},
   "outputs": [],
   "source": [
    "df2016 = rename_columnas(df2016)\n",
    "df2017 = rename_columnas(df2017)\n",
    "df2018 = rename_columnas(df2018)\n",
    "df2019 = rename_columnas(df2019)\n",
    "df2020 = rename_columnas(df2020)"
   ]
  },
  {
   "cell_type": "code",
   "execution_count": 42,
   "metadata": {},
   "outputs": [
    {
     "data": {
      "text/plain": [
       "Index(['id_ticket', 'fecha', 'tipo', 'categoría', 'id_empleado', 'id_agente',\n",
       "       'severidad', 'prioridad', 'días_resolución', 'satisfacción', 'año'],\n",
       "      dtype='object')"
      ]
     },
     "execution_count": 42,
     "metadata": {},
     "output_type": "execute_result"
    }
   ],
   "source": [
    "df2020.columns"
   ]
  },
  {
   "cell_type": "markdown",
   "metadata": {},
   "source": [
    "<p>3. En este momento nos habremos dado cuenta que el DataFrame que generamos en el pair programming Pandas IV es similar al DataFrame de los datos históricos (2017.xlsx, 2018.xlsx, 2019.xlsx, 2020.xlsx). Si recordamos, eliminamos algunas columnas en la sesión III que no eran útiles, tendréis que ver si esas columnas están en los dataframes nuevos, si es así eliminarlas. Por lo tanto, realizad los cambios que creáis necesarios para que los dataframes sean iguales y luego juntadlos usando el mejor método.</p>"
   ]
  },
  {
   "cell_type": "code",
   "execution_count": 43,
   "metadata": {},
   "outputs": [],
   "source": [
    "df20161 = pd.read_csv(\"datos/PairPandas4.csv\")"
   ]
  },
  {
   "cell_type": "code",
   "execution_count": 46,
   "metadata": {},
   "outputs": [
    {
     "data": {
      "text/plain": [
       "Index(['id_ticket', 'fecha', 'id_empleado', 'id_agente', 'categoría', 'tipo',\n",
       "       'severidad', 'prioridad', 'días_resolución', 'satisfacción', 'año'],\n",
       "      dtype='object')"
      ]
     },
     "execution_count": 46,
     "metadata": {},
     "output_type": "execute_result"
    }
   ],
   "source": [
    "df2017.columns"
   ]
  },
  {
   "cell_type": "code",
   "execution_count": 50,
   "metadata": {},
   "outputs": [],
   "source": [
    "concat1 = pd.concat([df2016, df2017, df2018,df2019,df2020], ignore_index= False, axis = 0)"
   ]
  },
  {
   "cell_type": "code",
   "execution_count": 51,
   "metadata": {},
   "outputs": [
    {
     "data": {
      "text/html": [
       "<div>\n",
       "<style scoped>\n",
       "    .dataframe tbody tr th:only-of-type {\n",
       "        vertical-align: middle;\n",
       "    }\n",
       "\n",
       "    .dataframe tbody tr th {\n",
       "        vertical-align: top;\n",
       "    }\n",
       "\n",
       "    .dataframe thead th {\n",
       "        text-align: right;\n",
       "    }\n",
       "</style>\n",
       "<table border=\"1\" class=\"dataframe\">\n",
       "  <thead>\n",
       "    <tr style=\"text-align: right;\">\n",
       "      <th></th>\n",
       "      <th>id_ticket</th>\n",
       "      <th>fecha</th>\n",
       "      <th>id_empleado</th>\n",
       "      <th>id_agente</th>\n",
       "      <th>categoría</th>\n",
       "      <th>tipo</th>\n",
       "      <th>severidad</th>\n",
       "      <th>prioridad</th>\n",
       "      <th>días_resolución</th>\n",
       "      <th>satisfacción</th>\n",
       "      <th>año</th>\n",
       "    </tr>\n",
       "  </thead>\n",
       "  <tbody>\n",
       "    <tr>\n",
       "      <th>10646</th>\n",
       "      <td>TDLENT-2042591275</td>\n",
       "      <td>2016-08-09</td>\n",
       "      <td>737.0</td>\n",
       "      <td>22.0</td>\n",
       "      <td>Acceso&amp;%Login</td>\n",
       "      <td>Problema</td>\n",
       "      <td>NaN</td>\n",
       "      <td>0 - Sin Asignar</td>\n",
       "      <td>0.0</td>\n",
       "      <td>1.0</td>\n",
       "      <td>2016</td>\n",
       "    </tr>\n",
       "    <tr>\n",
       "      <th>11771</th>\n",
       "      <td>KHLEST-9044123083</td>\n",
       "      <td>2020-10-19 00:00:00</td>\n",
       "      <td>1718.0</td>\n",
       "      <td>50.0</td>\n",
       "      <td>Sistema</td>\n",
       "      <td>Problema</td>\n",
       "      <td>2 - Normal</td>\n",
       "      <td>3 - Alta</td>\n",
       "      <td>10.0</td>\n",
       "      <td>5.0</td>\n",
       "      <td>2020</td>\n",
       "    </tr>\n",
       "    <tr>\n",
       "      <th>12166</th>\n",
       "      <td>KHLTER-8643924463</td>\n",
       "      <td>2020-04-03 00:00:00</td>\n",
       "      <td>6.0</td>\n",
       "      <td>4.0</td>\n",
       "      <td>Software</td>\n",
       "      <td>Solicitud</td>\n",
       "      <td>2 - Normal</td>\n",
       "      <td>3 - Alta</td>\n",
       "      <td>6.0</td>\n",
       "      <td>4.0</td>\n",
       "      <td>2020</td>\n",
       "    </tr>\n",
       "    <tr>\n",
       "      <th>20947</th>\n",
       "      <td>TWLTER-3043568557</td>\n",
       "      <td>2019-04-13 00:00:00</td>\n",
       "      <td>1395.0</td>\n",
       "      <td>25.0</td>\n",
       "      <td>Hardware</td>\n",
       "      <td>Solicitud</td>\n",
       "      <td>2 - Normal</td>\n",
       "      <td>1 - Baja</td>\n",
       "      <td>8.0</td>\n",
       "      <td>4.0</td>\n",
       "      <td>2019</td>\n",
       "    </tr>\n",
       "    <tr>\n",
       "      <th>15393</th>\n",
       "      <td>SHRTST-4243526630</td>\n",
       "      <td>2019-03-02 00:00:00</td>\n",
       "      <td>373.0</td>\n",
       "      <td>6.0</td>\n",
       "      <td>Sistema</td>\n",
       "      <td>Solicitud</td>\n",
       "      <td>1 - Menor</td>\n",
       "      <td>3 - Alta</td>\n",
       "      <td>0.0</td>\n",
       "      <td>4.0</td>\n",
       "      <td>2019</td>\n",
       "    </tr>\n",
       "    <tr>\n",
       "      <th>9784</th>\n",
       "      <td>KDLTET-3444184720</td>\n",
       "      <td>2020-12-19 00:00:00</td>\n",
       "      <td>1152.0</td>\n",
       "      <td>7.0</td>\n",
       "      <td>Software</td>\n",
       "      <td>Solicitud</td>\n",
       "      <td>2 - Normal</td>\n",
       "      <td>0 - Sin Asignar</td>\n",
       "      <td>14.0</td>\n",
       "      <td>1.0</td>\n",
       "      <td>2020</td>\n",
       "    </tr>\n",
       "    <tr>\n",
       "      <th>12013</th>\n",
       "      <td>TDLEER-3643043828</td>\n",
       "      <td>2017-11-04 00:00:00</td>\n",
       "      <td>952.0</td>\n",
       "      <td>38.0</td>\n",
       "      <td>Software</td>\n",
       "      <td>Problema</td>\n",
       "      <td>2 - Normal</td>\n",
       "      <td>0 - Sin Asignar</td>\n",
       "      <td>6.0</td>\n",
       "      <td>4.0</td>\n",
       "      <td>2017</td>\n",
       "    </tr>\n",
       "    <tr>\n",
       "      <th>21141</th>\n",
       "      <td>SMLEST-2743918258</td>\n",
       "      <td>2020-03-28 00:00:00</td>\n",
       "      <td>1265.0</td>\n",
       "      <td>32.0</td>\n",
       "      <td>Sistema</td>\n",
       "      <td>Problema</td>\n",
       "      <td>2 - Normal</td>\n",
       "      <td>2 - Media</td>\n",
       "      <td>7.0</td>\n",
       "      <td>4.0</td>\n",
       "      <td>2020</td>\n",
       "    </tr>\n",
       "    <tr>\n",
       "      <th>5676</th>\n",
       "      <td>KDRTET-9443046604</td>\n",
       "      <td>2017-11-07 00:00:00</td>\n",
       "      <td>690.0</td>\n",
       "      <td>16.0</td>\n",
       "      <td>Software</td>\n",
       "      <td>Solicitud</td>\n",
       "      <td>3 - Mayor</td>\n",
       "      <td>0 - Sin Asignar</td>\n",
       "      <td>4.0</td>\n",
       "      <td>1.0</td>\n",
       "      <td>2017</td>\n",
       "    </tr>\n",
       "    <tr>\n",
       "      <th>15438</th>\n",
       "      <td>KWLEER-6244138359</td>\n",
       "      <td>2020-11-03 00:00:00</td>\n",
       "      <td>1005.0</td>\n",
       "      <td>43.0</td>\n",
       "      <td>Software</td>\n",
       "      <td>Problema</td>\n",
       "      <td>2 - Normal</td>\n",
       "      <td>1 - Baja</td>\n",
       "      <td>2.0</td>\n",
       "      <td>3.0</td>\n",
       "      <td>2020</td>\n",
       "    </tr>\n",
       "  </tbody>\n",
       "</table>\n",
       "</div>"
      ],
      "text/plain": [
       "               id_ticket                fecha  id_empleado  id_agente  \\\n",
       "10646  TDLENT-2042591275           2016-08-09        737.0       22.0   \n",
       "11771  KHLEST-9044123083  2020-10-19 00:00:00       1718.0       50.0   \n",
       "12166  KHLTER-8643924463  2020-04-03 00:00:00          6.0        4.0   \n",
       "20947  TWLTER-3043568557  2019-04-13 00:00:00       1395.0       25.0   \n",
       "15393  SHRTST-4243526630  2019-03-02 00:00:00        373.0        6.0   \n",
       "9784   KDLTET-3444184720  2020-12-19 00:00:00       1152.0        7.0   \n",
       "12013  TDLEER-3643043828  2017-11-04 00:00:00        952.0       38.0   \n",
       "21141  SMLEST-2743918258  2020-03-28 00:00:00       1265.0       32.0   \n",
       "5676   KDRTET-9443046604  2017-11-07 00:00:00        690.0       16.0   \n",
       "15438  KWLEER-6244138359  2020-11-03 00:00:00       1005.0       43.0   \n",
       "\n",
       "           categoría       tipo   severidad        prioridad  días_resolución  \\\n",
       "10646  Acceso&%Login   Problema         NaN  0 - Sin Asignar              0.0   \n",
       "11771        Sistema   Problema  2 - Normal         3 - Alta             10.0   \n",
       "12166       Software  Solicitud  2 - Normal         3 - Alta              6.0   \n",
       "20947       Hardware  Solicitud  2 - Normal         1 - Baja              8.0   \n",
       "15393        Sistema  Solicitud   1 - Menor         3 - Alta              0.0   \n",
       "9784        Software  Solicitud  2 - Normal  0 - Sin Asignar             14.0   \n",
       "12013       Software   Problema  2 - Normal  0 - Sin Asignar              6.0   \n",
       "21141        Sistema   Problema  2 - Normal        2 - Media              7.0   \n",
       "5676        Software  Solicitud   3 - Mayor  0 - Sin Asignar              4.0   \n",
       "15438       Software   Problema  2 - Normal         1 - Baja              2.0   \n",
       "\n",
       "       satisfacción   año  \n",
       "10646           1.0  2016  \n",
       "11771           5.0  2020  \n",
       "12166           4.0  2020  \n",
       "20947           4.0  2019  \n",
       "15393           4.0  2019  \n",
       "9784            1.0  2020  \n",
       "12013           4.0  2017  \n",
       "21141           4.0  2020  \n",
       "5676            1.0  2017  \n",
       "15438           3.0  2020  "
      ]
     },
     "execution_count": 51,
     "metadata": {},
     "output_type": "execute_result"
    }
   ],
   "source": [
    "concat1.sample(10)"
   ]
  },
  {
   "cell_type": "markdown",
   "metadata": {},
   "source": [
    "<p>4. Es el momento de unir la información de todos los puestos y los empleados. Debatid que método es el más correcto para unir toda esta información y ejecutadlo.</p>"
   ]
  },
  {
   "cell_type": "code",
   "execution_count": 52,
   "metadata": {},
   "outputs": [],
   "source": [
    "puestos =  pd.read_csv(\"datos/Puestos.csv\")\n",
    "empleados = pd.read_csv(\"datos/Empleados.csv\")"
   ]
  },
  {
   "cell_type": "code",
   "execution_count": 53,
   "metadata": {},
   "outputs": [
    {
     "name": "stdout",
     "output_type": "stream",
     "text": [
      "Index(['Unnamed: 0', 'id_puesto', 'puesto', 'departamento', 'tipo_puesto'], dtype='object') Index(['Unnamed: 0', 'turno', 'id_empleado', 'apellido', 'nombre', 'id_puesto',\n",
      "       'email'],\n",
      "      dtype='object')\n"
     ]
    }
   ],
   "source": [
    "print(puestos.columns, empleados.columns)"
   ]
  },
  {
   "cell_type": "code",
   "execution_count": 55,
   "metadata": {},
   "outputs": [],
   "source": [
    "puestos_emp_inner = puestos.merge(empleados, on='id_puesto')"
   ]
  },
  {
   "cell_type": "code",
   "execution_count": 56,
   "metadata": {},
   "outputs": [
    {
     "data": {
      "text/html": [
       "<div>\n",
       "<style scoped>\n",
       "    .dataframe tbody tr th:only-of-type {\n",
       "        vertical-align: middle;\n",
       "    }\n",
       "\n",
       "    .dataframe tbody tr th {\n",
       "        vertical-align: top;\n",
       "    }\n",
       "\n",
       "    .dataframe thead th {\n",
       "        text-align: right;\n",
       "    }\n",
       "</style>\n",
       "<table border=\"1\" class=\"dataframe\">\n",
       "  <thead>\n",
       "    <tr style=\"text-align: right;\">\n",
       "      <th></th>\n",
       "      <th>Unnamed: 0_x</th>\n",
       "      <th>id_puesto</th>\n",
       "      <th>puesto</th>\n",
       "      <th>departamento</th>\n",
       "      <th>tipo_puesto</th>\n",
       "      <th>Unnamed: 0_y</th>\n",
       "      <th>turno</th>\n",
       "      <th>id_empleado</th>\n",
       "      <th>apellido</th>\n",
       "      <th>nombre</th>\n",
       "      <th>email</th>\n",
       "    </tr>\n",
       "  </thead>\n",
       "  <tbody>\n",
       "    <tr>\n",
       "      <th>243</th>\n",
       "      <td>12</td>\n",
       "      <td>15-24100</td>\n",
       "      <td>Supervisor de Producción</td>\n",
       "      <td>PRODUCCION</td>\n",
       "      <td>Mandos Medios</td>\n",
       "      <td>412</td>\n",
       "      <td>NaN</td>\n",
       "      <td>177</td>\n",
       "      <td>OLGUIN</td>\n",
       "      <td>ISELDA</td>\n",
       "      <td>iselda.olguin@tractchun.com</td>\n",
       "    </tr>\n",
       "    <tr>\n",
       "      <th>101</th>\n",
       "      <td>6</td>\n",
       "      <td>10-32110</td>\n",
       "      <td>Almacenista</td>\n",
       "      <td>MATERIALES</td>\n",
       "      <td>Administrativo</td>\n",
       "      <td>532</td>\n",
       "      <td>NaN</td>\n",
       "      <td>743</td>\n",
       "      <td>VALDEZ</td>\n",
       "      <td>ANA</td>\n",
       "      <td>ana.valdez@tractchun.com</td>\n",
       "    </tr>\n",
       "    <tr>\n",
       "      <th>1541</th>\n",
       "      <td>73</td>\n",
       "      <td>80-22000</td>\n",
       "      <td>Gerente de mantenimiento</td>\n",
       "      <td>MANTENIMIENTO</td>\n",
       "      <td>Gerencia</td>\n",
       "      <td>805</td>\n",
       "      <td>NaN</td>\n",
       "      <td>135</td>\n",
       "      <td>NORIEGA</td>\n",
       "      <td>MARCOS</td>\n",
       "      <td>marcos.noriega@tractchun.com</td>\n",
       "    </tr>\n",
       "    <tr>\n",
       "      <th>1001</th>\n",
       "      <td>47</td>\n",
       "      <td>45-11000</td>\n",
       "      <td>Supervisor de Aseguramiento de Calidad</td>\n",
       "      <td>INGENIERIA DE CALIDAD</td>\n",
       "      <td>Mandos Medios</td>\n",
       "      <td>1583</td>\n",
       "      <td>NaN</td>\n",
       "      <td>136</td>\n",
       "      <td>CORELLA</td>\n",
       "      <td>ALBERTO</td>\n",
       "      <td>alberto.corella@tractchun.com</td>\n",
       "    </tr>\n",
       "    <tr>\n",
       "      <th>1424</th>\n",
       "      <td>68</td>\n",
       "      <td>70-21050</td>\n",
       "      <td>Supervisor General de Recursos Humanos</td>\n",
       "      <td>Recursos Humanos</td>\n",
       "      <td>Mandos Medios</td>\n",
       "      <td>674</td>\n",
       "      <td>NaN</td>\n",
       "      <td>1455</td>\n",
       "      <td>Perez</td>\n",
       "      <td>Andrea</td>\n",
       "      <td>andrea.perez@tractchun.com</td>\n",
       "    </tr>\n",
       "  </tbody>\n",
       "</table>\n",
       "</div>"
      ],
      "text/plain": [
       "      Unnamed: 0_x id_puesto                                  puesto  \\\n",
       "243             12  15-24100                Supervisor de Producción   \n",
       "101              6  10-32110                             Almacenista   \n",
       "1541            73  80-22000                Gerente de mantenimiento   \n",
       "1001            47  45-11000  Supervisor de Aseguramiento de Calidad   \n",
       "1424            68  70-21050  Supervisor General de Recursos Humanos   \n",
       "\n",
       "               departamento     tipo_puesto  Unnamed: 0_y turno  id_empleado  \\\n",
       "243              PRODUCCION   Mandos Medios           412   NaN          177   \n",
       "101              MATERIALES  Administrativo           532   NaN          743   \n",
       "1541          MANTENIMIENTO        Gerencia           805   NaN          135   \n",
       "1001  INGENIERIA DE CALIDAD   Mandos Medios          1583   NaN          136   \n",
       "1424       Recursos Humanos   Mandos Medios           674   NaN         1455   \n",
       "\n",
       "     apellido   nombre                          email  \n",
       "243    OLGUIN   ISELDA    iselda.olguin@tractchun.com  \n",
       "101    VALDEZ      ANA       ana.valdez@tractchun.com  \n",
       "1541  NORIEGA   MARCOS   marcos.noriega@tractchun.com  \n",
       "1001  CORELLA  ALBERTO  alberto.corella@tractchun.com  \n",
       "1424    Perez   Andrea     andrea.perez@tractchun.com  "
      ]
     },
     "execution_count": 56,
     "metadata": {},
     "output_type": "execute_result"
    }
   ],
   "source": [
    "puestos_emp_inner.sample(5)"
   ]
  },
  {
   "cell_type": "code",
   "execution_count": 60,
   "metadata": {},
   "outputs": [],
   "source": [
    "puestos_emp_inner.drop([\"Unnamed: 0_x\"], axis = 1, inplace = True)"
   ]
  },
  {
   "cell_type": "code",
   "execution_count": 61,
   "metadata": {},
   "outputs": [],
   "source": [
    "puestos_emp_inner.drop([\"Unnamed: 0_y\"], axis = 1, inplace = True)"
   ]
  },
  {
   "cell_type": "code",
   "execution_count": 62,
   "metadata": {},
   "outputs": [
    {
     "data": {
      "text/html": [
       "<div>\n",
       "<style scoped>\n",
       "    .dataframe tbody tr th:only-of-type {\n",
       "        vertical-align: middle;\n",
       "    }\n",
       "\n",
       "    .dataframe tbody tr th {\n",
       "        vertical-align: top;\n",
       "    }\n",
       "\n",
       "    .dataframe thead th {\n",
       "        text-align: right;\n",
       "    }\n",
       "</style>\n",
       "<table border=\"1\" class=\"dataframe\">\n",
       "  <thead>\n",
       "    <tr style=\"text-align: right;\">\n",
       "      <th></th>\n",
       "      <th>id_puesto</th>\n",
       "      <th>puesto</th>\n",
       "      <th>departamento</th>\n",
       "      <th>tipo_puesto</th>\n",
       "      <th>turno</th>\n",
       "      <th>id_empleado</th>\n",
       "      <th>apellido</th>\n",
       "      <th>nombre</th>\n",
       "      <th>email</th>\n",
       "    </tr>\n",
       "  </thead>\n",
       "  <tbody>\n",
       "    <tr>\n",
       "      <th>1153</th>\n",
       "      <td>50-33200</td>\n",
       "      <td>Supervisor General de Control de Producción</td>\n",
       "      <td>CONTROL DE PRODUCCION</td>\n",
       "      <td>Mandos Medios</td>\n",
       "      <td>NaN</td>\n",
       "      <td>556</td>\n",
       "      <td>Parra</td>\n",
       "      <td>Jhon</td>\n",
       "      <td>jhon .parra@tractchun.com</td>\n",
       "    </tr>\n",
       "    <tr>\n",
       "      <th>502</th>\n",
       "      <td>15-24100</td>\n",
       "      <td>Supervisor de Producción</td>\n",
       "      <td>PRODUCCION</td>\n",
       "      <td>Mandos Medios</td>\n",
       "      <td>NaN</td>\n",
       "      <td>691</td>\n",
       "      <td>Hoyos</td>\n",
       "      <td>Yomaira</td>\n",
       "      <td>yomaira.hoyos @tractchun.com</td>\n",
       "    </tr>\n",
       "    <tr>\n",
       "      <th>1298</th>\n",
       "      <td>55-23200</td>\n",
       "      <td>Ingeniero de Manufactura</td>\n",
       "      <td>INGENIERIA DE MANUFACTURA</td>\n",
       "      <td>Operativo</td>\n",
       "      <td>NaN</td>\n",
       "      <td>754</td>\n",
       "      <td>MARTINEZ</td>\n",
       "      <td>GERARDO</td>\n",
       "      <td>gerardo.martinez@tractchun.com</td>\n",
       "    </tr>\n",
       "    <tr>\n",
       "      <th>59</th>\n",
       "      <td>10-32100</td>\n",
       "      <td>Supervisor de Almacén</td>\n",
       "      <td>MATERIALES</td>\n",
       "      <td>Mandos Medios</td>\n",
       "      <td>NaN</td>\n",
       "      <td>902</td>\n",
       "      <td>BURGOS</td>\n",
       "      <td>EDA</td>\n",
       "      <td>eda.burgos@tractchun.com</td>\n",
       "    </tr>\n",
       "    <tr>\n",
       "      <th>1095</th>\n",
       "      <td>50-33100</td>\n",
       "      <td>Supervisor de Control de Producción</td>\n",
       "      <td>CONTROL DE PRODUCCION</td>\n",
       "      <td>Mandos Medios</td>\n",
       "      <td>NaN</td>\n",
       "      <td>142</td>\n",
       "      <td>NAVARRO</td>\n",
       "      <td>ERIKA</td>\n",
       "      <td>erika.navarro@tractchun.com</td>\n",
       "    </tr>\n",
       "  </tbody>\n",
       "</table>\n",
       "</div>"
      ],
      "text/plain": [
       "     id_puesto                                       puesto  \\\n",
       "1153  50-33200  Supervisor General de Control de Producción   \n",
       "502   15-24100                     Supervisor de Producción   \n",
       "1298  55-23200                     Ingeniero de Manufactura   \n",
       "59    10-32100                        Supervisor de Almacén   \n",
       "1095  50-33100          Supervisor de Control de Producción   \n",
       "\n",
       "                   departamento    tipo_puesto turno  id_empleado  apellido  \\\n",
       "1153      CONTROL DE PRODUCCION  Mandos Medios   NaN          556     Parra   \n",
       "502                  PRODUCCION  Mandos Medios   NaN          691    Hoyos    \n",
       "1298  INGENIERIA DE MANUFACTURA      Operativo   NaN          754  MARTINEZ   \n",
       "59                   MATERIALES  Mandos Medios   NaN          902    BURGOS   \n",
       "1095      CONTROL DE PRODUCCION  Mandos Medios   NaN          142   NAVARRO   \n",
       "\n",
       "       nombre                           email  \n",
       "1153    Jhon        jhon .parra@tractchun.com  \n",
       "502   Yomaira    yomaira.hoyos @tractchun.com  \n",
       "1298  GERARDO  gerardo.martinez@tractchun.com  \n",
       "59        EDA        eda.burgos@tractchun.com  \n",
       "1095    ERIKA     erika.navarro@tractchun.com  "
      ]
     },
     "execution_count": 62,
     "metadata": {},
     "output_type": "execute_result"
    }
   ],
   "source": [
    "puestos_emp_inner.sample(5)"
   ]
  },
  {
   "cell_type": "markdown",
   "metadata": {},
   "source": [
    "<p>5. Guardad los dataframes en dos csv diferentes que usaremos mañana en la clase de pair programming </p>"
   ]
  },
  {
   "cell_type": "code",
   "execution_count": 63,
   "metadata": {},
   "outputs": [],
   "source": [
    "puestos_emp_inner.to_csv(\"datos/PairPandasV-2.csv\")\n",
    "concat1.to_csv(\"datos/PairPandasV-1.csv\")"
   ]
  }
 ],
 "metadata": {
  "kernelspec": {
   "display_name": "base",
   "language": "python",
   "name": "python3"
  },
  "language_info": {
   "codemirror_mode": {
    "name": "ipython",
    "version": 3
   },
   "file_extension": ".py",
   "mimetype": "text/x-python",
   "name": "python",
   "nbconvert_exporter": "python",
   "pygments_lexer": "ipython3",
   "version": "3.9.7"
  },
  "orig_nbformat": 4
 },
 "nbformat": 4,
 "nbformat_minor": 2
}
