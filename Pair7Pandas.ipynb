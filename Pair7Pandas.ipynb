{
 "cells": [
  {
   "cell_type": "code",
   "execution_count": 55,
   "metadata": {},
   "outputs": [],
   "source": [
    "import pandas as pd\n",
    "import numpy as np\n",
    "import datetime as dt\n",
    "import re"
   ]
  },
  {
   "cell_type": "code",
   "execution_count": 43,
   "metadata": {},
   "outputs": [],
   "source": [
    "df_tickets =pd.read_csv(\"DATOS/tickets_completo.csv\")\n",
    "df_años = pd.read_csv(\"DATOS/PairPandasV-1.csv\")\n",
    "df_empleados = pd.read_csv(\"DATOS/empleados_tickets.csv\")"
   ]
  },
  {
   "cell_type": "code",
   "execution_count": 44,
   "metadata": {},
   "outputs": [
    {
     "data": {
      "text/html": [
       "<div>\n",
       "<style scoped>\n",
       "    .dataframe tbody tr th:only-of-type {\n",
       "        vertical-align: middle;\n",
       "    }\n",
       "\n",
       "    .dataframe tbody tr th {\n",
       "        vertical-align: top;\n",
       "    }\n",
       "\n",
       "    .dataframe thead th {\n",
       "        text-align: right;\n",
       "    }\n",
       "</style>\n",
       "<table border=\"1\" class=\"dataframe\">\n",
       "  <thead>\n",
       "    <tr style=\"text-align: right;\">\n",
       "      <th></th>\n",
       "      <th>Unnamed: 0</th>\n",
       "      <th>Unnamed: 0.1</th>\n",
       "      <th>id_ticket</th>\n",
       "      <th>fecha</th>\n",
       "      <th>id_empleado</th>\n",
       "      <th>id_agente</th>\n",
       "      <th>categoría</th>\n",
       "      <th>tipo</th>\n",
       "      <th>severidad</th>\n",
       "      <th>prioridad</th>\n",
       "      <th>días_resolución</th>\n",
       "      <th>satisfacción</th>\n",
       "      <th>año</th>\n",
       "      <th>mes</th>\n",
       "      <th>semestre</th>\n",
       "    </tr>\n",
       "  </thead>\n",
       "  <tbody>\n",
       "    <tr>\n",
       "      <th>0</th>\n",
       "      <td>0</td>\n",
       "      <td>0</td>\n",
       "      <td>GDDENR-5042564453</td>\n",
       "      <td>2016-07-13</td>\n",
       "      <td>1735.0</td>\n",
       "      <td>4.0</td>\n",
       "      <td>Acceso&amp;%Login</td>\n",
       "      <td>Problema</td>\n",
       "      <td>0 - Sin Clasificar</td>\n",
       "      <td>0 - Sin Asignar</td>\n",
       "      <td>0.0</td>\n",
       "      <td>5.0</td>\n",
       "      <td>2016</td>\n",
       "      <td>7</td>\n",
       "      <td>semestre2</td>\n",
       "    </tr>\n",
       "    <tr>\n",
       "      <th>1</th>\n",
       "      <td>1</td>\n",
       "      <td>1</td>\n",
       "      <td>GDDENR-8042508060</td>\n",
       "      <td>2016-05-18</td>\n",
       "      <td>1566.0</td>\n",
       "      <td>10.0</td>\n",
       "      <td>Acceso&amp;%Login</td>\n",
       "      <td>Problema</td>\n",
       "      <td>0 - Sin Clasificar</td>\n",
       "      <td>0 - Sin Asignar</td>\n",
       "      <td>0.0</td>\n",
       "      <td>5.0</td>\n",
       "      <td>2016</td>\n",
       "      <td>5</td>\n",
       "      <td>semestre1</td>\n",
       "    </tr>\n",
       "  </tbody>\n",
       "</table>\n",
       "</div>"
      ],
      "text/plain": [
       "   Unnamed: 0  Unnamed: 0.1          id_ticket       fecha  id_empleado  \\\n",
       "0           0             0  GDDENR-5042564453  2016-07-13       1735.0   \n",
       "1           1             1  GDDENR-8042508060  2016-05-18       1566.0   \n",
       "\n",
       "   id_agente      categoría      tipo           severidad        prioridad  \\\n",
       "0        4.0  Acceso&%Login  Problema  0 - Sin Clasificar  0 - Sin Asignar   \n",
       "1       10.0  Acceso&%Login  Problema  0 - Sin Clasificar  0 - Sin Asignar   \n",
       "\n",
       "   días_resolución  satisfacción   año  mes   semestre  \n",
       "0              0.0           5.0  2016    7  semestre2  \n",
       "1              0.0           5.0  2016    5  semestre1  "
      ]
     },
     "execution_count": 44,
     "metadata": {},
     "output_type": "execute_result"
    }
   ],
   "source": [
    "df_tickets.head(2)"
   ]
  },
  {
   "cell_type": "code",
   "execution_count": 45,
   "metadata": {},
   "outputs": [
    {
     "data": {
      "text/plain": [
       "str"
      ]
     },
     "execution_count": 45,
     "metadata": {},
     "output_type": "execute_result"
    }
   ],
   "source": [
    "type(df_tickets[\"fecha\"][0])"
   ]
  },
  {
   "cell_type": "code",
   "execution_count": 46,
   "metadata": {},
   "outputs": [],
   "source": [
    "df_tickets[\"fecha\"] = df_tickets[\"fecha\"].apply(pd.to_datetime)"
   ]
  },
  {
   "cell_type": "markdown",
   "metadata": {},
   "source": [
    "<p>1. Cread una columna nueva y una función que nos de el mes en el que se solicitó el servicio. Tened en cuenta que todas las filas tienen la misma estructura. A la hora de escribir la función debemos tener en cuenta que puede que no haya la información de mes en la columna de la fecha. En ese caso devolved un nulo (NaN).</p>\n",
    "<p>📌 Nota La fecha tendrá que ir formato de string como \"Enero\", \"Febrero\", etc.</p>\n",
    "<p>💡 Pista 💡Podréis usar regex, pero no es estrictamente necesario.</p>"
   ]
  },
  {
   "cell_type": "code",
   "execution_count": 47,
   "metadata": {},
   "outputs": [],
   "source": [
    "def devolver_mes(fecha):\n",
    "    try:\n",
    "        return fecha.strftime(\"%B\")\n",
    "    except:\n",
    "        return np.nan"
   ]
  },
  {
   "cell_type": "code",
   "execution_count": 48,
   "metadata": {},
   "outputs": [],
   "source": [
    "df_tickets[\"mes2\"]=df_tickets[\"fecha\"].apply(devolver_mes)"
   ]
  },
  {
   "cell_type": "code",
   "execution_count": 49,
   "metadata": {},
   "outputs": [
    {
     "data": {
      "text/html": [
       "<div>\n",
       "<style scoped>\n",
       "    .dataframe tbody tr th:only-of-type {\n",
       "        vertical-align: middle;\n",
       "    }\n",
       "\n",
       "    .dataframe tbody tr th {\n",
       "        vertical-align: top;\n",
       "    }\n",
       "\n",
       "    .dataframe thead th {\n",
       "        text-align: right;\n",
       "    }\n",
       "</style>\n",
       "<table border=\"1\" class=\"dataframe\">\n",
       "  <thead>\n",
       "    <tr style=\"text-align: right;\">\n",
       "      <th></th>\n",
       "      <th>Unnamed: 0</th>\n",
       "      <th>Unnamed: 0.1</th>\n",
       "      <th>id_ticket</th>\n",
       "      <th>fecha</th>\n",
       "      <th>id_empleado</th>\n",
       "      <th>id_agente</th>\n",
       "      <th>categoría</th>\n",
       "      <th>tipo</th>\n",
       "      <th>severidad</th>\n",
       "      <th>prioridad</th>\n",
       "      <th>días_resolución</th>\n",
       "      <th>satisfacción</th>\n",
       "      <th>año</th>\n",
       "      <th>mes</th>\n",
       "      <th>semestre</th>\n",
       "      <th>mes2</th>\n",
       "    </tr>\n",
       "  </thead>\n",
       "  <tbody>\n",
       "    <tr>\n",
       "      <th>96807</th>\n",
       "      <td>96919</td>\n",
       "      <td>28509</td>\n",
       "      <td>TWLTNR-0144067387</td>\n",
       "      <td>2020-08-24</td>\n",
       "      <td>1548.0</td>\n",
       "      <td>23.0</td>\n",
       "      <td>Acceso/Login</td>\n",
       "      <td>Solicitud</td>\n",
       "      <td>2 - Normal</td>\n",
       "      <td>1 - Baja</td>\n",
       "      <td>1.0</td>\n",
       "      <td>4.0</td>\n",
       "      <td>2020</td>\n",
       "      <td>8</td>\n",
       "      <td>semestre2</td>\n",
       "      <td>August</td>\n",
       "    </tr>\n",
       "    <tr>\n",
       "      <th>64846</th>\n",
       "      <td>64958</td>\n",
       "      <td>18038</td>\n",
       "      <td>TDLTSR-5043594696</td>\n",
       "      <td>2019-05-09</td>\n",
       "      <td>1049.0</td>\n",
       "      <td>6.0</td>\n",
       "      <td>Sistema</td>\n",
       "      <td>Solicitud</td>\n",
       "      <td>2 - Normal</td>\n",
       "      <td>0 - Sin Asignar</td>\n",
       "      <td>14.0</td>\n",
       "      <td>5.0</td>\n",
       "      <td>2019</td>\n",
       "      <td>5</td>\n",
       "      <td>semestre1</td>\n",
       "      <td>May</td>\n",
       "    </tr>\n",
       "  </tbody>\n",
       "</table>\n",
       "</div>"
      ],
      "text/plain": [
       "       Unnamed: 0  Unnamed: 0.1          id_ticket      fecha  id_empleado  \\\n",
       "96807       96919         28509  TWLTNR-0144067387 2020-08-24       1548.0   \n",
       "64846       64958         18038  TDLTSR-5043594696 2019-05-09       1049.0   \n",
       "\n",
       "       id_agente     categoría       tipo   severidad        prioridad  \\\n",
       "96807       23.0  Acceso/Login  Solicitud  2 - Normal         1 - Baja   \n",
       "64846        6.0       Sistema  Solicitud  2 - Normal  0 - Sin Asignar   \n",
       "\n",
       "       días_resolución  satisfacción   año  mes   semestre    mes2  \n",
       "96807              1.0           4.0  2020    8  semestre2  August  \n",
       "64846             14.0           5.0  2019    5  semestre1     May  "
      ]
     },
     "execution_count": 49,
     "metadata": {},
     "output_type": "execute_result"
    }
   ],
   "source": [
    "df_tickets.sample(2)"
   ]
  },
  {
   "cell_type": "markdown",
   "metadata": {},
   "source": [
    "<p>2. En la tabla de empleados, tenemos los nombres y los apellidos de los empleados, pero en columnas separadas. En los ejercicios de pair de la lección del groupby vimos que si quisieramos agrupar por los nombres, esto se nos puede complicar. Ahora nos piden que creemos una columna donde tengamos el nombre y el apellido juntos.</p>\n",
    "<p>📌 NOTA La columna nueva debe tener el nombre y apellido con la primera letra en mayúsculas, por ejemplo \"Jesús Villa\".</p>\n",
    "<p>📌 NOTA Una vez hallamos creado la columna nueva, eliminad las columnas de nombre y apellido originales.</p>"
   ]
  },
  {
   "cell_type": "code",
   "execution_count": 50,
   "metadata": {},
   "outputs": [
    {
     "data": {
      "text/html": [
       "<div>\n",
       "<style scoped>\n",
       "    .dataframe tbody tr th:only-of-type {\n",
       "        vertical-align: middle;\n",
       "    }\n",
       "\n",
       "    .dataframe tbody tr th {\n",
       "        vertical-align: top;\n",
       "    }\n",
       "\n",
       "    .dataframe thead th {\n",
       "        text-align: right;\n",
       "    }\n",
       "</style>\n",
       "<table border=\"1\" class=\"dataframe\">\n",
       "  <thead>\n",
       "    <tr style=\"text-align: right;\">\n",
       "      <th></th>\n",
       "      <th>Unnamed: 0</th>\n",
       "      <th>id_ticket</th>\n",
       "      <th>fecha</th>\n",
       "      <th>id_empleado</th>\n",
       "      <th>id_agente</th>\n",
       "      <th>categoría</th>\n",
       "      <th>tipo</th>\n",
       "      <th>severidad</th>\n",
       "      <th>prioridad</th>\n",
       "      <th>días_resolución</th>\n",
       "      <th>...</th>\n",
       "      <th>año</th>\n",
       "      <th>Unnamed: 0_y</th>\n",
       "      <th>id_puesto</th>\n",
       "      <th>puesto</th>\n",
       "      <th>departamento</th>\n",
       "      <th>tipo_puesto</th>\n",
       "      <th>turno</th>\n",
       "      <th>apellido</th>\n",
       "      <th>nombre</th>\n",
       "      <th>email</th>\n",
       "    </tr>\n",
       "  </thead>\n",
       "  <tbody>\n",
       "    <tr>\n",
       "      <th>85198</th>\n",
       "      <td>85198</td>\n",
       "      <td>GDLESR-7443941549</td>\n",
       "      <td>2020-04-20 00:00:00</td>\n",
       "      <td>214.0</td>\n",
       "      <td>45.0</td>\n",
       "      <td>Sistema</td>\n",
       "      <td>Problema</td>\n",
       "      <td>2 - Normal</td>\n",
       "      <td>0 - Sin Asignar</td>\n",
       "      <td>4.0</td>\n",
       "      <td>...</td>\n",
       "      <td>2020</td>\n",
       "      <td>144</td>\n",
       "      <td>15-24000</td>\n",
       "      <td>Gerente de Producción</td>\n",
       "      <td>PRODUCCION</td>\n",
       "      <td>Gerencia</td>\n",
       "      <td>NaN</td>\n",
       "      <td>Velez</td>\n",
       "      <td>Carmen</td>\n",
       "      <td>carmen .velez@tractchun.com</td>\n",
       "    </tr>\n",
       "    <tr>\n",
       "      <th>42074</th>\n",
       "      <td>42074</td>\n",
       "      <td>TDLESR-0643274925</td>\n",
       "      <td>2018-06-23 00:00:00</td>\n",
       "      <td>352.0</td>\n",
       "      <td>39.0</td>\n",
       "      <td>Sistema</td>\n",
       "      <td>Problema</td>\n",
       "      <td>2 - Normal</td>\n",
       "      <td>0 - Sin Asignar</td>\n",
       "      <td>16.0</td>\n",
       "      <td>...</td>\n",
       "      <td>2018</td>\n",
       "      <td>1310</td>\n",
       "      <td>55-23200</td>\n",
       "      <td>Ingeniero de Manufactura</td>\n",
       "      <td>INGENIERIA DE MANUFACTURA</td>\n",
       "      <td>Operativo</td>\n",
       "      <td>NaN</td>\n",
       "      <td>PADILLA</td>\n",
       "      <td>MARIA</td>\n",
       "      <td>maria.padilla@tractchun.com</td>\n",
       "    </tr>\n",
       "  </tbody>\n",
       "</table>\n",
       "<p>2 rows × 21 columns</p>\n",
       "</div>"
      ],
      "text/plain": [
       "       Unnamed: 0          id_ticket                fecha  id_empleado  \\\n",
       "85198       85198  GDLESR-7443941549  2020-04-20 00:00:00        214.0   \n",
       "42074       42074  TDLESR-0643274925  2018-06-23 00:00:00        352.0   \n",
       "\n",
       "       id_agente categoría      tipo   severidad        prioridad  \\\n",
       "85198       45.0   Sistema  Problema  2 - Normal  0 - Sin Asignar   \n",
       "42074       39.0   Sistema  Problema  2 - Normal  0 - Sin Asignar   \n",
       "\n",
       "       días_resolución  ...   año  Unnamed: 0_y  id_puesto  \\\n",
       "85198              4.0  ...  2020           144   15-24000   \n",
       "42074             16.0  ...  2018          1310   55-23200   \n",
       "\n",
       "                         puesto               departamento tipo_puesto turno  \\\n",
       "85198     Gerente de Producción                 PRODUCCION    Gerencia   NaN   \n",
       "42074  Ingeniero de Manufactura  INGENIERIA DE MANUFACTURA   Operativo   NaN   \n",
       "\n",
       "      apellido   nombre                        email  \n",
       "85198    Velez  Carmen   carmen .velez@tractchun.com  \n",
       "42074  PADILLA    MARIA  maria.padilla@tractchun.com  \n",
       "\n",
       "[2 rows x 21 columns]"
      ]
     },
     "execution_count": 50,
     "metadata": {},
     "output_type": "execute_result"
    }
   ],
   "source": [
    "df_empleados.sample(2)"
   ]
  },
  {
   "cell_type": "code",
   "execution_count": 52,
   "metadata": {},
   "outputs": [
    {
     "data": {
      "text/plain": [
       "array(['Acceso&%Login', 'Sistema', 'Acceso%&Login', 'Software',\n",
       "       'Hardware', 'Acceso-&Login', 'Acceso99Login', 'Acceso/Login', nan],\n",
       "      dtype=object)"
      ]
     },
     "execution_count": 52,
     "metadata": {},
     "output_type": "execute_result"
    }
   ],
   "source": [
    "df_empleados[\"categoría\"].unique()"
   ]
  },
  {
   "cell_type": "code",
   "execution_count": 67,
   "metadata": {},
   "outputs": [],
   "source": [
    "var = \"Sistema\""
   ]
  },
  {
   "cell_type": "code",
   "execution_count": 68,
   "metadata": {},
   "outputs": [
    {
     "data": {
      "text/plain": [
       "'Sistema'"
      ]
     },
     "execution_count": 68,
     "metadata": {},
     "output_type": "execute_result"
    }
   ],
   "source": [
    "l = re.findall(\"[A-Z|a-z]+\",var)\n",
    "f = \"/\".join(l)\n",
    "f"
   ]
  },
  {
   "cell_type": "code",
   "execution_count": 71,
   "metadata": {},
   "outputs": [],
   "source": [
    "def combinar_columnas(col1, col2):\n",
    "    try:\n",
    "        return (col1 + \" \"+col2).title()\n",
    "    except:\n",
    "        return np.nan \n"
   ]
  },
  {
   "cell_type": "code",
   "execution_count": 72,
   "metadata": {},
   "outputs": [],
   "source": [
    "df_empleados[\"nombres\"] = df_empleados.apply(lambda dataframe: combinar_columnas(dataframe[\"nombre\"],dataframe[\"apellido\"]), axis = 1)"
   ]
  },
  {
   "cell_type": "code",
   "execution_count": 73,
   "metadata": {},
   "outputs": [
    {
     "data": {
      "text/html": [
       "<div>\n",
       "<style scoped>\n",
       "    .dataframe tbody tr th:only-of-type {\n",
       "        vertical-align: middle;\n",
       "    }\n",
       "\n",
       "    .dataframe tbody tr th {\n",
       "        vertical-align: top;\n",
       "    }\n",
       "\n",
       "    .dataframe thead th {\n",
       "        text-align: right;\n",
       "    }\n",
       "</style>\n",
       "<table border=\"1\" class=\"dataframe\">\n",
       "  <thead>\n",
       "    <tr style=\"text-align: right;\">\n",
       "      <th></th>\n",
       "      <th>Unnamed: 0</th>\n",
       "      <th>id_ticket</th>\n",
       "      <th>fecha</th>\n",
       "      <th>id_empleado</th>\n",
       "      <th>id_agente</th>\n",
       "      <th>categoría</th>\n",
       "      <th>tipo</th>\n",
       "      <th>severidad</th>\n",
       "      <th>prioridad</th>\n",
       "      <th>días_resolución</th>\n",
       "      <th>...</th>\n",
       "      <th>Unnamed: 0_y</th>\n",
       "      <th>id_puesto</th>\n",
       "      <th>puesto</th>\n",
       "      <th>departamento</th>\n",
       "      <th>tipo_puesto</th>\n",
       "      <th>turno</th>\n",
       "      <th>apellido</th>\n",
       "      <th>nombre</th>\n",
       "      <th>email</th>\n",
       "      <th>nombres</th>\n",
       "    </tr>\n",
       "  </thead>\n",
       "  <tbody>\n",
       "    <tr>\n",
       "      <th>38590</th>\n",
       "      <td>38590</td>\n",
       "      <td>KMLTSR-8742843787</td>\n",
       "      <td>2017-04-18 00:00:00</td>\n",
       "      <td>188.0</td>\n",
       "      <td>27.0</td>\n",
       "      <td>Sistema</td>\n",
       "      <td>Solicitud</td>\n",
       "      <td>2 - Normal</td>\n",
       "      <td>2 - Media</td>\n",
       "      <td>7.0</td>\n",
       "      <td>...</td>\n",
       "      <td>319</td>\n",
       "      <td>15-24100</td>\n",
       "      <td>Supervisor de Producción</td>\n",
       "      <td>PRODUCCION</td>\n",
       "      <td>Mandos Medios</td>\n",
       "      <td>NaN</td>\n",
       "      <td>BARRAZA</td>\n",
       "      <td>GREGORIA</td>\n",
       "      <td>gregoria.barraza@tractchun.com</td>\n",
       "      <td>Gregoria Barraza</td>\n",
       "    </tr>\n",
       "    <tr>\n",
       "      <th>74248</th>\n",
       "      <td>74248</td>\n",
       "      <td>GWLTNR-8043501683</td>\n",
       "      <td>2019-02-05 00:00:00</td>\n",
       "      <td>1878.0</td>\n",
       "      <td>26.0</td>\n",
       "      <td>Acceso99Login</td>\n",
       "      <td>Solicitud</td>\n",
       "      <td>2 - Normal</td>\n",
       "      <td>1 - Baja</td>\n",
       "      <td>0.0</td>\n",
       "      <td>...</td>\n",
       "      <td>124</td>\n",
       "      <td>15-22210</td>\n",
       "      <td>Supervisor de Mantenimiento</td>\n",
       "      <td>PRODUCCION</td>\n",
       "      <td>Mandos Medios</td>\n",
       "      <td>NaN</td>\n",
       "      <td>Zea</td>\n",
       "      <td>Jairo</td>\n",
       "      <td>jairo.zea@tractchun.com</td>\n",
       "      <td>Jairo Zea</td>\n",
       "    </tr>\n",
       "  </tbody>\n",
       "</table>\n",
       "<p>2 rows × 22 columns</p>\n",
       "</div>"
      ],
      "text/plain": [
       "       Unnamed: 0          id_ticket                fecha  id_empleado  \\\n",
       "38590       38590  KMLTSR-8742843787  2017-04-18 00:00:00        188.0   \n",
       "74248       74248  GWLTNR-8043501683  2019-02-05 00:00:00       1878.0   \n",
       "\n",
       "       id_agente      categoría       tipo   severidad  prioridad  \\\n",
       "38590       27.0        Sistema  Solicitud  2 - Normal  2 - Media   \n",
       "74248       26.0  Acceso99Login  Solicitud  2 - Normal   1 - Baja   \n",
       "\n",
       "       días_resolución  ...  Unnamed: 0_y  id_puesto  \\\n",
       "38590              7.0  ...           319   15-24100   \n",
       "74248              0.0  ...           124   15-22210   \n",
       "\n",
       "                            puesto departamento    tipo_puesto turno apellido  \\\n",
       "38590     Supervisor de Producción   PRODUCCION  Mandos Medios   NaN  BARRAZA   \n",
       "74248  Supervisor de Mantenimiento   PRODUCCION  Mandos Medios   NaN      Zea   \n",
       "\n",
       "         nombre                           email           nombres  \n",
       "38590  GREGORIA  gregoria.barraza@tractchun.com  Gregoria Barraza  \n",
       "74248     Jairo         jairo.zea@tractchun.com         Jairo Zea  \n",
       "\n",
       "[2 rows x 22 columns]"
      ]
     },
     "execution_count": 73,
     "metadata": {},
     "output_type": "execute_result"
    }
   ],
   "source": [
    "df_empleados.sample(2)"
   ]
  },
  {
   "cell_type": "code",
   "execution_count": 74,
   "metadata": {},
   "outputs": [],
   "source": [
    "df_empleados.drop(columns=[\"nombre\", \"apellido\"], inplace = True)"
   ]
  },
  {
   "cell_type": "code",
   "execution_count": 75,
   "metadata": {},
   "outputs": [
    {
     "data": {
      "text/html": [
       "<div>\n",
       "<style scoped>\n",
       "    .dataframe tbody tr th:only-of-type {\n",
       "        vertical-align: middle;\n",
       "    }\n",
       "\n",
       "    .dataframe tbody tr th {\n",
       "        vertical-align: top;\n",
       "    }\n",
       "\n",
       "    .dataframe thead th {\n",
       "        text-align: right;\n",
       "    }\n",
       "</style>\n",
       "<table border=\"1\" class=\"dataframe\">\n",
       "  <thead>\n",
       "    <tr style=\"text-align: right;\">\n",
       "      <th></th>\n",
       "      <th>Unnamed: 0</th>\n",
       "      <th>id_ticket</th>\n",
       "      <th>fecha</th>\n",
       "      <th>id_empleado</th>\n",
       "      <th>id_agente</th>\n",
       "      <th>categoría</th>\n",
       "      <th>tipo</th>\n",
       "      <th>severidad</th>\n",
       "      <th>prioridad</th>\n",
       "      <th>días_resolución</th>\n",
       "      <th>satisfacción</th>\n",
       "      <th>año</th>\n",
       "      <th>Unnamed: 0_y</th>\n",
       "      <th>id_puesto</th>\n",
       "      <th>puesto</th>\n",
       "      <th>departamento</th>\n",
       "      <th>tipo_puesto</th>\n",
       "      <th>turno</th>\n",
       "      <th>email</th>\n",
       "      <th>nombres</th>\n",
       "    </tr>\n",
       "  </thead>\n",
       "  <tbody>\n",
       "    <tr>\n",
       "      <th>95412</th>\n",
       "      <td>95412</td>\n",
       "      <td>SDLTNR-5044196094</td>\n",
       "      <td>2020-12-31 00:00:00</td>\n",
       "      <td>1819.0</td>\n",
       "      <td>50.0</td>\n",
       "      <td>Acceso/Login</td>\n",
       "      <td>Solicitud</td>\n",
       "      <td>2 - Normal</td>\n",
       "      <td>0 - Sin Asignar</td>\n",
       "      <td>0.0</td>\n",
       "      <td>4.0</td>\n",
       "      <td>2020</td>\n",
       "      <td>817</td>\n",
       "      <td>30-13400</td>\n",
       "      <td>Auditor interno de calidad</td>\n",
       "      <td>AUDITORIA INTERNA, CALIBRACION Y METROLOGIA</td>\n",
       "      <td>Administrativo</td>\n",
       "      <td>NaN</td>\n",
       "      <td>agapita.valencia@tractchun.com</td>\n",
       "      <td>Agapita Valencia</td>\n",
       "    </tr>\n",
       "    <tr>\n",
       "      <th>7913</th>\n",
       "      <td>7913</td>\n",
       "      <td>SDLTER-3042622202</td>\n",
       "      <td>2016-09-09</td>\n",
       "      <td>1170.0</td>\n",
       "      <td>32.0</td>\n",
       "      <td>Software</td>\n",
       "      <td>Solicitud</td>\n",
       "      <td>2 - Normal</td>\n",
       "      <td>0 - Sin Asignar</td>\n",
       "      <td>10.0</td>\n",
       "      <td>4.0</td>\n",
       "      <td>2016</td>\n",
       "      <td>1986</td>\n",
       "      <td>90-14100</td>\n",
       "      <td>Ingeniero de Calidad</td>\n",
       "      <td>INGENIERIA DE CALIDAD</td>\n",
       "      <td>Operativo</td>\n",
       "      <td>NaN</td>\n",
       "      <td>daniel.valencia@tractchun.com</td>\n",
       "      <td>Daniel Valencia</td>\n",
       "    </tr>\n",
       "  </tbody>\n",
       "</table>\n",
       "</div>"
      ],
      "text/plain": [
       "       Unnamed: 0          id_ticket                fecha  id_empleado  \\\n",
       "95412       95412  SDLTNR-5044196094  2020-12-31 00:00:00       1819.0   \n",
       "7913         7913  SDLTER-3042622202           2016-09-09       1170.0   \n",
       "\n",
       "       id_agente     categoría       tipo   severidad        prioridad  \\\n",
       "95412       50.0  Acceso/Login  Solicitud  2 - Normal  0 - Sin Asignar   \n",
       "7913        32.0      Software  Solicitud  2 - Normal  0 - Sin Asignar   \n",
       "\n",
       "       días_resolución  satisfacción   año  Unnamed: 0_y id_puesto  \\\n",
       "95412              0.0           4.0  2020           817  30-13400   \n",
       "7913              10.0           4.0  2016          1986  90-14100   \n",
       "\n",
       "                           puesto  \\\n",
       "95412  Auditor interno de calidad   \n",
       "7913         Ingeniero de Calidad   \n",
       "\n",
       "                                      departamento     tipo_puesto turno  \\\n",
       "95412  AUDITORIA INTERNA, CALIBRACION Y METROLOGIA  Administrativo   NaN   \n",
       "7913                         INGENIERIA DE CALIDAD       Operativo   NaN   \n",
       "\n",
       "                                email           nombres  \n",
       "95412  agapita.valencia@tractchun.com  Agapita Valencia  \n",
       "7913    daniel.valencia@tractchun.com   Daniel Valencia  "
      ]
     },
     "execution_count": 75,
     "metadata": {},
     "output_type": "execute_result"
    }
   ],
   "source": [
    "df_empleados.sample(2)"
   ]
  },
  {
   "cell_type": "markdown",
   "metadata": {},
   "source": [
    "<p>3. En el pair programming desde a dirección nos pedían que agruparamos los datos en base a la columna de \"categoría\", puede que en aquel momento nos dieramos cuenta que había varías categorías que eran igual (en concreto \"Acceso Login\") pero que en algunos casos tenía unos símbolos raros (&, %, -). Es el momento de limpiar esta columna. El objetivo, reemplazar todos estos símbolos raros por \"/\", para conseguir homogeneizar los valores de esta columna. Para ellos deberemos crear una función.</p>"
   ]
  },
  {
   "cell_type": "code",
   "execution_count": 76,
   "metadata": {},
   "outputs": [],
   "source": [
    "def limpieza_datos(string):\n",
    "    try:\n",
    "        l = re.findall(\"[A-Z|a-z]+\",string)\n",
    "        f = \"/\".join(l)\n",
    "        return f\n",
    "    except:\n",
    "        return np.nan\n"
   ]
  },
  {
   "cell_type": "code",
   "execution_count": 77,
   "metadata": {},
   "outputs": [],
   "source": [
    "df_empleados[\"categoría\"] = df_empleados[\"categoría\"].apply(limpieza_datos)"
   ]
  },
  {
   "cell_type": "code",
   "execution_count": 78,
   "metadata": {},
   "outputs": [
    {
     "data": {
      "text/plain": [
       "array(['Acceso/Login', 'Sistema', 'Software', 'Hardware', nan],\n",
       "      dtype=object)"
      ]
     },
     "execution_count": 78,
     "metadata": {},
     "output_type": "execute_result"
    }
   ],
   "source": [
    "df_empleados[\"categoría\"].unique()"
   ]
  },
  {
   "cell_type": "markdown",
   "metadata": {},
   "source": [
    "<p>4. Una vez que hayáis terminado eliminad las columnas originales conservando las nuevas.</p>"
   ]
  },
  {
   "cell_type": "code",
   "execution_count": null,
   "metadata": {},
   "outputs": [],
   "source": [
    "#Lo hemos sobreescrito"
   ]
  },
  {
   "cell_type": "markdown",
   "metadata": {},
   "source": [
    "<p>5. Guardad el dataframe en un csv que usaremos más adelante. </p>"
   ]
  },
  {
   "cell_type": "code",
   "execution_count": 80,
   "metadata": {},
   "outputs": [],
   "source": [
    "df_empleados.to_csv(\"DATOS/PairPandas7.csv\")"
   ]
  }
 ],
 "metadata": {
  "kernelspec": {
   "display_name": "base",
   "language": "python",
   "name": "python3"
  },
  "language_info": {
   "codemirror_mode": {
    "name": "ipython",
    "version": 3
   },
   "file_extension": ".py",
   "mimetype": "text/x-python",
   "name": "python",
   "nbconvert_exporter": "python",
   "pygments_lexer": "ipython3",
   "version": "3.9.7"
  },
  "orig_nbformat": 4
 },
 "nbformat": 4,
 "nbformat_minor": 2
}
